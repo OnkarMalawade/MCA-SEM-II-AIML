{
  "nbformat": 4,
  "nbformat_minor": 0,
  "metadata": {
    "colab": {
      "provenance": [],
      "authorship_tag": "ABX9TyOin146FRf2ZywnMUuQXUvj",
      "include_colab_link": true
    },
    "kernelspec": {
      "name": "python3",
      "display_name": "Python 3"
    },
    "language_info": {
      "name": "python"
    }
  },
  "cells": [
    {
      "cell_type": "markdown",
      "metadata": {
        "id": "view-in-github",
        "colab_type": "text"
      },
      "source": [
        "<a href=\"https://colab.research.google.com/github/OnkarMalawade/MCA-SEM-II-AIML/blob/main/Practical_On_Python.ipynb\" target=\"_parent\"><img src=\"https://colab.research.google.com/assets/colab-badge.svg\" alt=\"Open In Colab\"/></a>"
      ]
    },
    {
      "cell_type": "code",
      "execution_count": 1,
      "metadata": {
        "colab": {
          "base_uri": "https://localhost:8080/"
        },
        "id": "oKSXlo8YlmXp",
        "outputId": "be3cfc18-1c9f-4c15-b07d-50eeedcfc5fe"
      },
      "outputs": [
        {
          "output_type": "stream",
          "name": "stdout",
          "text": [
            "Hello\n"
          ]
        }
      ],
      "source": [
        "print(\"Hello\")\n"
      ]
    },
    {
      "cell_type": "code",
      "source": [
        "student = \"Ramesh\"\n",
        "student"
      ],
      "metadata": {
        "colab": {
          "base_uri": "https://localhost:8080/",
          "height": 36
        },
        "id": "JfDKKprylx3u",
        "outputId": "3aeb7c8b-9df3-4eb6-da21-ff75248a1649"
      },
      "execution_count": 2,
      "outputs": [
        {
          "output_type": "execute_result",
          "data": {
            "text/plain": [
              "'Ramesh'"
            ],
            "application/vnd.google.colaboratory.intrinsic+json": {
              "type": "string"
            }
          },
          "metadata": {},
          "execution_count": 2
        }
      ]
    },
    {
      "cell_type": "code",
      "source": [
        "a1 = 10\n",
        "type(a1)\n",
        "type(student)"
      ],
      "metadata": {
        "colab": {
          "base_uri": "https://localhost:8080/"
        },
        "id": "rRkyif_8l3nu",
        "outputId": "d361be2c-7f11-445c-c94d-64827a734e0e"
      },
      "execution_count": 3,
      "outputs": [
        {
          "output_type": "execute_result",
          "data": {
            "text/plain": [
              "str"
            ]
          },
          "metadata": {},
          "execution_count": 3
        }
      ]
    },
    {
      "cell_type": "code",
      "source": [
        "a1 = 20\n",
        "type(a1)"
      ],
      "metadata": {
        "colab": {
          "base_uri": "https://localhost:8080/"
        },
        "id": "nyQm9JDjmCTb",
        "outputId": "a10ddc58-b671-4f10-b3e7-df89e3dc62b4"
      },
      "execution_count": 4,
      "outputs": [
        {
          "output_type": "execute_result",
          "data": {
            "text/plain": [
              "int"
            ]
          },
          "metadata": {},
          "execution_count": 4
        }
      ]
    },
    {
      "cell_type": "code",
      "source": [
        "a1 = 10\n",
        "a2 = 20\n",
        "a3 = a1*a2\n",
        "a3"
      ],
      "metadata": {
        "colab": {
          "base_uri": "https://localhost:8080/"
        },
        "id": "6Dh7jiKAmUZ6",
        "outputId": "6fffdd26-2369-4f26-bb40-8b1d24530134"
      },
      "execution_count": 6,
      "outputs": [
        {
          "output_type": "execute_result",
          "data": {
            "text/plain": [
              "200"
            ]
          },
          "metadata": {},
          "execution_count": 6
        }
      ]
    },
    {
      "cell_type": "code",
      "source": [
        "a1 != a2"
      ],
      "metadata": {
        "colab": {
          "base_uri": "https://localhost:8080/"
        },
        "id": "5sohX5ZFmlj_",
        "outputId": "157cfb51-581f-4485-b5dd-103eca4759d4"
      },
      "execution_count": 7,
      "outputs": [
        {
          "output_type": "execute_result",
          "data": {
            "text/plain": [
              "True"
            ]
          },
          "metadata": {},
          "execution_count": 7
        }
      ]
    },
    {
      "cell_type": "code",
      "source": [
        "True = 1"
      ],
      "metadata": {
        "colab": {
          "base_uri": "https://localhost:8080/",
          "height": 106
        },
        "id": "qx1iRjBYm9hL",
        "outputId": "8ff2cd82-352b-41a1-ea99-7d0c1194a375"
      },
      "execution_count": 8,
      "outputs": [
        {
          "output_type": "error",
          "ename": "SyntaxError",
          "evalue": "cannot assign to True (<ipython-input-8-1598b51f0f76>, line 1)",
          "traceback": [
            "\u001b[0;36m  File \u001b[0;32m\"<ipython-input-8-1598b51f0f76>\"\u001b[0;36m, line \u001b[0;32m1\u001b[0m\n\u001b[0;31m    True = 1\u001b[0m\n\u001b[0m    ^\u001b[0m\n\u001b[0;31mSyntaxError\u001b[0m\u001b[0;31m:\u001b[0m cannot assign to True\n"
          ]
        }
      ]
    },
    {
      "cell_type": "code",
      "source": [
        "str1 = \"Onkar is Business Guy\"\n",
        "str1"
      ],
      "metadata": {
        "colab": {
          "base_uri": "https://localhost:8080/",
          "height": 36
        },
        "id": "zGcpn99UnCm6",
        "outputId": "8f279b53-3cbb-48fe-9724-8ccc9f4d0071"
      },
      "execution_count": 9,
      "outputs": [
        {
          "output_type": "execute_result",
          "data": {
            "text/plain": [
              "'Onkar is Business Guy'"
            ],
            "application/vnd.google.colaboratory.intrinsic+json": {
              "type": "string"
            }
          },
          "metadata": {},
          "execution_count": 9
        }
      ]
    },
    {
      "cell_type": "code",
      "source": [
        "str2 = '''\n",
        "Onkar\n",
        "is\n",
        "King\n",
        "'''\n",
        "str2"
      ],
      "metadata": {
        "colab": {
          "base_uri": "https://localhost:8080/",
          "height": 36
        },
        "id": "ISBBnHOInNUs",
        "outputId": "77a48748-56b7-4569-f185-1d8c759a7073"
      },
      "execution_count": 11,
      "outputs": [
        {
          "output_type": "execute_result",
          "data": {
            "text/plain": [
              "'\\nOnkar \\nis\\nKing\\n'"
            ],
            "application/vnd.google.colaboratory.intrinsic+json": {
              "type": "string"
            }
          },
          "metadata": {},
          "execution_count": 11
        }
      ]
    },
    {
      "cell_type": "code",
      "source": [
        "str2[0:6]"
      ],
      "metadata": {
        "colab": {
          "base_uri": "https://localhost:8080/",
          "height": 36
        },
        "id": "6ntXCrhlnifW",
        "outputId": "a6c5dd2b-1606-4666-c6f7-3eb973daa115"
      },
      "execution_count": 12,
      "outputs": [
        {
          "output_type": "execute_result",
          "data": {
            "text/plain": [
              "'\\nOnkar'"
            ],
            "application/vnd.google.colaboratory.intrinsic+json": {
              "type": "string"
            }
          },
          "metadata": {},
          "execution_count": 12
        }
      ]
    },
    {
      "cell_type": "code",
      "source": [
        "str2[:3]"
      ],
      "metadata": {
        "colab": {
          "base_uri": "https://localhost:8080/",
          "height": 36
        },
        "id": "D7VX1Sd_n376",
        "outputId": "8deffb00-8c2c-411d-b568-69425be5e201"
      },
      "execution_count": 13,
      "outputs": [
        {
          "output_type": "execute_result",
          "data": {
            "text/plain": [
              "'\\nOn'"
            ],
            "application/vnd.google.colaboratory.intrinsic+json": {
              "type": "string"
            }
          },
          "metadata": {},
          "execution_count": 13
        }
      ]
    },
    {
      "cell_type": "code",
      "source": [
        "str3 = \"Onkar\"\n",
        "len(str3)"
      ],
      "metadata": {
        "colab": {
          "base_uri": "https://localhost:8080/"
        },
        "id": "q3Tr_1IVn9Tf",
        "outputId": "afa1207c-5cfd-413a-9729-7c186ac1b534"
      },
      "execution_count": 14,
      "outputs": [
        {
          "output_type": "execute_result",
          "data": {
            "text/plain": [
              "5"
            ]
          },
          "metadata": {},
          "execution_count": 14
        }
      ]
    },
    {
      "cell_type": "code",
      "source": [
        "str3.upper()"
      ],
      "metadata": {
        "colab": {
          "base_uri": "https://localhost:8080/",
          "height": 36
        },
        "id": "MgGJ8XCroNb6",
        "outputId": "c2a0d2a7-8e02-42fb-e9f6-e162e47515b9"
      },
      "execution_count": 15,
      "outputs": [
        {
          "output_type": "execute_result",
          "data": {
            "text/plain": [
              "'ONKAR'"
            ],
            "application/vnd.google.colaboratory.intrinsic+json": {
              "type": "string"
            }
          },
          "metadata": {},
          "execution_count": 15
        }
      ]
    },
    {
      "cell_type": "code",
      "source": [
        "str3.lower()"
      ],
      "metadata": {
        "colab": {
          "base_uri": "https://localhost:8080/",
          "height": 36
        },
        "id": "1MbQNrx6oY1T",
        "outputId": "61ca7401-4fe3-4de9-a21e-7410f2a3b618"
      },
      "execution_count": 16,
      "outputs": [
        {
          "output_type": "execute_result",
          "data": {
            "text/plain": [
              "'onkar'"
            ],
            "application/vnd.google.colaboratory.intrinsic+json": {
              "type": "string"
            }
          },
          "metadata": {},
          "execution_count": 16
        }
      ]
    },
    {
      "cell_type": "code",
      "source": [
        "str2.lower()\n"
      ],
      "metadata": {
        "colab": {
          "base_uri": "https://localhost:8080/",
          "height": 36
        },
        "id": "6zC5GWFHodHs",
        "outputId": "0a245f07-48fc-4530-efc8-7a96983e9df7"
      },
      "execution_count": 18,
      "outputs": [
        {
          "output_type": "execute_result",
          "data": {
            "text/plain": [
              "'\\nonkar \\nis\\nking\\n'"
            ],
            "application/vnd.google.colaboratory.intrinsic+json": {
              "type": "string"
            }
          },
          "metadata": {},
          "execution_count": 18
        }
      ]
    },
    {
      "cell_type": "code",
      "source": [
        "str3.replace('O', 'D')"
      ],
      "metadata": {
        "colab": {
          "base_uri": "https://localhost:8080/",
          "height": 36
        },
        "id": "eAFPqB10okh6",
        "outputId": "135c0eee-d978-4b41-bac7-6adf21aa8aa1"
      },
      "execution_count": 17,
      "outputs": [
        {
          "output_type": "execute_result",
          "data": {
            "text/plain": [
              "'Dnkar'"
            ],
            "application/vnd.google.colaboratory.intrinsic+json": {
              "type": "string"
            }
          },
          "metadata": {},
          "execution_count": 17
        }
      ]
    },
    {
      "cell_type": "code",
      "source": [
        "str4 = \"MCA MCA MCA IS BAD\"\n",
        "str4.count(\"MCA\")"
      ],
      "metadata": {
        "colab": {
          "base_uri": "https://localhost:8080/"
        },
        "id": "-hL1pQ6uozKA",
        "outputId": "052f2b01-5bd7-4d2d-8a19-498716615a32"
      },
      "execution_count": 20,
      "outputs": [
        {
          "output_type": "execute_result",
          "data": {
            "text/plain": [
              "3"
            ]
          },
          "metadata": {},
          "execution_count": 20
        }
      ]
    },
    {
      "cell_type": "code",
      "source": [
        "tup1 = (1,\"b\",True,2)\n",
        "tup1"
      ],
      "metadata": {
        "colab": {
          "base_uri": "https://localhost:8080/"
        },
        "id": "gm2WJ5XGpdeJ",
        "outputId": "5eb9c6e1-a93c-4ee9-bd40-aa2d2c2617d7"
      },
      "execution_count": 21,
      "outputs": [
        {
          "output_type": "execute_result",
          "data": {
            "text/plain": [
              "(1, 'b', True, 2)"
            ]
          },
          "metadata": {},
          "execution_count": 21
        }
      ]
    },
    {
      "cell_type": "code",
      "source": [
        "tup1[0:3]"
      ],
      "metadata": {
        "colab": {
          "base_uri": "https://localhost:8080/"
        },
        "id": "hbX_gE4zqP4f",
        "outputId": "a20c0ba8-6ef2-4bfe-c063-2d8b2492145b"
      },
      "execution_count": 22,
      "outputs": [
        {
          "output_type": "execute_result",
          "data": {
            "text/plain": [
              "(1, 'b', True)"
            ]
          },
          "metadata": {},
          "execution_count": 22
        }
      ]
    },
    {
      "cell_type": "code",
      "source": [
        "len(tup1)"
      ],
      "metadata": {
        "colab": {
          "base_uri": "https://localhost:8080/"
        },
        "id": "tWDV2eF3qkyG",
        "outputId": "9c043ad0-acd8-46f1-dda2-445e64279fb9"
      },
      "execution_count": 23,
      "outputs": [
        {
          "output_type": "execute_result",
          "data": {
            "text/plain": [
              "4"
            ]
          },
          "metadata": {},
          "execution_count": 23
        }
      ]
    },
    {
      "cell_type": "code",
      "source": [
        "tup2 = (3,\"c\",False,4)\n",
        "tup2\n",
        "tup1+tup2"
      ],
      "metadata": {
        "colab": {
          "base_uri": "https://localhost:8080/"
        },
        "id": "wkDCPZ_PqzKc",
        "outputId": "7ecae8ed-f4ff-4fe4-e120-cb2c28d4a35e"
      },
      "execution_count": 24,
      "outputs": [
        {
          "output_type": "execute_result",
          "data": {
            "text/plain": [
              "(1, 'b', True, 2, 3, 'c', False, 4)"
            ]
          },
          "metadata": {},
          "execution_count": 24
        }
      ]
    },
    {
      "cell_type": "code",
      "source": [
        "tup1*2"
      ],
      "metadata": {
        "colab": {
          "base_uri": "https://localhost:8080/"
        },
        "id": "Xev7Oh1yrYe3",
        "outputId": "ff262c72-da4b-4907-dcfb-72af84144d22"
      },
      "execution_count": 25,
      "outputs": [
        {
          "output_type": "execute_result",
          "data": {
            "text/plain": [
              "(1, 'b', True, 2, 1, 'b', True, 2)"
            ]
          },
          "metadata": {},
          "execution_count": 25
        }
      ]
    },
    {
      "cell_type": "markdown",
      "source": [
        "tup1*3+tup2"
      ],
      "metadata": {
        "id": "n0lRWFrWrlvn"
      }
    },
    {
      "cell_type": "code",
      "source": [
        "list1 = [1,\"b\",True,2]\n",
        "list1"
      ],
      "metadata": {
        "colab": {
          "base_uri": "https://localhost:8080/"
        },
        "id": "y-8Fnk0or5lk",
        "outputId": "26dfc649-716f-4c05-e795-2efd6cac7d6c"
      },
      "execution_count": 27,
      "outputs": [
        {
          "output_type": "execute_result",
          "data": {
            "text/plain": [
              "[1, 'b', True, 2]"
            ]
          },
          "metadata": {},
          "execution_count": 27
        }
      ]
    },
    {
      "cell_type": "code",
      "source": [
        "list1.append(\"SJ\")\n",
        "list1"
      ],
      "metadata": {
        "colab": {
          "base_uri": "https://localhost:8080/"
        },
        "id": "d5JgbuxSsGsA",
        "outputId": "4cdce589-3f4a-4adb-f347-d9460edc40d4"
      },
      "execution_count": 30,
      "outputs": [
        {
          "output_type": "execute_result",
          "data": {
            "text/plain": [
              "[1, 'b', True, 2, 'SJ', 'SJ']"
            ]
          },
          "metadata": {},
          "execution_count": 30
        }
      ]
    },
    {
      "cell_type": "code",
      "source": [
        "list1.reverse()"
      ],
      "metadata": {
        "id": "xOE_Lgs9skP6"
      },
      "execution_count": 31,
      "outputs": []
    },
    {
      "cell_type": "code",
      "source": [
        "list1.pop()"
      ],
      "metadata": {
        "colab": {
          "base_uri": "https://localhost:8080/"
        },
        "id": "w1d7BCpXsozs",
        "outputId": "0a09de9f-d835-4c34-eb6e-6f024b06a92d"
      },
      "execution_count": 32,
      "outputs": [
        {
          "output_type": "execute_result",
          "data": {
            "text/plain": [
              "1"
            ]
          },
          "metadata": {},
          "execution_count": 32
        }
      ]
    },
    {
      "cell_type": "code",
      "source": [
        "list1.reverse()\n",
        "list1"
      ],
      "metadata": {
        "colab": {
          "base_uri": "https://localhost:8080/"
        },
        "id": "x5iHrpR2sycL",
        "outputId": "2c39ea58-a251-48a3-e06d-c6d8c75f0268"
      },
      "execution_count": 33,
      "outputs": [
        {
          "output_type": "execute_result",
          "data": {
            "text/plain": [
              "['b', True, 2, 'SJ', 'SJ']"
            ]
          },
          "metadata": {},
          "execution_count": 33
        }
      ]
    },
    {
      "cell_type": "code",
      "source": [
        "list1.reverse()\n",
        "list1"
      ],
      "metadata": {
        "colab": {
          "base_uri": "https://localhost:8080/"
        },
        "id": "WWjmUzVps_EC",
        "outputId": "dd40c654-b4d0-47e0-95c2-3754984440e7"
      },
      "execution_count": 34,
      "outputs": [
        {
          "output_type": "execute_result",
          "data": {
            "text/plain": [
              "['SJ', 'SJ', 2, True, 'b']"
            ]
          },
          "metadata": {},
          "execution_count": 34
        }
      ]
    },
    {
      "cell_type": "code",
      "source": [
        "list1.insert(2,\"OM\")\n",
        "list1"
      ],
      "metadata": {
        "colab": {
          "base_uri": "https://localhost:8080/"
        },
        "id": "knsn4AOdtFRu",
        "outputId": "08bc18e2-31ed-4544-87b1-43b9d7dde6a4"
      },
      "execution_count": 35,
      "outputs": [
        {
          "output_type": "execute_result",
          "data": {
            "text/plain": [
              "['SJ', 'SJ', 'OM', 2, True, 'b']"
            ]
          },
          "metadata": {},
          "execution_count": 35
        }
      ]
    },
    {
      "cell_type": "code",
      "source": [
        "list2 = [1,3,2,5,7,3,2,1]\n",
        "list2.sort()\n",
        "list2"
      ],
      "metadata": {
        "colab": {
          "base_uri": "https://localhost:8080/"
        },
        "id": "iRSkLzK2tsRD",
        "outputId": "8e0c06d2-dde1-4151-910c-3428d922f0ff"
      },
      "execution_count": 36,
      "outputs": [
        {
          "output_type": "execute_result",
          "data": {
            "text/plain": [
              "[1, 1, 2, 2, 3, 3, 5, 7]"
            ]
          },
          "metadata": {},
          "execution_count": 36
        }
      ]
    },
    {
      "cell_type": "code",
      "source": [
        "def hello():\n",
        "  print(\"This is Hello Function\")\n",
        "\n",
        "hello()"
      ],
      "metadata": {
        "colab": {
          "base_uri": "https://localhost:8080/"
        },
        "id": "n08KX26guKwK",
        "outputId": "2130e768-29b1-4b58-add1-ab10f29ccb1f"
      },
      "execution_count": 37,
      "outputs": [
        {
          "output_type": "stream",
          "name": "stdout",
          "text": [
            "This is Hello Function\n"
          ]
        }
      ]
    },
    {
      "cell_type": "code",
      "source": [
        "def CheckOddEven(x):\n",
        "  if x%2 == 0:\n",
        "      print(\"This is Even Number\")\n",
        "  else:\n",
        "      print(\"This is Odd Number\")\n",
        "\n",
        "CheckOddEven(11)"
      ],
      "metadata": {
        "colab": {
          "base_uri": "https://localhost:8080/"
        },
        "id": "b-ndeEbTubyN",
        "outputId": "c5e24847-1c53-43cd-d6ec-04b184960416"
      },
      "execution_count": 39,
      "outputs": [
        {
          "output_type": "stream",
          "name": "stdout",
          "text": [
            "This is Odd Number\n"
          ]
        }
      ]
    },
    {
      "cell_type": "code",
      "source": [
        "g = lambda x:x*x*x\n",
        "\n",
        "g(4)"
      ],
      "metadata": {
        "colab": {
          "base_uri": "https://localhost:8080/"
        },
        "id": "CgjqX0_2vjEh",
        "outputId": "199be9e4-536a-4713-974f-c4f9102c1570"
      },
      "execution_count": 40,
      "outputs": [
        {
          "output_type": "execute_result",
          "data": {
            "text/plain": [
              "64"
            ]
          },
          "metadata": {},
          "execution_count": 40
        }
      ]
    },
    {
      "cell_type": "code",
      "source": [
        "list4 = [1,2,3,4,5,6,7,98,8,87,9]\n",
        "filterlist = list(filter(lambda x : x%2==0, list4))\n",
        "filterlist"
      ],
      "metadata": {
        "colab": {
          "base_uri": "https://localhost:8080/"
        },
        "id": "AGhzp05Lv-Fd",
        "outputId": "1ea76984-8f15-4c4f-fda4-7e983b4dc618"
      },
      "execution_count": 42,
      "outputs": [
        {
          "output_type": "execute_result",
          "data": {
            "text/plain": [
              "[2, 4, 6, 98, 8]"
            ]
          },
          "metadata": {},
          "execution_count": 42
        }
      ]
    },
    {
      "cell_type": "code",
      "source": [
        "from functools import reduce\n",
        "r = reduce(lambda x,y: x+y,list4)\n",
        "r"
      ],
      "metadata": {
        "colab": {
          "base_uri": "https://localhost:8080/"
        },
        "id": "HFEirrbZxL_8",
        "outputId": "8758817f-a539-416e-885a-4e75ed4711e8"
      },
      "execution_count": 43,
      "outputs": [
        {
          "output_type": "execute_result",
          "data": {
            "text/plain": [
              "230"
            ]
          },
          "metadata": {},
          "execution_count": 43
        }
      ]
    },
    {
      "cell_type": "code",
      "source": [
        "#numpy array\n",
        "import numpy as np\n",
        "n1 = np.array([1,2,3])\n",
        "n1"
      ],
      "metadata": {
        "colab": {
          "base_uri": "https://localhost:8080/"
        },
        "id": "bOgTEcfDycdO",
        "outputId": "3c525770-e623-4858-b08f-32e46c388078"
      },
      "execution_count": 44,
      "outputs": [
        {
          "output_type": "execute_result",
          "data": {
            "text/plain": [
              "array([1, 2, 3])"
            ]
          },
          "metadata": {},
          "execution_count": 44
        }
      ]
    },
    {
      "cell_type": "code",
      "source": [
        "n2 = np.array([[1,2,3],[4,7,8],[9,8,3]])\n",
        "n2"
      ],
      "metadata": {
        "colab": {
          "base_uri": "https://localhost:8080/"
        },
        "id": "b5L43d39yxpJ",
        "outputId": "432eb5aa-da30-48cf-c834-a5bf1de36747"
      },
      "execution_count": 45,
      "outputs": [
        {
          "output_type": "execute_result",
          "data": {
            "text/plain": [
              "array([[1, 2, 3],\n",
              "       [4, 7, 8],\n",
              "       [9, 8, 3]])"
            ]
          },
          "metadata": {},
          "execution_count": 45
        }
      ]
    },
    {
      "cell_type": "code",
      "source": [
        "n3 = np.zeros((1,2))\n",
        "n3\n"
      ],
      "metadata": {
        "colab": {
          "base_uri": "https://localhost:8080/"
        },
        "id": "NwkMtg9Lze9i",
        "outputId": "84d54539-6461-4ad1-8eb5-b2a58e638d29"
      },
      "execution_count": 47,
      "outputs": [
        {
          "output_type": "execute_result",
          "data": {
            "text/plain": [
              "array([[0., 0.]])"
            ]
          },
          "metadata": {},
          "execution_count": 47
        }
      ]
    },
    {
      "cell_type": "code",
      "source": [
        "n4 = np.zeros((5,5))\n",
        "n4"
      ],
      "metadata": {
        "colab": {
          "base_uri": "https://localhost:8080/"
        },
        "id": "dKINqx4LzsM0",
        "outputId": "e6599f34-8961-4a89-b6dd-c99b03aca5d9"
      },
      "execution_count": 48,
      "outputs": [
        {
          "output_type": "execute_result",
          "data": {
            "text/plain": [
              "array([[0., 0., 0., 0., 0.],\n",
              "       [0., 0., 0., 0., 0.],\n",
              "       [0., 0., 0., 0., 0.],\n",
              "       [0., 0., 0., 0., 0.],\n",
              "       [0., 0., 0., 0., 0.]])"
            ]
          },
          "metadata": {},
          "execution_count": 48
        }
      ]
    },
    {
      "cell_type": "code",
      "source": [
        "n5 = np.zeros((2,5))\n",
        "n5"
      ],
      "metadata": {
        "colab": {
          "base_uri": "https://localhost:8080/"
        },
        "id": "dCf4u_5RzxZA",
        "outputId": "b62cc490-9852-4261-fe9c-5883a7111ae4"
      },
      "execution_count": 49,
      "outputs": [
        {
          "output_type": "execute_result",
          "data": {
            "text/plain": [
              "array([[0., 0., 0., 0., 0.],\n",
              "       [0., 0., 0., 0., 0.]])"
            ]
          },
          "metadata": {},
          "execution_count": 49
        }
      ]
    },
    {
      "cell_type": "code",
      "source": [
        "n6 = np.full((4,4),4)\n",
        "n6"
      ],
      "metadata": {
        "colab": {
          "base_uri": "https://localhost:8080/"
        },
        "id": "rP0u4wyY0E16",
        "outputId": "fe145878-f398-4d00-dbb1-fcc20c5f9889"
      },
      "execution_count": 51,
      "outputs": [
        {
          "output_type": "execute_result",
          "data": {
            "text/plain": [
              "array([[4, 4, 4, 4],\n",
              "       [4, 4, 4, 4],\n",
              "       [4, 4, 4, 4],\n",
              "       [4, 4, 4, 4]])"
            ]
          },
          "metadata": {},
          "execution_count": 51
        }
      ]
    },
    {
      "cell_type": "code",
      "source": [
        "n7 = np.arange(1,21)\n",
        "n7"
      ],
      "metadata": {
        "colab": {
          "base_uri": "https://localhost:8080/"
        },
        "id": "kNAfnvAJ0akq",
        "outputId": "b92ddab8-563f-4ad3-badb-56f3655227c4"
      },
      "execution_count": 52,
      "outputs": [
        {
          "output_type": "execute_result",
          "data": {
            "text/plain": [
              "array([ 1,  2,  3,  4,  5,  6,  7,  8,  9, 10, 11, 12, 13, 14, 15, 16, 17,\n",
              "       18, 19, 20])"
            ]
          },
          "metadata": {},
          "execution_count": 52
        }
      ]
    },
    {
      "cell_type": "code",
      "source": [
        "n8 = np.arange(20,90,4)\n",
        "n8"
      ],
      "metadata": {
        "colab": {
          "base_uri": "https://localhost:8080/"
        },
        "id": "XU7iGKnA0_tN",
        "outputId": "a4c53912-4288-4e1d-df0d-a609b474f14b"
      },
      "execution_count": 53,
      "outputs": [
        {
          "output_type": "execute_result",
          "data": {
            "text/plain": [
              "array([20, 24, 28, 32, 36, 40, 44, 48, 52, 56, 60, 64, 68, 72, 76, 80, 84,\n",
              "       88])"
            ]
          },
          "metadata": {},
          "execution_count": 53
        }
      ]
    },
    {
      "cell_type": "code",
      "source": [
        "n9 = np.array([[1,2,3,4],[6,7,8,9]])\n",
        "n9.shape"
      ],
      "metadata": {
        "colab": {
          "base_uri": "https://localhost:8080/"
        },
        "id": "i4VH06dU1TZM",
        "outputId": "bf551963-22c8-424b-95ad-141842f2de37"
      },
      "execution_count": 55,
      "outputs": [
        {
          "output_type": "execute_result",
          "data": {
            "text/plain": [
              "(2, 4)"
            ]
          },
          "metadata": {},
          "execution_count": 55
        }
      ]
    },
    {
      "cell_type": "code",
      "source": [
        "n9.shape = (4,2)\n",
        "n9"
      ],
      "metadata": {
        "colab": {
          "base_uri": "https://localhost:8080/"
        },
        "id": "YgyBD94U1zUv",
        "outputId": "fd3340d7-96fd-48a3-e10d-2a1644e068d7"
      },
      "execution_count": 56,
      "outputs": [
        {
          "output_type": "execute_result",
          "data": {
            "text/plain": [
              "array([[1, 2],\n",
              "       [3, 4],\n",
              "       [6, 7],\n",
              "       [8, 9]])"
            ]
          },
          "metadata": {},
          "execution_count": 56
        }
      ]
    },
    {
      "cell_type": "code",
      "source": [
        "n9.shape = (8,1)\n",
        "n9"
      ],
      "metadata": {
        "colab": {
          "base_uri": "https://localhost:8080/"
        },
        "id": "w4GSSYgz2Dju",
        "outputId": "1e2bfefc-8da6-43f0-c87e-bfbb82603640"
      },
      "execution_count": 57,
      "outputs": [
        {
          "output_type": "execute_result",
          "data": {
            "text/plain": [
              "array([[1],\n",
              "       [2],\n",
              "       [3],\n",
              "       [4],\n",
              "       [6],\n",
              "       [7],\n",
              "       [8],\n",
              "       [9]])"
            ]
          },
          "metadata": {},
          "execution_count": 57
        }
      ]
    },
    {
      "cell_type": "code",
      "source": [
        "n9.shape = (1,8)\n",
        "n9"
      ],
      "metadata": {
        "colab": {
          "base_uri": "https://localhost:8080/"
        },
        "id": "Vg6TUF9k2MCD",
        "outputId": "6c1d1180-2657-411d-95c4-876eefdc68f9"
      },
      "execution_count": 58,
      "outputs": [
        {
          "output_type": "execute_result",
          "data": {
            "text/plain": [
              "array([[1, 2, 3, 4, 6, 7, 8, 9]])"
            ]
          },
          "metadata": {},
          "execution_count": 58
        }
      ]
    },
    {
      "cell_type": "code",
      "source": [
        "n11 = np.array([1,2,3])\n",
        "n12 = np.array([4,7,8])\n",
        "\n",
        "np.vstack((n11,n12))"
      ],
      "metadata": {
        "colab": {
          "base_uri": "https://localhost:8080/"
        },
        "id": "Ru0_vzLS2QYN",
        "outputId": "b3e93a68-a966-49d8-8dc6-3665038c321f"
      },
      "execution_count": 60,
      "outputs": [
        {
          "output_type": "execute_result",
          "data": {
            "text/plain": [
              "array([[1, 2, 3],\n",
              "       [4, 7, 8]])"
            ]
          },
          "metadata": {},
          "execution_count": 60
        }
      ]
    },
    {
      "cell_type": "code",
      "source": [
        "np.hstack((n11,n12))"
      ],
      "metadata": {
        "colab": {
          "base_uri": "https://localhost:8080/"
        },
        "id": "2c3gEjjr3N6r",
        "outputId": "a1049daa-f700-404a-eb20-ed0408167a93"
      },
      "execution_count": 61,
      "outputs": [
        {
          "output_type": "execute_result",
          "data": {
            "text/plain": [
              "array([1, 2, 3, 4, 7, 8])"
            ]
          },
          "metadata": {},
          "execution_count": 61
        }
      ]
    },
    {
      "cell_type": "code",
      "source": [
        "np.column_stack((n11,n12))\n"
      ],
      "metadata": {
        "colab": {
          "base_uri": "https://localhost:8080/"
        },
        "id": "WTxlHfOR3e2s",
        "outputId": "87fddef0-1da9-4693-9c1d-f49b7bc0f80f"
      },
      "execution_count": 62,
      "outputs": [
        {
          "output_type": "execute_result",
          "data": {
            "text/plain": [
              "array([[1, 4],\n",
              "       [2, 7],\n",
              "       [3, 8]])"
            ]
          },
          "metadata": {},
          "execution_count": 62
        }
      ]
    },
    {
      "cell_type": "code",
      "source": [
        "m1 = np.array([10,20,30,40,50])\n",
        "m2 = np.array([40,70,100,20])\n",
        "\n",
        "np.intersect1d(m1,m2)\n"
      ],
      "metadata": {
        "colab": {
          "base_uri": "https://localhost:8080/"
        },
        "id": "mBUF8tw-3_is",
        "outputId": "f760a7d7-c864-43cd-b144-8aa7954f04dc"
      },
      "execution_count": 63,
      "outputs": [
        {
          "output_type": "execute_result",
          "data": {
            "text/plain": [
              "array([20, 40])"
            ]
          },
          "metadata": {},
          "execution_count": 63
        }
      ]
    },
    {
      "cell_type": "code",
      "source": [
        "\n",
        "np.setdiff1d(m1,m2)\n"
      ],
      "metadata": {
        "colab": {
          "base_uri": "https://localhost:8080/"
        },
        "id": "i38_J1nX4ajF",
        "outputId": "ec3dde29-069a-4843-f59e-6aa8b4c28308"
      },
      "execution_count": 64,
      "outputs": [
        {
          "output_type": "execute_result",
          "data": {
            "text/plain": [
              "array([10, 30, 50])"
            ]
          },
          "metadata": {},
          "execution_count": 64
        }
      ]
    },
    {
      "cell_type": "code",
      "source": [
        "k1 = np.array([1,2,3])\n",
        "k2 = np.array([4,5,6])\n",
        "\n",
        "np.sum([k1,k2])\n"
      ],
      "metadata": {
        "colab": {
          "base_uri": "https://localhost:8080/"
        },
        "id": "hBLyufTW4eIh",
        "outputId": "22f0e036-5296-4070-9b2d-39caee111074"
      },
      "execution_count": 67,
      "outputs": [
        {
          "output_type": "execute_result",
          "data": {
            "text/plain": [
              "21"
            ]
          },
          "metadata": {},
          "execution_count": 67
        }
      ]
    },
    {
      "cell_type": "code",
      "source": [
        "np.sum([k1,k2],axis = 0)"
      ],
      "metadata": {
        "colab": {
          "base_uri": "https://localhost:8080/"
        },
        "id": "iOMIpORx5W9u",
        "outputId": "5e8249ab-512a-4e66-a031-a195bde7bc23"
      },
      "execution_count": 68,
      "outputs": [
        {
          "output_type": "execute_result",
          "data": {
            "text/plain": [
              "array([5, 7, 9])"
            ]
          },
          "metadata": {},
          "execution_count": 68
        }
      ]
    },
    {
      "cell_type": "code",
      "source": [
        "np.sum([k1,k2],axis = 1)"
      ],
      "metadata": {
        "colab": {
          "base_uri": "https://localhost:8080/"
        },
        "id": "0LSjQUB65fIP",
        "outputId": "5fc57300-7b6a-42b8-a3a8-8180c2f7e520"
      },
      "execution_count": 69,
      "outputs": [
        {
          "output_type": "execute_result",
          "data": {
            "text/plain": [
              "array([ 6, 15])"
            ]
          },
          "metadata": {},
          "execution_count": 69
        }
      ]
    },
    {
      "cell_type": "code",
      "source": [
        "k3 = np.array([1,2,3,4])\n",
        "np.save('myArray',k3)\n",
        "k4 = np.load('myArray.npy')\n",
        "k4"
      ],
      "metadata": {
        "colab": {
          "base_uri": "https://localhost:8080/"
        },
        "id": "K8amlBPr51v7",
        "outputId": "f107b7ca-716c-4e0d-b3d1-b8158c127238"
      },
      "execution_count": 70,
      "outputs": [
        {
          "output_type": "execute_result",
          "data": {
            "text/plain": [
              "array([1, 2, 3, 4])"
            ]
          },
          "metadata": {},
          "execution_count": 70
        }
      ]
    },
    {
      "cell_type": "code",
      "source": [
        "#Panda\n",
        "import pandas as pd\n",
        "s1 = pd.Series([1,2,3,4])\n",
        "s1"
      ],
      "metadata": {
        "colab": {
          "base_uri": "https://localhost:8080/"
        },
        "id": "ecchFWVr6jGK",
        "outputId": "416e236b-e396-458a-e3ef-e22e1f09e1e7"
      },
      "execution_count": 71,
      "outputs": [
        {
          "output_type": "execute_result",
          "data": {
            "text/plain": [
              "0    1\n",
              "1    2\n",
              "2    3\n",
              "3    4\n",
              "dtype: int64"
            ]
          },
          "metadata": {},
          "execution_count": 71
        }
      ]
    },
    {
      "cell_type": "code",
      "source": [
        "s2=pd.Series([1,2,3,4],index=['a','b','c','d'])\n",
        "s2"
      ],
      "metadata": {
        "colab": {
          "base_uri": "https://localhost:8080/"
        },
        "id": "yHn75tpG7Zwv",
        "outputId": "fbc3b681-7e6f-42fd-a868-a42e9d8c95c6"
      },
      "execution_count": 72,
      "outputs": [
        {
          "output_type": "execute_result",
          "data": {
            "text/plain": [
              "a    1\n",
              "b    2\n",
              "c    3\n",
              "d    4\n",
              "dtype: int64"
            ]
          },
          "metadata": {},
          "execution_count": 72
        }
      ]
    },
    {
      "cell_type": "code",
      "source": [
        "s3 = pd.Series({'amey':10,'akshay':20,'adit':30})\n",
        "s3"
      ],
      "metadata": {
        "colab": {
          "base_uri": "https://localhost:8080/"
        },
        "id": "YoTWAXOl75SJ",
        "outputId": "585f0592-ddd1-4dd3-bcbe-df6ac15d5a29"
      },
      "execution_count": 73,
      "outputs": [
        {
          "output_type": "execute_result",
          "data": {
            "text/plain": [
              "amey      10\n",
              "akshay    20\n",
              "adit      30\n",
              "dtype: int64"
            ]
          },
          "metadata": {},
          "execution_count": 73
        }
      ]
    },
    {
      "cell_type": "code",
      "source": [
        "s3 = pd.Series({'amey':10,'akshay':20,'adit':30})\n",
        "s3[0:1]"
      ],
      "metadata": {
        "colab": {
          "base_uri": "https://localhost:8080/"
        },
        "id": "gR28J43M8n9_",
        "outputId": "3c18b9d1-5003-46fd-badc-ea2ad0e15dbf"
      },
      "execution_count": 74,
      "outputs": [
        {
          "output_type": "execute_result",
          "data": {
            "text/plain": [
              "amey    10\n",
              "dtype: int64"
            ]
          },
          "metadata": {},
          "execution_count": 74
        }
      ]
    },
    {
      "cell_type": "code",
      "source": [
        "# pandas dataframe\n",
        "s4 = pd.DataFrame({\"Names\":['Nazrana','Onkar','Esha'],\"Marks\":[100,0,100],\"Mobile\":[9000,9888,9020]})\n",
        "s4"
      ],
      "metadata": {
        "colab": {
          "base_uri": "https://localhost:8080/",
          "height": 1000
        },
        "id": "VeUvCPPQ8siN",
        "outputId": "7db751bd-091f-4c63-e20e-bdd4c44eb81d"
      },
      "execution_count": 75,
      "outputs": [
        {
          "output_type": "execute_result",
          "data": {
            "text/plain": [
              "     Names  Marks  Mobile\n",
              "0  Nazrana    100    9000\n",
              "1    Onkar      0    9888\n",
              "2     Esha    100    9020"
            ],
            "text/html": [
              "\n",
              "  <div id=\"df-be2d2495-2131-4ac7-a9ec-229eb0b2a747\" class=\"colab-df-container\">\n",
              "    <div>\n",
              "<style scoped>\n",
              "    .dataframe tbody tr th:only-of-type {\n",
              "        vertical-align: middle;\n",
              "    }\n",
              "\n",
              "    .dataframe tbody tr th {\n",
              "        vertical-align: top;\n",
              "    }\n",
              "\n",
              "    .dataframe thead th {\n",
              "        text-align: right;\n",
              "    }\n",
              "</style>\n",
              "<table border=\"1\" class=\"dataframe\">\n",
              "  <thead>\n",
              "    <tr style=\"text-align: right;\">\n",
              "      <th></th>\n",
              "      <th>Names</th>\n",
              "      <th>Marks</th>\n",
              "      <th>Mobile</th>\n",
              "    </tr>\n",
              "  </thead>\n",
              "  <tbody>\n",
              "    <tr>\n",
              "      <th>0</th>\n",
              "      <td>Nazrana</td>\n",
              "      <td>100</td>\n",
              "      <td>9000</td>\n",
              "    </tr>\n",
              "    <tr>\n",
              "      <th>1</th>\n",
              "      <td>Onkar</td>\n",
              "      <td>0</td>\n",
              "      <td>9888</td>\n",
              "    </tr>\n",
              "    <tr>\n",
              "      <th>2</th>\n",
              "      <td>Esha</td>\n",
              "      <td>100</td>\n",
              "      <td>9020</td>\n",
              "    </tr>\n",
              "  </tbody>\n",
              "</table>\n",
              "</div>\n",
              "    <div class=\"colab-df-buttons\">\n",
              "\n",
              "  <div class=\"colab-df-container\">\n",
              "    <button class=\"colab-df-convert\" onclick=\"convertToInteractive('df-be2d2495-2131-4ac7-a9ec-229eb0b2a747')\"\n",
              "            title=\"Convert this dataframe to an interactive table.\"\n",
              "            style=\"display:none;\">\n",
              "\n",
              "  <svg xmlns=\"http://www.w3.org/2000/svg\" height=\"24px\" viewBox=\"0 -960 960 960\">\n",
              "    <path d=\"M120-120v-720h720v720H120Zm60-500h600v-160H180v160Zm220 220h160v-160H400v160Zm0 220h160v-160H400v160ZM180-400h160v-160H180v160Zm440 0h160v-160H620v160ZM180-180h160v-160H180v160Zm440 0h160v-160H620v160Z\"/>\n",
              "  </svg>\n",
              "    </button>\n",
              "\n",
              "  <style>\n",
              "    .colab-df-container {\n",
              "      display:flex;\n",
              "      gap: 12px;\n",
              "    }\n",
              "\n",
              "    .colab-df-convert {\n",
              "      background-color: #E8F0FE;\n",
              "      border: none;\n",
              "      border-radius: 50%;\n",
              "      cursor: pointer;\n",
              "      display: none;\n",
              "      fill: #1967D2;\n",
              "      height: 32px;\n",
              "      padding: 0 0 0 0;\n",
              "      width: 32px;\n",
              "    }\n",
              "\n",
              "    .colab-df-convert:hover {\n",
              "      background-color: #E2EBFA;\n",
              "      box-shadow: 0px 1px 2px rgba(60, 64, 67, 0.3), 0px 1px 3px 1px rgba(60, 64, 67, 0.15);\n",
              "      fill: #174EA6;\n",
              "    }\n",
              "\n",
              "    .colab-df-buttons div {\n",
              "      margin-bottom: 4px;\n",
              "    }\n",
              "\n",
              "    [theme=dark] .colab-df-convert {\n",
              "      background-color: #3B4455;\n",
              "      fill: #D2E3FC;\n",
              "    }\n",
              "\n",
              "    [theme=dark] .colab-df-convert:hover {\n",
              "      background-color: #434B5C;\n",
              "      box-shadow: 0px 1px 3px 1px rgba(0, 0, 0, 0.15);\n",
              "      filter: drop-shadow(0px 1px 2px rgba(0, 0, 0, 0.3));\n",
              "      fill: #FFFFFF;\n",
              "    }\n",
              "  </style>\n",
              "\n",
              "    <script>\n",
              "      const buttonEl =\n",
              "        document.querySelector('#df-be2d2495-2131-4ac7-a9ec-229eb0b2a747 button.colab-df-convert');\n",
              "      buttonEl.style.display =\n",
              "        google.colab.kernel.accessAllowed ? 'block' : 'none';\n",
              "\n",
              "      async function convertToInteractive(key) {\n",
              "        const element = document.querySelector('#df-be2d2495-2131-4ac7-a9ec-229eb0b2a747');\n",
              "        const dataTable =\n",
              "          await google.colab.kernel.invokeFunction('convertToInteractive',\n",
              "                                                    [key], {});\n",
              "        if (!dataTable) return;\n",
              "\n",
              "        const docLinkHtml = 'Like what you see? Visit the ' +\n",
              "          '<a target=\"_blank\" href=https://colab.research.google.com/notebooks/data_table.ipynb>data table notebook</a>'\n",
              "          + ' to learn more about interactive tables.';\n",
              "        element.innerHTML = '';\n",
              "        dataTable['output_type'] = 'display_data';\n",
              "        await google.colab.output.renderOutput(dataTable, element);\n",
              "        const docLink = document.createElement('div');\n",
              "        docLink.innerHTML = docLinkHtml;\n",
              "        element.appendChild(docLink);\n",
              "      }\n",
              "    </script>\n",
              "  </div>\n",
              "\n",
              "\n",
              "<div id=\"df-dcff9a72-160b-4e62-8240-daeae023deed\">\n",
              "  <button class=\"colab-df-quickchart\" onclick=\"quickchart('df-dcff9a72-160b-4e62-8240-daeae023deed')\"\n",
              "            title=\"Suggest charts\"\n",
              "            style=\"display:none;\">\n",
              "\n",
              "<svg xmlns=\"http://www.w3.org/2000/svg\" height=\"24px\"viewBox=\"0 0 24 24\"\n",
              "     width=\"24px\">\n",
              "    <g>\n",
              "        <path d=\"M19 3H5c-1.1 0-2 .9-2 2v14c0 1.1.9 2 2 2h14c1.1 0 2-.9 2-2V5c0-1.1-.9-2-2-2zM9 17H7v-7h2v7zm4 0h-2V7h2v10zm4 0h-2v-4h2v4z\"/>\n",
              "    </g>\n",
              "</svg>\n",
              "  </button>\n",
              "\n",
              "<style>\n",
              "  .colab-df-quickchart {\n",
              "      --bg-color: #E8F0FE;\n",
              "      --fill-color: #1967D2;\n",
              "      --hover-bg-color: #E2EBFA;\n",
              "      --hover-fill-color: #174EA6;\n",
              "      --disabled-fill-color: #AAA;\n",
              "      --disabled-bg-color: #DDD;\n",
              "  }\n",
              "\n",
              "  [theme=dark] .colab-df-quickchart {\n",
              "      --bg-color: #3B4455;\n",
              "      --fill-color: #D2E3FC;\n",
              "      --hover-bg-color: #434B5C;\n",
              "      --hover-fill-color: #FFFFFF;\n",
              "      --disabled-bg-color: #3B4455;\n",
              "      --disabled-fill-color: #666;\n",
              "  }\n",
              "\n",
              "  .colab-df-quickchart {\n",
              "    background-color: var(--bg-color);\n",
              "    border: none;\n",
              "    border-radius: 50%;\n",
              "    cursor: pointer;\n",
              "    display: none;\n",
              "    fill: var(--fill-color);\n",
              "    height: 32px;\n",
              "    padding: 0;\n",
              "    width: 32px;\n",
              "  }\n",
              "\n",
              "  .colab-df-quickchart:hover {\n",
              "    background-color: var(--hover-bg-color);\n",
              "    box-shadow: 0 1px 2px rgba(60, 64, 67, 0.3), 0 1px 3px 1px rgba(60, 64, 67, 0.15);\n",
              "    fill: var(--button-hover-fill-color);\n",
              "  }\n",
              "\n",
              "  .colab-df-quickchart-complete:disabled,\n",
              "  .colab-df-quickchart-complete:disabled:hover {\n",
              "    background-color: var(--disabled-bg-color);\n",
              "    fill: var(--disabled-fill-color);\n",
              "    box-shadow: none;\n",
              "  }\n",
              "\n",
              "  .colab-df-spinner {\n",
              "    border: 2px solid var(--fill-color);\n",
              "    border-color: transparent;\n",
              "    border-bottom-color: var(--fill-color);\n",
              "    animation:\n",
              "      spin 1s steps(1) infinite;\n",
              "  }\n",
              "\n",
              "  @keyframes spin {\n",
              "    0% {\n",
              "      border-color: transparent;\n",
              "      border-bottom-color: var(--fill-color);\n",
              "      border-left-color: var(--fill-color);\n",
              "    }\n",
              "    20% {\n",
              "      border-color: transparent;\n",
              "      border-left-color: var(--fill-color);\n",
              "      border-top-color: var(--fill-color);\n",
              "    }\n",
              "    30% {\n",
              "      border-color: transparent;\n",
              "      border-left-color: var(--fill-color);\n",
              "      border-top-color: var(--fill-color);\n",
              "      border-right-color: var(--fill-color);\n",
              "    }\n",
              "    40% {\n",
              "      border-color: transparent;\n",
              "      border-right-color: var(--fill-color);\n",
              "      border-top-color: var(--fill-color);\n",
              "    }\n",
              "    60% {\n",
              "      border-color: transparent;\n",
              "      border-right-color: var(--fill-color);\n",
              "    }\n",
              "    80% {\n",
              "      border-color: transparent;\n",
              "      border-right-color: var(--fill-color);\n",
              "      border-bottom-color: var(--fill-color);\n",
              "    }\n",
              "    90% {\n",
              "      border-color: transparent;\n",
              "      border-bottom-color: var(--fill-color);\n",
              "    }\n",
              "  }\n",
              "</style>\n",
              "\n",
              "  <script>\n",
              "    async function quickchart(key) {\n",
              "      const quickchartButtonEl =\n",
              "        document.querySelector('#' + key + ' button');\n",
              "      quickchartButtonEl.disabled = true;  // To prevent multiple clicks.\n",
              "      quickchartButtonEl.classList.add('colab-df-spinner');\n",
              "      try {\n",
              "        const charts = await google.colab.kernel.invokeFunction(\n",
              "            'suggestCharts', [key], {});\n",
              "      } catch (error) {\n",
              "        console.error('Error during call to suggestCharts:', error);\n",
              "      }\n",
              "      quickchartButtonEl.classList.remove('colab-df-spinner');\n",
              "      quickchartButtonEl.classList.add('colab-df-quickchart-complete');\n",
              "    }\n",
              "    (() => {\n",
              "      let quickchartButtonEl =\n",
              "        document.querySelector('#df-dcff9a72-160b-4e62-8240-daeae023deed button');\n",
              "      quickchartButtonEl.style.display =\n",
              "        google.colab.kernel.accessAllowed ? 'block' : 'none';\n",
              "    })();\n",
              "  </script>\n",
              "</div>\n",
              "\n",
              "  <div id=\"id_dbfcc6f6-3cd5-4f49-9e20-a7011e256f94\">\n",
              "    <style>\n",
              "      .colab-df-generate {\n",
              "        background-color: #E8F0FE;\n",
              "        border: none;\n",
              "        border-radius: 50%;\n",
              "        cursor: pointer;\n",
              "        display: none;\n",
              "        fill: #1967D2;\n",
              "        height: 32px;\n",
              "        padding: 0 0 0 0;\n",
              "        width: 32px;\n",
              "      }\n",
              "\n",
              "      .colab-df-generate:hover {\n",
              "        background-color: #E2EBFA;\n",
              "        box-shadow: 0px 1px 2px rgba(60, 64, 67, 0.3), 0px 1px 3px 1px rgba(60, 64, 67, 0.15);\n",
              "        fill: #174EA6;\n",
              "      }\n",
              "\n",
              "      [theme=dark] .colab-df-generate {\n",
              "        background-color: #3B4455;\n",
              "        fill: #D2E3FC;\n",
              "      }\n",
              "\n",
              "      [theme=dark] .colab-df-generate:hover {\n",
              "        background-color: #434B5C;\n",
              "        box-shadow: 0px 1px 3px 1px rgba(0, 0, 0, 0.15);\n",
              "        filter: drop-shadow(0px 1px 2px rgba(0, 0, 0, 0.3));\n",
              "        fill: #FFFFFF;\n",
              "      }\n",
              "    </style>\n",
              "    <button class=\"colab-df-generate\" onclick=\"generateWithVariable('s4')\"\n",
              "            title=\"Generate code using this dataframe.\"\n",
              "            style=\"display:none;\">\n",
              "\n",
              "  <svg xmlns=\"http://www.w3.org/2000/svg\" height=\"24px\"viewBox=\"0 0 24 24\"\n",
              "       width=\"24px\">\n",
              "    <path d=\"M7,19H8.4L18.45,9,17,7.55,7,17.6ZM5,21V16.75L18.45,3.32a2,2,0,0,1,2.83,0l1.4,1.43a1.91,1.91,0,0,1,.58,1.4,1.91,1.91,0,0,1-.58,1.4L9.25,21ZM18.45,9,17,7.55Zm-12,3A5.31,5.31,0,0,0,4.9,8.1,5.31,5.31,0,0,0,1,6.5,5.31,5.31,0,0,0,4.9,4.9,5.31,5.31,0,0,0,6.5,1,5.31,5.31,0,0,0,8.1,4.9,5.31,5.31,0,0,0,12,6.5,5.46,5.46,0,0,0,6.5,12Z\"/>\n",
              "  </svg>\n",
              "    </button>\n",
              "    <script>\n",
              "      (() => {\n",
              "      const buttonEl =\n",
              "        document.querySelector('#id_dbfcc6f6-3cd5-4f49-9e20-a7011e256f94 button.colab-df-generate');\n",
              "      buttonEl.style.display =\n",
              "        google.colab.kernel.accessAllowed ? 'block' : 'none';\n",
              "\n",
              "      buttonEl.onclick = () => {\n",
              "        google.colab.notebook.generateWithVariable('s4');\n",
              "      }\n",
              "      })();\n",
              "    </script>\n",
              "  </div>\n",
              "\n",
              "    </div>\n",
              "  </div>\n"
            ],
            "application/vnd.google.colaboratory.intrinsic+json": {
              "type": "dataframe",
              "variable_name": "s4",
              "summary": "{\n  \"name\": \"s4\",\n  \"rows\": 3,\n  \"fields\": [\n    {\n      \"column\": \"Names\",\n      \"properties\": {\n        \"dtype\": \"string\",\n        \"num_unique_values\": 3,\n        \"samples\": [\n          \"Nazrana\",\n          \"Onkar\",\n          \"Esha\"\n        ],\n        \"semantic_type\": \"\",\n        \"description\": \"\"\n      }\n    },\n    {\n      \"column\": \"Marks\",\n      \"properties\": {\n        \"dtype\": \"number\",\n        \"std\": 57,\n        \"min\": 0,\n        \"max\": 100,\n        \"num_unique_values\": 2,\n        \"samples\": [\n          0,\n          100\n        ],\n        \"semantic_type\": \"\",\n        \"description\": \"\"\n      }\n    },\n    {\n      \"column\": \"Mobile\",\n      \"properties\": {\n        \"dtype\": \"number\",\n        \"std\": 507,\n        \"min\": 9000,\n        \"max\": 9888,\n        \"num_unique_values\": 3,\n        \"samples\": [\n          9000,\n          9888\n        ],\n        \"semantic_type\": \"\",\n        \"description\": \"\"\n      }\n    }\n  ]\n}"
            }
          },
          "metadata": {},
          "execution_count": 75
        },
        {
          "output_type": "display_data",
          "data": {
            "text/plain": [
              "<google.colab._quickchart_helpers.SectionTitle at 0x7ebc5ad679d0>"
            ],
            "text/html": [
              "<h4 class=\"colab-quickchart-section-title\">Distributions</h4>\n",
              "<style>\n",
              "  .colab-quickchart-section-title {\n",
              "      clear: both;\n",
              "  }\n",
              "</style>"
            ]
          },
          "metadata": {}
        },
        {
          "output_type": "display_data",
          "data": {
            "text/plain": [
              "from matplotlib import pyplot as plt\n",
              "s4['Marks'].plot(kind='hist', bins=20, title='Marks')\n",
              "plt.gca().spines[['top', 'right',]].set_visible(False)"
            ],
            "text/html": [
              "      <div class=\"colab-quickchart-chart-with-code\" id=\"chart-9f1756e8-9ad3-4543-b19f-079c9b0b4899\">\n",
              "        <img style=\"width: 180px;\" src=\"data:image/png;base64,iVBORw0KGgoAAAANSUhEUgAAAjEAAAGrCAYAAAAxesZMAAAAOXRFWHRTb2Z0d2FyZQBNYXRwbG90\n",
              "bGliIHZlcnNpb24zLjcuMSwgaHR0cHM6Ly9tYXRwbG90bGliLm9yZy/bCgiHAAAACXBIWXMAAA9h\n",
              "AAAPYQGoP6dpAAAl60lEQVR4nO3df1BU973/8dcKycZYwJ8E0hWIAubiD2AVhkiuSSbjSH6hRTs1\n",
              "jZ34gx/admwunTFhbG6qTYKdSWi8nbFgZWhabzUJkpbRJhlN0lxoWsFYbKs3RograEE6TQLoNYQf\n",
              "5/7hN/vNXn7okj0sH30+Zs6Me87h7Ht3NvDM7oHjsCzLEgAAgGHGBXsAAACAkSBiAACAkYgYAABg\n",
              "JCIGAAAYiYgBAABGImIAAICRiBgAAGAkIgYAABiJiAEAAEYiYgBcU37xi1/I5XIFewwAo4CIATCq\n",
              "7r77bjkcDpWVlfms7+rqUlhYmBwOhxobG4M0HQCTEDEARl1SUtKAiPnVr36l2NjYL3Xcnp6eL/X1\n",
              "AMxCxAAYdQ899JDOnz+vw4cPe9f97Gc/U0FBgfd2a2urHnzwQd1yyy0KCwvTvHnz9Morr/gcx+Fw\n",
              "6Cc/+YkWLlyoCRMmaN++fQPuq66uTtOnT9cLL7wgSXr77be1YMECRUREaMqUKcrMzNTHH39szwMF\n",
              "YCsiBsCoCw0NVW5urkpLSyVJtbW16uzs1AMPPODdp6+vT2vXrlVTU5M++ugjfe9739M3v/lNHT9+\n",
              "3OdYZWVl2rVrly5cuKClS5f6bHvppZf00EMPqbS0VI899pgkadWqVfrOd76jTz75RK2trXruued0\n",
              "44032vuAAdiCiAEQFHl5edq3b58++eQT/exnP1NeXp7Gjfv/35JcLpdycnL0la98RTfccIPWrVun\n",
              "pKQkvfXWWz7H+bd/+zclJSXJ4XBo/Pjx3vVbtmzR448/roMHD/rE0Y033qimpib9/e9/14033qg7\n",
              "7rhDEyZMsP8BAwg4IgZAULhcLt1zzz167rnn9Nvf/lbr1q3z2f7xxx8rLy9Pt912m8LDwzVx4kQd\n",
              "P35c7e3tPvvddtttA4798ccfq6SkRBs2bNC8efN8tlVXV+vDDz/U/PnzFR8fr6eeekq9vb2Bf4AA\n",
              "bBca7AEAXL82bNig+++/X8uXL1d0dLQ8Ho932xNPPKH3339f77zzjqZPny6Hw6Hk5GRZluVzjC++\n",
              "e/O5SZMmqbq6Wvfdd58cDoc2bdrk3TZ37lz9+te/liQ1NDRoyZIlcrlcysvLs+dBArAN78QACJol\n",
              "S5bo4MGD+slPfjJgW0dHh26++WZNmTJFPT09+ulPfzrgfJjhuN1u1dbWaseOHd6I+eyzz1RRUaF/\n",
              "/OMfkqSIiAiFhIQoNJT/nwNMRMQACBqHw6F777130D9O9/TTT+vSpUu65ZZbFBcXp/PnzyszM9Ov\n",
              "4yckJOgPf/iDfve732ndunWyLEuVlZWaPXu2JkyYoLvuukurV6/Wo48+GqiHBGAUOaz/+94sAACA\n",
              "AXgnBgAAGImIAQAARiJiAACAkYgYAABgJCIGAAAYiYgBAABGImIAAICRrvmI2b59e7BHAAAANrjm\n",
              "I+bMmTPBHgEAANjgmo8YAABwbSJiAACAkYgYAABgJCIGAAAYiYgBAABGImIAAICRiBgAAGAkIgYA\n",
              "ABiJiAEAAEYiYgAAgJGIGAAAYCQiBgAAGMm2iPn000+1bNkyJSYmKjk5WYsXL1ZjY+Og++7fv1+3\n",
              "3367EhISlJOTo87OzqvaBgAArl+2vhOTn5+vkydP6tixY1q6dKlyc3MH7HPhwgWtW7dOv/nNb3Tq\n",
              "1Cndeuut+tGPfnTFbQAA4PpmW8TcdNNNuv/+++VwOCRJGRkZ8ng8A/Z77bXXlJqaqttvv12S9O1v\n",
              "f1t79uy54rbBdHd3q7Oz02fp6+sL8CMDAABjQeho3dH27du1dOnSAeubm5sVGxvrvR0XF6fW1lb1\n",
              "9vYOuy00dODoxcXF2rJli8+6jIyMAD4KAADME/fEAVuO69n2gC3HvVqjcmLvs88+q8bGRhUXF9t6\n",
              "P0VFRero6PBZ0tPTbb1PAAAQHLZHzHPPPaeqqiq99tpruvnmmwdsj4mJ0ZkzZ7y3PR6PoqOjFRoa\n",
              "Ouy2wTidToWHh/ssISEhgX9QAAAg6GyNmJKSEu3Zs0cHDx7UxIkTB90nKytLR48e1fvvvy9J2rFj\n",
              "h1auXHnFbQAA4Ppm2zkxZ8+e1fe//33NmDFD99xzj6TL75QcPnxY//7v/65bb71V69evV1hYmHbt\n",
              "2qVly5apt7dXc+bM0YsvvihJw24DAADXN4dlWVawh7BTYWGhSkpKgj0GAABBw4m9AAAAYwgRAwAA\n",
              "jETEAAAAIxExAADASEQMAAAwEhEDAACMRMQAAAAjETEAAMBIRAwAADASEQMAAIxExAAAACMRMQAA\n",
              "wEhEDAAAMBIRAwAAjETEAAAAIxExAADASEQMAAAwEhEDAACMRMQAAAAjETEAAMBIRAwAADASEQMA\n",
              "AIxExAAAACMRMQAAwEhEDAAAMBIRAwAAjETEAAAAIxExAADASEQMAAAwEhEDAACMRMQAAAAjETEA\n",
              "AMBIRAwAADASEQMAAIxExAAAACPZGjEbN25UXFycHA6HGhoaBt2noqJCKSkp3mXq1KnKycmRJHk8\n",
              "HoWEhPhsb2pqsnNkAABgiFA7D75ixQpt2rRJd95555D7rFmzRmvWrPHenjNnjh555BHv7bCwsCED\n",
              "CAAAXL9sjZhFixb5tf/hw4fV3t6u7OzsEd1fd3e3uru7fdb19fWN6FgAAGBsG1PnxJSXl+tb3/qW\n",
              "brjhBu+6ixcvKi0tTW63W1u3bh02SoqLixUREeGz1NXVjcboAABglI2ZiLl48aL27t2rdevWeddF\n",
              "R0fr3Llzqq+v16FDh1RTU6Pnn39+yGMUFRWpo6PDZ0lPTx+N8QEAwCgbMxHzyiuvaPbs2UpKSvKu\n",
              "czqdioyMlCRNnjxZa9euVU1NzZDHcDqdCg8P91lCQkJsnx0AAIy+MRMx5eXlPu/CSFJ7e7t6enok\n",
              "XT7fpaqqSqmpqcEYDwAAjDG2RkxBQYFcLpfOnj2rJUuWKD4+XpKUm5ur6upq734nT55UQ0ODvvGN\n",
              "b/h8fW1trVJTU5WcnCy3262oqCht3rzZzpEBAIAhHJZlWcEewk6FhYUqKSkJ9hgAAARN3BMHbDmu\n",
              "Z9sDthz3ao2Zj5MAAAD8QcQAAAAjETEAAMBIRAwAADASEQMAAIxExAAAACMRMQAAwEhEDAAAMBIR\n",
              "AwAAjETEAAAAIxExAADASEQMAAAwEhEDAACMRMQAAAAjETEAAMBIRAwAADASEQMAAIxExAAAACMR\n",
              "MQAAwEhEDAAAMBIRAwAAjETEAAAAIxExAADASEQMAAAwEhEDAACMRMQAAAAjETEAAMBIRAwAADAS\n",
              "EQMAAIxExAAAACMRMQAAwEhEDAAAMBIRAwAAjETEAAAAIxExAADASLZGzMaNGxUXFyeHw6GGhoZB\n",
              "9/n973+v8ePHKyUlxbtcunTJu728vFwJCQmaOXOm8vLy1NPTY+fIAADAELZGzIoVK1RbW6vY2Nhh\n",
              "95s1a5YaGhq8y/jx4yVJp0+f1pNPPqmamho1Njbq/Pnz2rlzp50jAwAAQ9gaMYsWLZLL5Rrx11dW\n",
              "Vio7O1tRUVFyOBxav3699uzZM+T+3d3d6uzs9Fn6+vpGfP8AAGDsGhPnxDQ1NcntdistLU07duzw\n",
              "rm9ubvZ5FycuLk7Nzc1DHqe4uFgRERE+S11dna2zAwCA4Ah6xLjdbp09e1ZHjx7Vq6++qtLSUr38\n",
              "8ssjOlZRUZE6Ojp8lvT09ABPDAAAxoKgR0x4eLgiIiIkSS6XSw8//LBqamokSTExMTpz5ox3X4/H\n",
              "o5iYmCGP5XQ6FR4e7rOEhITY+wAAAEBQBD1iWltb1d/fL0nq6urS/v37lZqaKklavny5qqur1dbW\n",
              "JsuyVFpaqpUrVwZzXAAAMEbYGjEFBQVyuVw6e/aslixZovj4eElSbm6uqqurJUn79u3T3LlzlZyc\n",
              "rIyMDC1evFhr1qyRJM2YMUNbtmxRZmam4uPjNW3aNBUUFNg5MgAAMITDsiwr2EPYqbCwUCUlJcEe\n",
              "AwCAoIl74oAtx/Vse8CW416toH+cBAAAMBJEDAAAMBIRAwAAjETEAAAAIxExAADASEQMAAAwEhED\n",
              "AACMRMQAAAAjETEAAMBIRAwAADASEQMAAIxExAAAACMRMQAAwEhEDAAAMBIRAwAAjETEAAAAIxEx\n",
              "AADASEQMAAAwEhEDAACMRMQAAAAjETEAAMBIRAwAADASEQMAAIxExAAAACMRMQAAwEhEDAAAMBIR\n",
              "AwAAjETEAAAAIxExAADASEQMAAAwEhEDAACMRMQAAAAjETEAAMBIRAwAADASEQMAAIxka8Rs3LhR\n",
              "cXFxcjgcamhoGHSft956S+np6UpKStLs2bO1adMm9ff3S5I8Ho9CQkKUkpLiXZqamuwcGQAAGMLW\n",
              "iFmxYoVqa2sVGxs75D6TJk3S3r17deLECb333nt699139ctf/tK7PSwsTA0NDd5l5syZdo4MAAAM\n",
              "EWrnwRctWnTFfVJTU73/vummm5SSkiKPxzOi++vu7lZ3d7fPur6+vhEdCwAAjG1j6pyYtrY2VVZW\n",
              "6sEHH/Suu3jxotLS0uR2u7V169Zho6S4uFgRERE+S11d3WiMDgAARtmYiZjOzk499NBD2rRpkxYs\n",
              "WCBJio6O1rlz51RfX69Dhw6ppqZGzz///JDHKCoqUkdHh8+Snp4+Wg8BAACMojERMV1dXcrKytLS\n",
              "pUtVWFjoXe90OhUZGSlJmjx5stauXauampohj+N0OhUeHu6zhISE2D4/AAAYfUGPmAsXLigrK0tZ\n",
              "WVn6wQ9+4LOtvb1dPT09ki6f71JVVeVzDg0AALh+2RoxBQUFcrlcOnv2rJYsWaL4+HhJUm5urqqr\n",
              "qyVJ27dvV11dnaqqqry/Rv3MM89Ikmpra5Wamqrk5GS53W5FRUVp8+bNdo4MAAAM4bAsywr2EHYq\n",
              "LCxUSUlJsMcAACBo4p44YMtxPdsesOW4VyvoHycBAACMBBEDAACMRMQAAAAjETEAAMBIfkfMG2+8\n",
              "YcccAAAAfvE7YrZu3apZs2Zp+/bt6uzstGMmAACAK/I7Yv7whz9o7969+tvf/qbExER9+9vf1okT\n",
              "J+yYDQAAYEgjOicmNTVVP//5z/X6669r//79mjdvnhYvXqy//vWvgZ4PAABgUCOKmEOHDmnp0qXK\n",
              "ycnRd77zHbW1tamgoEBf+9rXAj0fAADAoEL9/YJ/+Zd/0dSpU7Vx40bl5OR4L7C4YsUKlZeXB3xA\n",
              "AACAwfgdMbt379b8+fMH3fbaa6996YEAAACuht8fJ7333nv66KOPvLf/+c9/6uc//3lAhwIAALgS\n",
              "vyNmx44dmjx5svf2lClTtGPHjoAOBQAAcCV+R8xgF73u6+sLyDAAAABXy++IiY6O1ssvv+y9/dJL\n",
              "Lyk6OjqgQwEAAFyJ3yf2vvDCC1q6dKk2bdokSbr55pv129/+NuCDAQAADMfviLn99tt14sQJnTx5\n",
              "UpI0a9Ys769ZAwAAjBa/I0aSHA6HJk6cqN7eXp07d06SFBMTE9DBAAAAhuN3xPziF7/Qxo0bdcMN\n",
              "N2jcuMun1DgcDrW3twd8OAAAgKH4HTE/+tGPVF9fr1mzZtkxDwAAwFXx+7eTpk6dSsAAAICg8zti\n",
              "li1bphdeeEHt7e3q7Oz0LgAAAKPJ74+TNm/eLEkqLCyUw+GQZVlyOBz8wTsAADCq/I6Y/v5+O+YA\n",
              "AADwi98fJ0mXLwL5q1/9SpL0ySefqLW1NaBDAQAAXMmILgC5du1a/fCHP5R0+SrW3/zmNwM9FwAA\n",
              "wLD8jpidO3fqT3/6k8LDwyVJM2fO1D/+8Y+ADwYAADAcvyPG6XRq/PjxPutCQ0f0h38BAABGzO+I\n",
              "mTZtmj744AM5HA5Jl/+CL5ccAAAAo21EV7F++OGH9f7772v69OkKDw/X/v377ZgNAABgSH5HTHx8\n",
              "vA4fPqyTJ0/KsiyuYg0AAILC74hpbm6WJE2YMEGSuIo1AAAICr8jZv78+d6/1Pvpp5/qf/7nfzRl\n",
              "yhSuYg0AAEaV3xHzf3+duqqqSseOHQvYQAAAAFdjRH+x94tycnJ04MCBQMwCAABw1fyOmC9eufrj\n",
              "jz/W66+/PuRVrDdu3Ki4uDg5HA41NDQMeczy8nIlJCRo5syZysvLU09Pz1VtAwAA1y+/I2bixIma\n",
              "NGmSJk6cqMjISBUWFuo//uM/Bt13xYoVqq2tVWxs7JDHO336tJ588knV1NSosbFR58+f186dO6+4\n",
              "DQAAXN/8jpj+/n719fWpv79fPT09OnHihLKysgbdd9GiRXK5XMMer7KyUtnZ2YqKipLD4dD69eu1\n",
              "Z8+eK24bTHd3t887RZ2dnerr6/P3IQIAAAME/XoBzc3NPu/UxMXFeX+Ne7htgykuLtaWLVt81mVk\n",
              "ZAR44v83yxP2nQfk2faAbccGAOBa4fc7MePGjVNISMiA5fP1wVRUVKSOjg6fJT09PagzAQAAe/j9\n",
              "TszWrVt16dIlbdiwQZJUWlqq8ePH67HHHhvRADExMWpqavLe9ng83j+cN9y2wTidTjmdTp91wQ4r\n",
              "AABgD7/fiXn11Vf1zDPPyOVyyeVy6emnn1ZVVZUmTJjg/Su+/li+fLmqq6vV1tYmy7JUWlqqlStX\n",
              "XnEbAAC4vvkdMV1dXT5/nbe9vV1dXV2D7ltQUCCXy6WzZ89qyZIlio+PlyTl5uaqurpakjRjxgxt\n",
              "2bJFmZmZio+P17Rp01RQUHDFbQAA4Prm98dJ3//+95WcnKz7779fkvT666/rhz/84aD7lpWVDbp+\n",
              "165dPrfz8vKUl5c36L7DbQMAANcvvyOmoKBAmZmZevvttyVJhYWFmj17dsAHAwAAGM6IfsV6ypQp\n",
              "mjt3ru6++2719vbqs88+04033hjo2QAAAIbk9zkxlZWVysjI0Jo1ayRJx48f17JlywI9FwAAwLD8\n",
              "jpji4mIdPXpUEydOlCQlJyfrzJkzgZ4LAABgWH5HTEhIiKZMmeKzjo+SAADAaPM7YsLCwnT+/Hk5\n",
              "HA5J0ptvvqnJkycHfDAAAIDh+H1i749//GPdd999+vDDD3XnnXfq9OnTOnDAvusIAQAADMaviPn8\n",
              "CtZvv/223n33XVmWpYULF3rPjwEAABgtfkXMuHHjlJ+fr2PHjum+++6zayYAAIAr8vucmISEBDU2\n",
              "NtoxCwAAwFXz+5yYjz76SCkpKVq4cKG+8pWveNdXVVUFdDAAAIDhXHXE5Ofna+fOnXr00UeVnZ2t\n",
              "SZMm2TkXAADAsK46Yo4cOSJJevTRR+V2u3X06FHbhgIAALgSv8+JkSTLsgI9BwAAgF+u+p2YS5cu\n",
              "6a9//assy9Knn37q/ffn5s2bZ8uAAAAAg/ErYrKzs723v/hvh8OhDz/8MLCTAQAADOOqI8bj8dg4\n",
              "BgAAgH9GdE4MAABAsBExAADASEQMAAAwEhEDAACMRMQAAAAjETEAAMBIRAwAADASEQMAAIxExAAA\n",
              "ACMRMQAAwEhEDAAAMBIRAwAAjETEAAAAIxExAADASEQMAAAwEhEDAACMRMQAAAAjETEAAMBItkbM\n",
              "qVOntHDhQiUmJiotLU3Hjx8fsE9FRYVSUlK8y9SpU5WTkyNJ8ng8CgkJ8dne1NRk58gAAMAQoXYe\n",
              "vKCgQPn5+Vq9erUqKyu1evVq1dfX++yzZs0arVmzxnt7zpw5euSRR7y3w8LC1NDQYOeYAADAQLa9\n",
              "E9Pe3q4jR45o1apVkqTly5erpaVFjY2NQ37N4cOH1d7eruzs7BHdZ3d3tzo7O32Wvr6+ER0LAACM\n",
              "bbZFTEtLi6KjoxUaevnNHofDoZiYGDU3Nw/5NeXl5frWt76lG264wbvu4sWLSktLk9vt1tatW4eN\n",
              "kuLiYkVERPgsdXV1gXtQAABgzBgzJ/ZevHhRe/fu1bp167zroqOjde7cOdXX1+vQoUOqqanR888/\n",
              "P+QxioqK1NHR4bOkp6ePxvgAAGCU2RYx06dPV2trq3p7eyVJlmWpublZMTExg+7/yiuvaPbs2UpK\n",
              "SvKuczqdioyMlCRNnjxZa9euVU1NzZD36XQ6FR4e7rOEhIQE8FEBAICxwraIiYyMlNvt1u7duyVJ\n",
              "+/btk8vlUnx8/KD7l5eX+7wLI10+r6anp0fS5fNdqqqqlJqaatfIAADAILZ+nFRWVqaysjIlJiZq\n",
              "27ZtqqiokCTl5uaqurrau9/JkyfV0NCgb3zjGz5fX1tbq9TUVCUnJ8vtdisqKkqbN2+2c2QAAGAI\n",
              "W3/FetasWfrjH/84YP2uXbsG7NfV1TVgv5ycHO/fjAEAAPiiMXNiLwAAgD+IGAAAYCQiBgAAGImI\n",
              "AQAARiJiAACAkYgYAABgJCIGAAAYiYgBAABGImIAAICRiBgAAGAkIgYAABiJiAEAAEYiYgAAgJGI\n",
              "GAAAYCQiBgAAGImIAQAARiJiAACAkYgYAABgJCIGAAAYiYgBAABGImIAAICRiBgAAGAkIgYAABiJ\n",
              "iAEAAEYiYgAAgJGIGAAAYCQiBgAAGImIAQAARiJiAACAkYgYAABgJCIGAAAYiYgBAABGImIAAICR\n",
              "iBgAAGAkIgYAABjJ1og5deqUFi5cqMTERKWlpen48eMD9vn973+v8ePHKyUlxbtcunTJu728vFwJ\n",
              "CQmaOXOm8vLy1NPTY+fIAADAELZGTEFBgfLz8/XBBx/o8ccf1+rVqwfdb9asWWpoaPAu48ePlySd\n",
              "Pn1aTz75pGpqatTY2Kjz589r586ddo4MAAAMYVvEtLe368iRI1q1apUkafny5WppaVFjY+NVH6Oy\n",
              "slLZ2dmKioqSw+HQ+vXrtWfPniH37+7uVmdnp8/S19f3pR8LAAAYe2yLmJaWFkVHRys0NFSS5HA4\n",
              "FBMTo+bm5gH7NjU1ye12Ky0tTTt27PCub25uVmxsrPd2XFzcoF//ueLiYkVERPgsdXV1AXxUAABg\n",
              "rAj6ib1ut1tnz57V0aNH9eqrr6q0tFQvv/zyiI5VVFSkjo4OnyU9PT3AEwMAgLHAtoiZPn26Wltb\n",
              "1dvbK0myLEvNzc2KiYnx2S88PFwRERGSJJfLpYcfflg1NTWSpJiYGJ05c8a7r8fjGfD1X+R0OhUe\n",
              "Hu6zhISEBPqhAQCAMcC2iImMjJTb7dbu3bslSfv27ZPL5VJ8fLzPfq2trerv75ckdXV1af/+/UpN\n",
              "TZV0+Tya6upqtbW1ybIslZaWauXKlXaNDAAADGLrx0llZWUqKytTYmKitm3bpoqKCklSbm6uqqur\n",
              "JV2Om7lz5yo5OVkZGRlavHix1qxZI0maMWOGtmzZoszMTMXHx2vatGkqKCiwc2QAAGAIh2VZVrCH\n",
              "sFNhYaFKSkoCfty4Jw4E/Jif82x7wLZjAwCuP3b9zAr2z6ugn9gLAAAwEkQMAAAwEhEDAACMRMQA\n",
              "AAAjETEAAMBIRAwAADASEQMAAIxExAAAACMRMQAAwEhEDAAAMBIRAwAAjETEAAAAIxExAADASEQM\n",
              "AAAwEhEDAACMRMQAAAAjETEAAMBIRAwAADASEQMAAIxExAAAACMRMQAAwEhEDAAAMBIRAwAAjETE\n",
              "AAAAIxExAADASEQMAAAwEhEDAACMRMQAAAAjETEAAMBIRAwAADASEQMAAIxExAAAACMRMQAAwEhE\n",
              "DAAAMBIRAwAAjGRrxJw6dUoLFy5UYmKi0tLSdPz48QH7vPXWW0pPT1dSUpJmz56tTZs2qb+/X5Lk\n",
              "8XgUEhKilJQU79LU1GTnyAAAwBC2RkxBQYHy8/P1wQcf6PHHH9fq1asH7DNp0iTt3btXJ06c0Hvv\n",
              "vad3331Xv/zlL73bw8LC1NDQ4F1mzpxp58gAAMAQtkVMe3u7jhw5olWrVkmSli9frpaWFjU2Nvrs\n",
              "l5qaqhkzZkiSbrrpJqWkpMjj8YzoPru7u9XZ2emz9PX1fanHAQAAxibbIqalpUXR0dEKDQ2VJDkc\n",
              "DsXExKi5uXnIr2lra1NlZaUefPBB77qLFy8qLS1NbrdbW7duHTZKiouLFRER4bPU1dUF7kEBAIAx\n",
              "Y8yc2NvZ2amHHnpImzZt0oIFCyRJ0dHROnfunOrr63Xo0CHV1NTo+eefH/IYRUVF6ujo8FnS09NH\n",
              "6yEAAIBRZFvETJ8+Xa2trert7ZUkWZal5uZmxcTEDNi3q6tLWVlZWrp0qQoLC73rnU6nIiMjJUmT\n",
              "J0/W2rVrVVNTM+R9Op1OhYeH+ywhISEBfmQAAGAssC1iIiMj5Xa7tXv3bknSvn375HK5FB8f77Pf\n",
              "hQsXlJWVpaysLP3gBz/w2dbe3q6enh5Jl893qaqqUmpqql0jAwAAg9j6cVJZWZnKysqUmJiobdu2\n",
              "qaKiQpKUm5ur6upqSdL27dtVV1enqqoq769RP/PMM5Kk2tpapaamKjk5WW63W1FRUdq8ebOdIwMA\n",
              "AEM4LMuygj2EnQoLC1VSUhLw48Y9cSDgx/ycZ9sDth0bAHD9setnVrB/Xo2ZE3sBAAD8QcQAAAAj\n",
              "ETEAAMBIRAwAADASEQMAAIxExAAAACMRMQAAwEhEDAAAMBIRAwAAjETEAAAAIxExAADASEQMAAAw\n",
              "EhEDAACMRMQAAAAjETEAAMBIRAwAADASEQMAAIxExAAAACMRMQAAwEhEDAAAMBIRAwAAjETEAAAA\n",
              "IxExAADASEQMAAAwEhEDAACMRMQAAAAjETEAAMBIRAwAADASEQMAAIxExAAAACMRMQAAwEhEDAAA\n",
              "MBIRAwAAjETEAAAAIxExAADASLZGzKlTp7Rw4UIlJiYqLS1Nx48fH3S/8vJyJSQkaObMmcrLy1NP\n",
              "T89VbQMAANcvWyOmoKBA+fn5+uCDD/T4449r9erVA/Y5ffq0nnzySdXU1KixsVHnz5/Xzp07r7gN\n",
              "AABc32yLmPb2dh05ckSrVq2SJC1fvlwtLS1qbGz02a+yslLZ2dmKioqSw+HQ+vXrtWfPnituG0x3\n",
              "d7c6Ozt9lr6+PrseIgAACKJQuw7c0tKi6OhohYZevguHw6GYmBg1NzcrPj7eu19zc7NiY2O9t+Pi\n",
              "4tTc3HzFbYMpLi7Wli1bfNbdfvvtKiwsDMhj+lxfX5+i6+qUnp6ukJCQgB5bkgoL3wz4MU3V19en\n",
              "Ohufa1zG8zw6eJ5HB8/zQDk2HLOvr0933PG0bc9zbGysvve97w27j20REwxFRUUDgsXpdMrpdAb0\n",
              "fjo7OxUREaE33nhD4eHhAT02fPFcjw6e59HB8zw6eJ5Hx1h4nm2LmOnTp6u1tVW9vb0KDQ2VZVlq\n",
              "bm5WTEyMz34xMTFqamry3vZ4PN59hts2GDuCBQAAjE22nRMTGRkpt9ut3bt3S5L27dsnl8vl81GS\n",
              "dPlcmerqarW1tcmyLJWWlmrlypVX3AYAAK5vtv52UllZmcrKypSYmKht27apoqJCkpSbm6vq6mpJ\n",
              "0owZM7RlyxZlZmYqPj5e06ZNU0FBwRW3AQCA65ut58TMmjVLf/zjHwes37Vrl8/tvLw85eXlDXqM\n",
              "4bYFi9Pp1FNPPcVHV6OA53p08DyPDp7n0cHzPDrGwvPssCzLCtq9AwAAjBCXHQAAAEYiYgAAgJGI\n",
              "GAAAYCQiBgAAGImIGYGrvTo3rt6nn36qZcuWKTExUcnJyVq8eLH3Olvt7e3KyspSQkKC5syZo//6\n",
              "r/8K8rTXhoqKCjkcDv3mN7+RxPNsh+7ubn33u99VQkKC5s6d672WHN9DAut3v/ud3G63UlJSNGfO\n",
              "HL344ouSeE1/WRs3blRcXJwcDocaGhq864d7/Y76a9uC3+655x6roqLCsizLeuWVV6wFCxYEd6Br\n",
              "wKVLl6wDBw5Y/f39lmVZ1k9/+lPrrrvusizLstasWWM99dRTlmVZVl1dnfXVr37V+uyzz4I06bXh\n",
              "9OnT1h133GFlZGRYr776qmVZPM92eOyxx6zvfve73td1a2urZVl8Dwmk/v5+a9KkSdaxY8csy7r8\n",
              "2nY6nVZnZyev6S/pnXfesVpaWqzY2Fjrz3/+s3f9cK/f0X5tEzF+On/+vBUWFmb19PRYlnX5P6Bb\n",
              "brnFOnXqVJAnu7bU19dbsbGxlmVZ1oQJE7zf/C3LstLS0qyDBw8GaTLz9fX1Wffee6915MgR6667\n",
              "7vJGDM9zYF24cMEKCwuzOjo6fNbzPSSw+vv7rcmTJ1vvvPOOZVmWdezYMevWW2+1uru7eU0HyBcj\n",
              "ZrjXbzBe23yc5Kfhrs6NwNm+fbuWLl2qf/7zn+rp6VFUVJR325WuZo7hlZSUKDMzU/Pnz/eu43kO\n",
              "vKamJk2ePFnPPvusFixYoH/913/Vm2++yfeQAHM4HHrppZeUk5Oj2NhY3XnnnXrxxRfV1dXFa9oG\n",
              "w71+g/HavqauYo1rw7PPPqvGxka9+eabunTpUrDHuab87W9/0759+zg3YBT09vbqzJkzSkpK0rZt\n",
              "2/TnP/9Zixcv1oEDB4I92jWlt7dXTz/9tKqqqrRo0SLV19crOzvb5xwOXLt4J8ZPX7w6t6Qhr86N\n",
              "kXnuuedUVVWl1157TTfffLOmTJmi0NBQtbW1efe50tXMMbSamhp5PB4lJCQoLi5Of/rTn5Sfn6+X\n",
              "X36Z5znAYmJiNG7cOD3yyCOSpNTUVN122206c+YM30MCqKGhQX//+9+1aNEiSVJaWppcLpf+8pe/\n",
              "8Jq2wXA/A4Px85GI8dPVXp0b/ispKdGePXt08OBBTZw40bv+61//ukpLSyVJ9fX1OnfunO66664g\n",
              "TWm2DRs2qLW1VR6PRx6PRxkZGdq5c6c2bNjA8xxgU6dO1b333qs33nhDknT69GmdPn1amZmZfA8J\n",
              "oM9/cP73f/+3JKmxsVFNTU2aNWsWr2kbDPczMCg/H2072+Ya9v7771sZGRlWQkKCNX/+fOsvf/lL\n",
              "sEcyXktLiyXJmjFjhpWcnGwlJydb6enplmVZVltbm7V48WIrPj7eSkpKst56660gT3vt+OKJvTzP\n",
              "gdfU1GTdfffd1pw5c6x58+ZZlZWVlmXxPSTQfv3rX3uf4zlz5lj/+Z//aVkWr+kvKz8/3/rqV79q\n",
              "hYSEWJGRkdbMmTMtyxr+9Tvar20uAAkAAIzEx0kAAMBIRAwAADASEQMAAIxExAAAACMRMQAAwEhE\n",
              "DAAAMBIRAwAAjETEAAAAIxExAADASEQMAAAw0v8ClE8zxEcyp+UAAAAASUVORK5CYII=\n",
              "\">\n",
              "      </div>\n",
              "      <script type=\"text/javascript\">\n",
              "        (() => {\n",
              "          const chartElement = document.getElementById(\"chart-9f1756e8-9ad3-4543-b19f-079c9b0b4899\");\n",
              "          async function getCodeForChartHandler(event) {\n",
              "            const chartCodeResponse =  await google.colab.kernel.invokeFunction(\n",
              "                'getCodeForChart', [\"chart-9f1756e8-9ad3-4543-b19f-079c9b0b4899\"], {});\n",
              "            const responseJson = chartCodeResponse.data['application/json'];\n",
              "            await google.colab.notebook.addCell(responseJson.code, 'code');\n",
              "          }\n",
              "          chartElement.onclick = getCodeForChartHandler;\n",
              "        })();\n",
              "      </script>\n",
              "      <style>\n",
              "        .colab-quickchart-chart-with-code  {\n",
              "            display: block;\n",
              "            float: left;\n",
              "            border: 1px solid transparent;\n",
              "        }\n",
              "\n",
              "        .colab-quickchart-chart-with-code:hover {\n",
              "            cursor: pointer;\n",
              "            border: 1px solid #aaa;\n",
              "        }\n",
              "      </style>"
            ]
          },
          "metadata": {}
        },
        {
          "output_type": "display_data",
          "data": {
            "text/plain": [
              "from matplotlib import pyplot as plt\n",
              "s4['Mobile'].plot(kind='hist', bins=20, title='Mobile')\n",
              "plt.gca().spines[['top', 'right',]].set_visible(False)"
            ],
            "text/html": [
              "      <div class=\"colab-quickchart-chart-with-code\" id=\"chart-18414ddf-ffa6-4a1c-924e-bbca363b5076\">\n",
              "        <img style=\"width: 180px;\" src=\"data:image/png;base64,iVBORw0KGgoAAAANSUhEUgAAAjEAAAGrCAYAAAAxesZMAAAAOXRFWHRTb2Z0d2FyZQBNYXRwbG90\n",
              "bGliIHZlcnNpb24zLjcuMSwgaHR0cHM6Ly9tYXRwbG90bGliLm9yZy/bCgiHAAAACXBIWXMAAA9h\n",
              "AAAPYQGoP6dpAAAmiElEQVR4nO3df3CU9YHH8c+SeCvVJPyQXILLJgdJwCDmhyZywfF0OhREDRpo\n",
              "CxaHHyYEezN4k86hOaQ19DD0KlQ6c5SgDGfLDGBDPHJw2hOtYygeAbl4Fa5AAssGLiGISgLFmITv\n",
              "/cGx5x75tek+Sb7yfs08M+zz/e6z3/WZJG93n2RdxhgjAAAAywwZ6AUAAAD0BREDAACsRMQAAAAr\n",
              "ETEAAMBKRAwAALASEQMAAKxExAAAACsRMQAAwEpEDAAAsBIRA8A6LpdLe/bs6XL8xRdf1Le+9a3A\n",
              "7QceeEDPP/98fywNQD8iYgD0iwceeEAul0tlZWVB+1taWhQVFSWXy6Xa2tqwPNbf/d3f6d/+7d/C\n",
              "ciwAgxcRA6DfpKamXhcxv/rVr5SQkDBAKwJgMyIGQL959NFHdfbsWe3fvz+w7xe/+IUKCwuD5u3e\n",
              "vVt33323YmJilJKSopdeeklXrlwJmvOf//mfysrK0q233qrs7GwdPHgwMPbCCy/ovvvu63IdZ86c\n",
              "0RNPPKHbb79dsbGxmjt3rs6dOxemZwmgvxAxAPpNZGSk8vPztWHDBknS3r171dzcrIcffjgw58CB\n",
              "A3r88cf17LPP6vz589q6davWrl2rn//850HHWr9+vV577TWdP39eM2bM0EMPPaQLFy70uIbW1lZ9\n",
              "85vf1OjRo3Xs2DGdOHFCkZGReuKJJ8L7ZAE4jogB0K8KCgq0Y8cOff755/rFL36hgoICDRnyf9+K\n",
              "Xn31VT388MP6zne+o8jISN19993627/920D4XPPMM88oNTVVbrdbP/zhDxUZGanKysoeH3/37t1q\n",
              "aWnRT3/6U91yyy269dZbtXr1au3Zs0enT58O+/MF4JzIgV4AgBuLx+PRgw8+qJdeekk7d+7USy+9\n",
              "pNbW1sB4fX29UlNTg+6TlJQkv98ftO8v/uIvAv8eMmSIEhISVF9f3+PjHz9+XGfPntXw4cOD9rvd\n",
              "bvn9fnk8nr48LQADgIgB0O+efvppzZgxQ7NmzVJ8fLx8Pl9gbMyYMaqrqwuaX1dXJ6/XG7Tvq/e5\n",
              "cuVKrwMkLi5OCQkJ1z0GAPvwdhKAfjdt2jS9/fbb+tnPfnbd2KJFi7R7927t2LFDHR0d+o//+A/9\n",
              "9Kc/1eLFi4PmrVu3Tv/1X/+lL7/8UqtWrdKXX36p3NzcHh87Ly9PbW1tWrFiReAamqamJm3fvj08\n",
              "Tw5AvyFiAPQ7l8ulb37zm52+cnLvvfeqvLxcq1at0vDhw/Xtb39bS5cu1TPPPBM07+mnn9aTTz6p\n",
              "ESNGqLKyUv/6r/+qYcOG9fjYUVFR+uCDD+T3+zVp0iRFR0crJydH77//frieHoB+4jLGmIFeBAAA\n",
              "QKh4JQYAAFiJiAEAAFYiYgAAgJWIGAAAYCUiBgAAWImIAQAAViJiAACAlb72EbNu3bqBXgIAAHDA\n",
              "1z5iTp06NdBLAAAADvjaRwwAAPh6ImIAAICViBgAAGAlIgYAAFiJiAEAAFYiYgAAgJWIGAAAYCUi\n",
              "BgAAWImIAQAAViJiAACAlYgYAABgJSIGAABYybGI+eKLL/TYY48pJSVFaWlpmjp1qmprazudu2vX\n",
              "Lk2YMEHJycnKy8tTc3Nzr8YAAMCNy9FXYhYvXqyjR4/qo48+0syZM5Wfn3/dnIsXL+qpp57SP//z\n",
              "P+v48eMaPXq0fvzjH/c4BgAAbmyORczNN9+sGTNmyOVySZImT54sn8933bw333xTGRkZmjBhgiTp\n",
              "+9//vrZu3drjWGdaW1vV3NwctHV0dIT5mQEAgMEgsr8eaN26dZo5c+Z1+/1+vxISEgK3ExMT1dDQ\n",
              "oPb29m7HIiOvX3ppaalKSkqC9k2ePDmMz+L/JD6325HjSpJv9cOOHRsAgK+Lfrmw98UXX1Rtba1K\n",
              "S0sdfZzi4mJduHAhaMvOznb0MQEAwMBwPGJeeuklVVRU6M0339Q3vvGN68a9Xq9OnToVuO3z+RQf\n",
              "H6/IyMhuxzrjdrsVHR0dtEVERIT/SQEAgAHnaMSsXbtWW7du1dtvv61hw4Z1Omf69Ok6dOiQ/vCH\n",
              "P0iS1q9frzlz5vQ4BgAAbmyOXRNz+vRp/eAHP9DYsWP14IMPSrr6Ssn+/fv1wx/+UKNHj9aSJUsU\n",
              "FRWlV199VY899pja29t155136rXXXpOkbscAAMCNzWWMMQO9CCcVFRVp7dq1YT8uF/YCADCw+Iu9\n",
              "AADASkQMAACwEhEDAACsRMQAAAArETEAAMBKRAwAALASEQMAAKxExAAAACsRMQAAwEpEDAAAsBIR\n",
              "AwAArETEAAAAKxExAADASkQMAACwEhEDAACsRMQAAAArETEAAMBKRAwAALASEQMAAKxExAAAACsR\n",
              "MQAAwEpEDAAAsBIRAwAArETEAAAAKxExAADASkQMAACwEhEDAACsRMQAAAArETEAAMBKRAwAALAS\n",
              "EQMAAKxExAAAACsRMQAAwEpEDAAAsBIRAwAArORoxCxdulSJiYlyuVyqqanpdM7mzZuVnp4e2G67\n",
              "7Tbl5eVJknw+nyIiIoLG6+rqnFwyAACwRKSTB589e7aWLVum++67r8s5Cxcu1MKFCwO377zzTn3v\n",
              "e98L3I6KiuoygAAAwI3L0Yi5//77Q5q/f/9+NTU1KTc3t0+P19raqtbW1qB9HR0dfToWAAAY3AbV\n",
              "NTGbNm3Sk08+qZtuuimw79KlS8rKylJmZqZWrlzZbZSUlpYqJiYmaKuuru6PpQMAgH42aCLm0qVL\n",
              "2rZtm5566qnAvvj4eJ05c0YHDhzQnj17VFVVpTVr1nR5jOLiYl24cCFoy87O7o/lAwCAfjZoIubX\n",
              "v/61Jk6cqNTU1MA+t9ut2NhYSdKIESO0aNEiVVVVdXkMt9ut6OjooC0iIsLxtQMAgP43aCJm06ZN\n",
              "Qa/CSFJTU5Pa2tokXb3epaKiQhkZGQOxPAAAMMg4GjGFhYXyeDw6ffq0pk2bpqSkJElSfn6+Kisr\n",
              "A/OOHj2qmpoaffe73w26/969e5WRkaG0tDRlZmYqLi5Oy5cvd3LJAADAEi5jjBnoRTipqKhIa9eu\n",
              "DftxE5/bHfZjXuNb/bBjxwYA4Oti0LydBAAAEAoiBgAAWImIAQAAViJiAACAlYgYAABgJSIGAABY\n",
              "iYgBAABWImIAAICViBgAAGAlIgYAAFiJiAEAAFYiYgAAgJWIGAAAYCUiBgAAWImIAQAAViJiAACA\n",
              "lYgYAABgJSIGAABYiYgBAABWImIAAICViBgAAGAlIgYAAFiJiAEAAFYiYgAAgJWIGAAAYCUiBgAA\n",
              "WImIAQAAViJiAACAlYgYAABgJSIGAABYiYgBAABWImIAAICViBgAAGAlIgYAAFiJiAEAAFZyNGKW\n",
              "Ll2qxMREuVwu1dTUdDrnvffe09ChQ5Wenh7YLl++HBjftGmTkpOTNW7cOBUUFKitrc3JJQMAAEs4\n",
              "GjGzZ8/W3r17lZCQ0O288ePHq6amJrANHTpUknTy5EmtWLFCVVVVqq2t1dmzZ7Vx40YnlwwAACzh\n",
              "aMTcf//98ng8fb5/eXm5cnNzFRcXJ5fLpSVLlmjr1q1dzm9tbVVzc3PQ1tHR0efHBwAAg9eguCam\n",
              "rq5OmZmZysrK0vr16wP7/X5/0Ks4iYmJ8vv9XR6ntLRUMTExQVt1dbWjawcAAANjwCMmMzNTp0+f\n",
              "1qFDh/TGG29ow4YNev311/t0rOLiYl24cCFoy87ODvOKAQDAYDDgERMdHa2YmBhJksfj0dy5c1VV\n",
              "VSVJ8nq9OnXqVGCuz+eT1+vt8lhut1vR0dFBW0REhLNPAAAADIgBj5iGhgZduXJFktTS0qJdu3Yp\n",
              "IyNDkjRr1ixVVlaqsbFRxhht2LBBc+bMGcjlAgCAQcLRiCksLJTH49Hp06c1bdo0JSUlSZLy8/NV\n",
              "WVkpSdqxY4cmTZqktLQ0TZ48WVOnTtXChQslSWPHjlVJSYmmTJmipKQkjRo1SoWFhU4uGQAAWMJl\n",
              "jDEDvQgnFRUVae3atWE/buJzu8N+zGt8qx927NgAAHxdDPjbSQAAAH1BxAAAACsRMQAAwEpEDAAA\n",
              "sBIRAwAArETEAAAAKxExAADASkQMAACwEhEDAACsRMQAAAArETEAAMBKRAwAALASEQMAAKxExAAA\n",
              "ACsRMQAAwEpEDAAAsBIRAwAArETEAAAAKxExAADASkQMAACwEhEDAACsRMQAAAArETEAAMBKRAwA\n",
              "ALASEQMAAKxExAAAACsRMQAAwEpEDAAAsBIRAwAArETEAAAAKxExAADASkQMAACwEhEDAACsRMQA\n",
              "AAArETEAAMBKjkbM0qVLlZiYKJfLpZqamk7nvPvuu8rOzlZqaqomTpyoZcuW6cqVK5Ikn8+niIgI\n",
              "paenB7a6ujonlwwAACzhaMTMnj1be/fuVUJCQpdzhg8frm3btunIkSP68MMPtW/fPv3yl78MjEdF\n",
              "RammpiawjRs3zsklAwAAS0Q6efD777+/xzkZGRmBf998881KT0+Xz+fr0+O1traqtbU1aF9HR0ef\n",
              "jgUAAAa3QXVNTGNjo8rLy/XII48E9l26dElZWVnKzMzUypUru42S0tJSxcTEBG3V1dX9sXQAANDP\n",
              "Bk3ENDc369FHH9WyZct0zz33SJLi4+N15swZHThwQHv27FFVVZXWrFnT5TGKi4t14cKFoC07O7u/\n",
              "ngIAAOhHgyJiWlpaNH36dM2cOVNFRUWB/W63W7GxsZKkESNGaNGiRaqqquryOG63W9HR0UFbRESE\n",
              "4+sHAAD9b8Aj5uLFi5o+fbqmT5+u559/PmisqalJbW1tkq5e71JRURF0DQ0AALhxORoxhYWF8ng8\n",
              "On36tKZNm6akpCRJUn5+viorKyVJ69atU3V1tSoqKgK/Rr1q1SpJ0t69e5WRkaG0tDRlZmYqLi5O\n",
              "y5cvd3LJAADAEi5jjBnoRTipqKhIa9euDftxE5/bHfZjXuNb/bBjxwYA4OtiwN9OAgAA6AsiBgAA\n",
              "WImIAQAAViJiAACAlUKOmN/85jdOrAMAACAkIUfMypUrNX78eK1bt07Nzc1OrAkAAKBHIUfM7373\n",
              "O23btk0ff/yxUlJS9P3vf19HjhxxYm0AAABd6tM1MRkZGXrllVf01ltvadeuXbrrrrs0depU/f73\n",
              "vw/3+gAAADrVp4jZs2ePZs6cqby8PP31X/+1GhsbVVhYqMcffzzc6wMAAOhUZKh3uOOOO3Tbbbdp\n",
              "6dKlysvLC3zA4uzZs7Vp06awLxAAAKAzIUfMli1bdPfdd3c69uabb/7JCwIAAOiNkN9O+vDDD/Xp\n",
              "p58Gbp8/f16vvPJKWBcFAADQk5AjZv369RoxYkTg9siRI7V+/fqwLgoAAKAnIUdMZx963dHREZbF\n",
              "AAAA9FbIERMfH6/XX389cHv79u2Kj48P66IAAAB6EvKFvS+//LJmzpypZcuWSZK+8Y1vaOfOnWFf\n",
              "GAAAQHdCjpgJEyboyJEjOnr0qCRp/PjxgV+zBgAA6C8hR4wkuVwuDRs2TO3t7Tpz5owkyev1hnVh\n",
              "AAAA3Qk5Yv7pn/5JS5cu1U033aQhQ65eUuNyudTU1BT2xQEAAHQl5Ij58Y9/rAMHDmj8+PFOrAcA\n",
              "AKBXQv7tpNtuu42AAQAAAy7kiHnsscf08ssvq6mpSc3NzYENAACgP4X8dtLy5cslSUVFRXK5XDLG\n",
              "yOVy8QfvAABAvwo5Yq5cueLEOgAAAEIS8ttJ0tUPgfzVr34lSfr888/V0NAQ1kUBAAD0pE8fALlo\n",
              "0SK98MILkq5+ivUTTzwR7nUBAAB0K+SI2bhxo/793/9d0dHRkqRx48bp3LlzYV8YAABAd0KOGLfb\n",
              "raFDhwbti4zs0x/+BQAA6LOQI2bUqFE6duyYXC6XpKt/wZePHAAAAP2tT59iPXfuXP3hD3/QmDFj\n",
              "FB0drV27djmxNgAAgC6FHDFJSUnav3+/jh49KmMMn2INAAAGRMgR4/f7JUm33HKLJPEp1gAAYECE\n",
              "HDF333134C/1fvHFF/rjH/+okSNH8inWAACgX4UcMf//16krKir00UcfhW1BAAAAvdGnv9j7VXl5\n",
              "edq9e3c41gIAANBrIUfMVz+5+rPPPtNbb73V5adYL126VImJiXK5XKqpqenymJs2bVJycrLGjRun\n",
              "goICtbW19WoMAADcuEKOmGHDhmn48OEaNmyYYmNjVVRUpJ///Oedzp09e7b27t2rhISELo938uRJ\n",
              "rVixQlVVVaqtrdXZs2e1cePGHscAAMCNLeSIuXLlijo6OnTlyhW1tbXpyJEjmj59eqdz77//fnk8\n",
              "nm6PV15ertzcXMXFxcnlcmnJkiXaunVrj2OdaW1tDXqlqLm5WR0dHaE+RQAAYIEB/7wAv98f9EpN\n",
              "YmJi4Ne4uxvrTGlpqUpKSoL2TZ48OcwrBgDALonPOXPtqm/1w44ct7dCfiVmyJAhioiIuG67tn8g\n",
              "FRcX68KFC0Fbdnb2gK4JAAA4I+RXYlauXKnLly/r6aefliRt2LBBQ4cO1d/8zd/0aQFer1d1dXWB\n",
              "2z6fL/CH87ob64zb7Zbb7Q7aN9BhBQAAnBHyKzFvvPGGVq1aJY/HI4/Ho7//+79XRUWFbrnllsBf\n",
              "8Q3FrFmzVFlZqcbGRhljtGHDBs2ZM6fHMQAAcGMLOWJaWlqC/jpvU1OTWlpaOp1bWFgoj8ej06dP\n",
              "a9q0aUpKSpIk5efnq7KyUpI0duxYlZSUaMqUKUpKStKoUaNUWFjY4xgAALixhfx20g9+8AOlpaVp\n",
              "xowZkqS33npLL7zwQqdzy8rKOt3/6quvBt0uKChQQUFBp3O7GwMAADeukCOmsLBQU6ZM0W9/+1tJ\n",
              "UlFRkSZOnBj2hQEAAHSnT79iPXLkSE2aNEkPPPCA2tvb9eWXX+rP/uzPwr02AACALoV8TUx5ebkm\n",
              "T56shQsXSpIOHz6sxx57LNzrAgAA6FbIEVNaWqpDhw5p2LBhkqS0tDSdOnUq3OsCAADoVsgRExER\n",
              "oZEjRwbt460kAADQ30KOmKioKJ09e1Yul0uS9M4772jEiBFhXxgAAEB3Qr6w9yc/+YkeeughnThx\n",
              "Qvfdd59Onjyp3bud+UwGAACAroQUMdc+wfq3v/2t9u3bJ2OMcnJyAtfHAAAA9JeQImbIkCFavHix\n",
              "PvroIz300ENOrQkAAKBHIV8Tk5ycrNraWifWAgAA0GshXxPz6aefKj09XTk5Obr11lsD+ysqKsK6\n",
              "MAAAgO70OmIWL16sjRs3av78+crNzdXw4cOdXBcAAEC3eh0xBw8elCTNnz9fmZmZOnTokGOLAgAA\n",
              "6EnI18RIkjEm3OsAAAAISa9fibl8+bJ+//vfyxijL774IvDva+666y5HFggAANCZkCImNzc3cPur\n",
              "/3a5XDpx4kR4VwYAANCNXkeMz+dzcBkAAACh6dM1MQAAAAONiAEAAFYiYgAAgJWIGAAAYCUiBgAA\n",
              "WImIAQAAViJiAACAlYgYAABgJSIGAABYiYgBAABWImIAAICViBgAAGAlIgYAAFiJiAEAAFYiYgAA\n",
              "gJWIGAAAYCUiBgAAWImIAQAAVnI0Yo4fP66cnBylpKQoKytLhw8fvm7O5s2blZ6eHthuu+025eXl\n",
              "SZJ8Pp8iIiKCxuvq6pxcMgAAsESkkwcvLCzU4sWLtWDBApWXl2vBggU6cOBA0JyFCxdq4cKFgdt3\n",
              "3nmnvve97wVuR0VFqaamxsllAgAACzn2SkxTU5MOHjyoefPmSZJmzZql+vp61dbWdnmf/fv3q6mp\n",
              "Sbm5uX16zNbWVjU3NwdtHR0dfToWAAAY3ByLmPr6esXHxysy8uqLPS6XS16vV36/v8v7bNq0SU8+\n",
              "+aRuuummwL5Lly4pKytLmZmZWrlyZbdRUlpaqpiYmKCturo6fE8KAAAMGoPmwt5Lly5p27Zteuqp\n",
              "pwL74uPjdebMGR04cEB79uxRVVWV1qxZ0+UxiouLdeHChaAtOzu7P5YPAAD6mWMRM2bMGDU0NKi9\n",
              "vV2SZIyR3++X1+vtdP6vf/1rTZw4UampqYF9brdbsbGxkqQRI0Zo0aJFqqqq6vIx3W63oqOjg7aI\n",
              "iIgwPisAADBYOBYxsbGxyszM1JYtWyRJO3bskMfjUVJSUqfzN23aFPQqjHT1upq2tjZJV693qaio\n",
              "UEZGhlNLBgAAFnH07aSysjKVlZUpJSVFq1ev1ubNmyVJ+fn5qqysDMw7evSoampq9N3vfjfo/nv3\n",
              "7lVGRobS0tKUmZmpuLg4LV++3MklAwAASzj6K9bjx4/XBx98cN3+V1999bp5LS0t183Ly8sL/M0Y\n",
              "AACArxo0F/YCAACEgogBAABWImIAAICViBgAAGAlIgYAAFiJiAEAAFYiYgAAgJWIGAAAYCUiBgAA\n",
              "WImIAQAAViJiAACAlYgYAABgJSIGAABYiYgBAABWImIAAICViBgAAGAlIgYAAFiJiAEAAFYiYgAA\n",
              "gJWIGAAAYCUiBgAAWImIAQAAViJiAACAlYgYAABgJSIGAABYiYgBAABWImIAAICViBgAAGAlIgYA\n",
              "AFiJiAEAAFYiYgAAgJWIGAAAYCUiBgAAWImIAQAAViJiAACAlRyNmOPHjysnJ0cpKSnKysrS4cOH\n",
              "r5vz3nvvaejQoUpPTw9sly9fDoxv2rRJycnJGjdunAoKCtTW1ubkkgEAgCUcjZjCwkItXrxYx44d\n",
              "07PPPqsFCxZ0Om/8+PGqqakJbEOHDpUknTx5UitWrFBVVZVqa2t19uxZbdy40cklAwAASzgWMU1N\n",
              "TTp48KDmzZsnSZo1a5bq6+tVW1vb62OUl5crNzdXcXFxcrlcWrJkibZu3drl/NbWVjU3NwdtHR0d\n",
              "f/JzAQAAg49jEVNfX6/4+HhFRkZKklwul7xer/x+/3Vz6+rqlJmZqaysLK1fvz6w3+/3KyEhIXA7\n",
              "MTGx0/tfU1paqpiYmKCturo6jM8KAAAMFgN+YW9mZqZOnz6tQ4cO6Y033tCGDRv0+uuv9+lYxcXF\n",
              "unDhQtCWnZ0d5hUDAIDBwLGIGTNmjBoaGtTe3i5JMsbI7/fL6/UGzYuOjlZMTIwkyePxaO7cuaqq\n",
              "qpIkeb1enTp1KjDX5/Ndd/+vcrvdio6ODtoiIiLC/dQAAMAg4FjExMbGKjMzU1u2bJEk7dixQx6P\n",
              "R0lJSUHzGhoadOXKFUlSS0uLdu3apYyMDElXr6OprKxUY2OjjDHasGGD5syZ49SSAQCARRx9O6ms\n",
              "rExlZWVKSUnR6tWrtXnzZklSfn6+KisrJV2Nm0mTJiktLU2TJ0/W1KlTtXDhQknS2LFjVVJSoilT\n",
              "pigpKUmjRo1SYWGhk0sGAACWcBljzEAvwklFRUVau3Zt2I+b+NzusB/zGt/qhx07NgDgxuPUz6yB\n",
              "/nk14Bf2AgAA9AURAwAArETEAAAAKxExAADASkQMAACwEhEDAACsRMQAAAArETEAAMBKRAwAALAS\n",
              "EQMAAKxExAAAACsRMQAAwEpEDAAAsBIRAwAArETEAAAAKxExAADASkQMAACwEhEDAACsRMQAAAAr\n",
              "ETEAAMBKRAwAALASEQMAAKxExAAAACsRMQAAwEpEDAAAsBIRAwAArETEAAAAKxExAADASkQMAACw\n",
              "EhEDAACsRMQAAAArETEAAMBKRAwAALASEQMAAKxExAAAACs5GjHHjx9XTk6OUlJSlJWVpcOHD183\n",
              "591331V2drZSU1M1ceJELVu2TFeuXJEk+Xw+RUREKD09PbDV1dU5uWQAAGAJRyOmsLBQixcv1rFj\n",
              "x/Tss89qwYIF180ZPny4tm3bpiNHjujDDz/Uvn379Mtf/jIwHhUVpZqamsA2btw4J5cMAAAs4VjE\n",
              "NDU16eDBg5o3b54kadasWaqvr1dtbW3QvIyMDI0dO1aSdPPNNys9PV0+n69Pj9na2qrm5uagraOj\n",
              "4096HgAAYHByLGLq6+sVHx+vyMhISZLL5ZLX65Xf7+/yPo2NjSovL9cjjzwS2Hfp0iVlZWUpMzNT\n",
              "K1eu7DZKSktLFRMTE7RVV1eH70kBAIBBY9Bc2Nvc3KxHH31Uy5Yt0z333CNJio+P15kzZ3TgwAHt\n",
              "2bNHVVVVWrNmTZfHKC4u1oULF4K27Ozs/noKAACgHzkWMWPGjFFDQ4Pa29slScYY+f1+eb3e6+a2\n",
              "tLRo+vTpmjlzpoqKigL73W63YmNjJUkjRozQokWLVFVV1eVjut1uRUdHB20RERFhfmYAAGAwcCxi\n",
              "YmNjlZmZqS1btkiSduzYIY/Ho6SkpKB5Fy9e1PTp0zV9+nQ9//zzQWNNTU1qa2uTdPV6l4qKCmVk\n",
              "ZDi1ZAAAYBFH304qKytTWVmZUlJStHr1am3evFmSlJ+fr8rKSknSunXrVF1drYqKisCvUa9atUqS\n",
              "tHfvXmVkZCgtLU2ZmZmKi4vT8uXLnVwyAACwhMsYYwZ6EU4qKirS2rVrw37cxOd2h/2Y1/hWP+zY\n",
              "sQEANx6nfmYN9M+rQXNhLwAAQCiIGAAAYCUiBgAAWImIAQAAViJiAACAlYgYAABgJSIGAABYiYgB\n",
              "AABWImIAAICViBgAAGAlIgYAAFiJiAEAAFYiYgAAgJWIGAAAYCUiBgAAWImIAQAAViJiAACAlYgY\n",
              "AABgJSIGAABYiYgBAABWImIAAICViBgAAGAlIgYAAFiJiAEAAFYiYgAAgJWIGAAAYCUiBgAAWImI\n",
              "AQAAViJiAACAlYgYAABgJSIGAABYiYgBAABWImIAAICViBgAAGAlIgYAAFjJ0Yg5fvy4cnJylJKS\n",
              "oqysLB0+fLjTeZs2bVJycrLGjRungoICtbW19WoMAADcuByNmMLCQi1evFjHjh3Ts88+qwULFlw3\n",
              "5+TJk1qxYoWqqqpUW1urs2fPauPGjT2OAQCAG5tjEdPU1KSDBw9q3rx5kqRZs2apvr5etbW1QfPK\n",
              "y8uVm5uruLg4uVwuLVmyRFu3bu1xrDOtra1qbm4O2jo6Opx6igAAYABFOnXg+vp6xcfHKzLy6kO4\n",
              "XC55vV75/X4lJSUF5vn9fiUkJARuJyYmyu/39zjWmdLSUpWUlATtmzBhgoqKisLynK7p6OhQfHW1\n",
              "srOzFREREdZjS1JR0TthP+aNoKOjQ9UOnhf0Dedl8OGcDE5Onpe8sB7t/zj58yohIUHPPPNMt3Mc\n",
              "i5iBUFxcfF2wuN1uud3usD5Oc3OzYmJi9Jvf/EbR0dFhPTb6jvMyOHFeBh/OyeDEeQmdYxEzZswY\n",
              "NTQ0qL29XZGRkTLGyO/3y+v1Bs3zer2qq6sL3Pb5fIE53Y11xolgAQAAg5Nj18TExsYqMzNTW7Zs\n",
              "kSTt2LFDHo8n6K0k6eq1MpWVlWpsbJQxRhs2bNCcOXN6HAMAADc2R387qaysTGVlZUpJSdHq1au1\n",
              "efNmSVJ+fr4qKyslSWPHjlVJSYmmTJmipKQkjRo1SoWFhT2OAQCAG5vLGGMGehG2aW1tVWlpqYqL\n",
              "i3n7ahDhvAxOnJfBh3MyOHFeQkfEAAAAK/GxAwAAwEpEDAAAsBIRAwAArETEAAAAKxEx/+utt97S\n",
              "Pffco7vuukuTJ0/WRx99JOnqZ0BNnz5dycnJuvPOO/X+++8H7tPXMfReV+dl4cKFSklJUVpamqZM\n",
              "maIDBw4E7vPHP/5Rc+fOVVJSklJSUlReXt6rMfROV+fkmnfffVcRERF6+eWXA/s4J87r6rwYY/TC\n",
              "Cy8oJSVFkyZN0oMPPhi4D9/DnNXVOamurtbkyZOVkZGhO+64Q//wD/8QuA9fKyEyMJ9++qkZMWKE\n",
              "+fjjj40xxrz//vtm4sSJxhhjFi5caH70ox8ZY4yprq42t99+u/nyyy//pDH0TnfnZefOnaatrc0Y\n",
              "Y8y//Mu/mISEhMD9SkpKzPz5840xxpw4ccKMGjXKfPLJJz2OoWfdnRNjjPn8889NVlaWeeSRR8zP\n",
              "fvazwH7OibO6Oy8vv/yyefzxx01ra6sxxpiGhobA/fge5pzuzklaWprZuXOnMcaY8+fPm1GjRpnD\n",
              "hw8bY/haCRURY4w5cOCASU5ODtoXFRVlPvzwQ3PLLbcEfdFnZWWZt99+2xhj+jyG3unuvHzVuXPn\n",
              "TGRkZCBqUlNTzQcffBAY//a3v21eeeWVHsfQs57Oybx588zOnTvN/PnzgyKGc+Ks7s7L7bffbo4e\n",
              "Pdrp/fge5pzuzkl6erp57bXXjDHG+P1+c/vttwf+W/O1EhreTpKUnJys8+fPa9++fZKkyspKtbS0\n",
              "6OTJk2pra1NcXFxg7rVP0j5//nyfxtB7XZ0Xn88XNG/dunWaMWNG4BPTw/nJ6AjW3TkpLy/XkCFD\n",
              "lJube939OCfO6uq8fPzxxzp79qx27type++9V/fee6+2b98uSXwPc1h3XyubN2/WihUr5PV6lZKS\n",
              "ohdffDHw35qvldB8rT7Fuq9iYmJUXl6u4uJiXbx4UX/5l3+p1NRUXbx4caCXdkPr6rxcixVJ2rJl\n",
              "i15//XXer+8n3X2trF27Vu+9995AL/GG1NV5kaT29nZdvnxZ+/fvl8/nU05OjiZMmCCPxzPAq/56\n",
              "6+771+rVq1VaWqonnnhCJ06c0F/91V/pnnvuCZwz9B4R878efPDBwAVvra2tiouL05QpUxQZGanG\n",
              "xsZAJV/7JO2RI0f2aQyh6ey8XPtC3759u0pKSvTOO+/oz//8zwP38Xq9OnXqlOLj4yVd/W//rW99\n",
              "q8cx9E5n5+Szzz5TQ0OD0tPTJUmffPKJKisrde7cOa1atYpz0g86Oy85OTm69dZbNW/ePElX/8/9\n",
              "2oXwaWlpfA9zWGfnZPTo0XrjjTe0bds2SVc/I3Dy5Mn63e9+p9TUVL5WQjXQ72cNFv/93/8d+Pfy\n",
              "5ctNXl6eMcaY+fPnB13cNnr06MDFbX0dQ+91dV62b99ukpKSjM/nu+4+P/rRj667+O3cuXM9jqF3\n",
              "ujonX/X/r4nhnDivq/NSUFBg/vEf/9EYc/UiUq/Xa/bv32+M4XuY0zo7J+3t7Wb48OHmnXfeMcZc\n",
              "vaZvzJgxZt++fcYYvlZCRcT8r/z8fDN+/Hgzbtw4M2/ePPPZZ58ZY4xpbGw0U6dONUlJSSY1NdW8\n",
              "++67gfv0dQy919V5iYyMNB6Px6SlpQW2a1fpX7x40XznO98xY8eONcnJyWb79u2B43U3ht7p6px8\n",
              "1f+PGM6J87o6L5988ol59NFHzcSJE83EiRMDQWMM38Oc1tU5efvtt01mZqa56667zB133GHWrFkT\n",
              "uA9fK6HhAyABAICV+O0kAABgJSIGAABYiYgBAABWImIAAICViBgAAGAlIgYAAFiJiAEAAFYiYgAA\n",
              "gJWIGAAAYCUiBgAAWOl/AGDVYkSP5DMGAAAAAElFTkSuQmCC\n",
              "\">\n",
              "      </div>\n",
              "      <script type=\"text/javascript\">\n",
              "        (() => {\n",
              "          const chartElement = document.getElementById(\"chart-18414ddf-ffa6-4a1c-924e-bbca363b5076\");\n",
              "          async function getCodeForChartHandler(event) {\n",
              "            const chartCodeResponse =  await google.colab.kernel.invokeFunction(\n",
              "                'getCodeForChart', [\"chart-18414ddf-ffa6-4a1c-924e-bbca363b5076\"], {});\n",
              "            const responseJson = chartCodeResponse.data['application/json'];\n",
              "            await google.colab.notebook.addCell(responseJson.code, 'code');\n",
              "          }\n",
              "          chartElement.onclick = getCodeForChartHandler;\n",
              "        })();\n",
              "      </script>\n",
              "      <style>\n",
              "        .colab-quickchart-chart-with-code  {\n",
              "            display: block;\n",
              "            float: left;\n",
              "            border: 1px solid transparent;\n",
              "        }\n",
              "\n",
              "        .colab-quickchart-chart-with-code:hover {\n",
              "            cursor: pointer;\n",
              "            border: 1px solid #aaa;\n",
              "        }\n",
              "      </style>"
            ]
          },
          "metadata": {}
        },
        {
          "output_type": "display_data",
          "data": {
            "text/plain": [
              "<google.colab._quickchart_helpers.SectionTitle at 0x7ebc5ad667a0>"
            ],
            "text/html": [
              "<h4 class=\"colab-quickchart-section-title\">Categorical distributions</h4>\n",
              "<style>\n",
              "  .colab-quickchart-section-title {\n",
              "      clear: both;\n",
              "  }\n",
              "</style>"
            ]
          },
          "metadata": {}
        },
        {
          "output_type": "display_data",
          "data": {
            "text/plain": [
              "from matplotlib import pyplot as plt\n",
              "import seaborn as sns\n",
              "s4.groupby('Names').size().plot(kind='barh', color=sns.palettes.mpl_palette('Dark2'))\n",
              "plt.gca().spines[['top', 'right',]].set_visible(False)"
            ],
            "text/html": [
              "      <div class=\"colab-quickchart-chart-with-code\" id=\"chart-0bf7e840-bb1f-43d3-9114-10109529fb25\">\n",
              "        <img style=\"width: 180px;\" src=\"data:image/png;base64,iVBORw0KGgoAAAANSUhEUgAAAkcAAAGZCAYAAACDn5U1AAAAOXRFWHRTb2Z0d2FyZQBNYXRwbG90\n",
              "bGliIHZlcnNpb24zLjcuMSwgaHR0cHM6Ly9tYXRwbG90bGliLm9yZy/bCgiHAAAACXBIWXMAAA9h\n",
              "AAAPYQGoP6dpAAAYqUlEQVR4nO3de3BU9f3w8c8aeELVAk8VK0UgIqiQQEC5lB/an1Ct0AF1Kq3o\n",
              "oHhDW6oy9cbgBW+MWFuxjE5baG0tg46XtmpF22kt3kcQlCBUUQQiVEF9MBAVCYSc5w+nmW+8YEKT\n",
              "LImv18yZMZtzNp/9DuO+5+zZ3VyWZVkAABAREXvlewAAgD2JOAIASIgjAICEOAIASIgjAICEOAIA\n",
              "SIgjAICEOAIASIgjAICEONpNs2bNyvcIAEATEEe76Y033sj3CABAExBHAAAJcQQAkBBHAAAJcQQA\n",
              "kBBHAAAJcQQAkBBHAAAJcQQAkBBHAAAJcQQAkBBHAAAJcQQAkBBHAAAJcQQAkBBHAAAJcQQAkBBH\n",
              "AAAJcQQAkBBHAAAJcQQAkBBHAAAJcQQAkBBHAAAJcQQAkBBHAAAJcQQAkBBHAAAJcQQAkMhlWZbl\n",
              "e4iWaOARJ8WI/z0332MAQKty862j8z2CM0cAAClxBACQEEcAAAlxBACQEEcAAAlxBACQEEcAAAlx\n",
              "BACQEEcAAAlxBACQEEcAAAlxBACQEEcAAAlxBACQEEcAAAlxBACQEEcAAAlxBACQEEcAAAlxBACQ\n",
              "EEcAAAlxBACQEEcAAAlxBACQEEcAAAlxBACQEEcAAIk9Lo62b98eU6ZMiZ49e0bv3r2jb9++8Yc/\n",
              "/OELjysvL4+OHTs2/YAAQKvWJt8DfNKZZ54ZVVVVsWzZsthnn32ivLw8Ro0aFdXV1XHOOec06d+u\n",
              "rq6ONm32uCUBAJrRHnXmaNWqVfHggw/GnDlzYp999omIiKKiorjlllviuuuuiyeeeCJKSkpi0qRJ\n",
              "UVpaGsXFxbFkyZJP3c/27dtj/Pjxcf7558fOnTvj0ksvjUGDBkX//v3jW9/6Vrz66qu1++Zyubjm\n",
              "mmti0KBBMXXq1M+cq6qqKiorK+tsWU1N0ywCAJBXe1QcLV26NHr16hX77bdfnduHDh0a69evj3ff\n",
              "fTdWrlwZEyZMiGXLlsWFF14YV155ZZ19N2/eHCNHjow+ffrE7Nmzo6CgIKZMmRKLFy+OsrKymDRp\n",
              "UkyePLnOMQUFBbF48eL42c9+9plzzZgxIzp06FBn2/D2a4374AGAPcIeFUf10bNnzxgyZEhEfBxN\n",
              "q1evrv3d9u3bY9iwYXHmmWfGFVdcUXv7P/7xjxg6dGiUlJTE9ddfH2VlZXXu8+yzz97l35w6dWps\n",
              "2bKlztb564c23oMCAPYYe1QcDRgwIFatWhWbNm2qc/tzzz0XXbt2jU6dOkW7du1qby8oKIjq6ura\n",
              "n9u2bRtHHXVUPPzww7Fjx46IiFi3bl1ccMEFMW/evFixYkXcc889sW3btjr3v+++++5yrsLCwmjf\n",
              "vn2dLbfXHrV0AEAj2aOe4Xv16hVjxoyJ8847L7Zu3RoRH78L7ZJLLomrr776C4/P5XIxe/bs6Nq1\n",
              "a5x00knx0UcfxZYtW6Jt27bRuXPnyLIsbr/99qZ+GABAC7ZHxVFExNy5c6NHjx7Rt2/f6N27d4we\n",
              "PTouu+yymDhxYr3vY+bMmXHEEUfEd7/73Tj44INj3LhxUVxcHIMGDYpu3bo14fQAQEuXy7Isy/cQ\n",
              "LdHAI06KEf97br7HAIBW5eZbR+d7hD3vzBEAQD6JIwCAhDgCAEiIIwCAhDgCAEiIIwCAhDgCAEiI\n",
              "IwCAhDgCAEiIIwCAhDgCAEiIIwCAhDgCAEiIIwCAhDgCAEiIIwCAhDgCAEiIIwCAhDgCAEiIIwCA\n",
              "hDgCAEiIIwCAhDgCAEiIIwCAhDgCAEi0yfcALdW3jukRN88cne8xAIBG5swRAEBCHAEAJMQRAEBC\n",
              "HAEAJMQRAEBCHAEAJMQRAEBCHAEAJMQRAEBCHAEAJMQRAEBCHAEAJMQRAEBCHAEAJMQRAEBCHAEA\n",
              "JMQRAEBCHAEAJMQRAEBCHAEAJMQRAEBCHAEAJMQRAEBCHAEAJMQRAEBCHAEAJMQRAEBCHAEAJMQR\n",
              "AEBCHAEAJMQRAEBCHAEAJMQRAEBCHAEAJMQRAEBCHAEAJMQRAEBCHAEAJMQRAEBCHAEAJMQRAEBC\n",
              "HAEAJMQRAEBCHAEAJMQRAEBCHAEAJMQRAEBCHAEAJMQRAEBCHAEAJMQRAEBCHAEAJMQRAEBCHAEA\n",
              "JMQRAEBCHAEAJMQRAEBCHAEAJMQRAEBCHAEAJMQRAEAil2VZlu8hWqKzinMxdZC2BIDGdOidO/M9\n",
              "gjNHAAApcQQAkBBHAAAJcQQAkBBHAAAJcQQAkBBHAAAJcQQAkBBHAAAJcQQAkBBHAAAJcQQAkBBH\n",
              "AACJ/yqOtmzZEitWrGisWQAA8q7BcTRy5MjYvHlzfPDBB1FaWhqjR4+OadOmNcVsAADNrsFx9Pbb\n",
              "b0fHjh3j0UcfjRNPPDFWrVoVDzzwQFPMBgDQ7BocRzt27IiIiKeeeiqOO+64aNu2bbRp06bRBwMA\n",
              "yIcGx1FJSUmMGjUq5s+fHyNGjIitW7c2xVwAAHnR4FM+d955Z/ztb3+L0tLS2HvvvePNN9+MGTNm\n",
              "NMVsAADNrsFnjtq1axddu3aNZ555JiIi9t577ygtLW30wQAA8qHBcfTLX/4yzj777Lj22msjIuK9\n",
              "996L0047rbHnAgDIiwbH0Zw5c2LhwoXRvn37iIg45JBD4t133230wQAA8qHBcVRYWBhf+cpX6tzm\n",
              "3WoAQGvR4Djq1KlTvPbaa5HL5SLi4wu0u3Xr1uiDAQDkQ4NP+fziF7+IU089NVauXBldu3aN9u3b\n",
              "x/z585tiNgCAZtfgOOrZs2csWrQoXn311ciyLA477LAoKChoitkAAJrdbn3x7AcffBA7duyIbdu2\n",
              "xbJly+LFF1/8zP2Kiori8MMPj+rq6trbBg4cGE888cRuDQsA0NQafObo1ltvjWnTpkWnTp1qzxjl\n",
              "crl47bXXPnP/qqqquOOOO+L888//7yb9hOrqaheCAwCNrsFnjm677bZ49dVXY82aNbFq1apYtWrV\n",
              "54ZRRMS1114bN9xww6e+ZuTuu++OIUOGxIABA6K0tDQefvjhiIh45513on///rXb/vvvH2eddVZE\n",
              "fHwmasqUKTF48OCYMGFCbNy4MYYPHx5HHnlkFBcXxwUXXBA1NTUR8fGF4scee2yceuqp0bdv3xg4\n",
              "cGCsWbMmImKXx32WqqqqqKysrLPt/PzdAYAWrMFx1KVLl/jGN75R7/1LS0tj+PDhceutt9a5/fjj\n",
              "j4+FCxfG0qVL46GHHoqJEydGVVVVHHDAAVFWVhZlZWVx1113xb777huXXHJJ7XGbNm2KRYsWxV13\n",
              "3RUdO3aMhx9+OF544YV46aWXory8PO67777afRcvXhw33nhjLF++PI499tj46U9/GhHxhcd90owZ\n",
              "M6JDhw51tpf+X72XAABoQRocR1dccUVcdNFF8fe//z2eeuqp2m1Xbrjhhpg1a1Zs2rSp9ra1a9fG\n",
              "qFGjoqSkJE466aR47733Yu3atbW/f+utt+LEE0+M3/3ud1FSUlJ7+5lnnln7MQI1NTUxZcqUKC0t\n",
              "jQEDBsSSJUuirKysdt+hQ4fGwQcfXPvfq1evrtdxnzR16tTYsmVLna3f/vVeMgCgBWnwRTvPPfdc\n",
              "zJ07N5555pk61xw9//zzn3tMUVFRnHbaaTF9+vTa28aNGxc33XRTjB07NiIivva1r8W2bdsiIuL9\n",
              "99+P0aNHx7XXXhsjRoyoc1/77rtv7X/PnDkz3nnnnVi0aFG0a9cuLr744tr7iPj4e+D+o6CgoPbC\n",
              "8C867pMKCwujsLCwzm0Fu3UpOwCwp2twHM2dOzfKy8ujY8eODTruqquuit69e0fbtm0jIqKioqL2\n",
              "rM68efOioqIiIj6+0Hrs2LExduzYGD9+/C7vs6KiIg488MBo165dbNy4Me6///44+eSTv3CW3T0O\n",
              "AGj9Gnz+o3v37g0Oo4iI/fffPy666KLYsGFDRETMmjUrxo4dGwMGDIilS5fWfsr2s88+G4899ljc\n",
              "d999tRdlT5s27TPvc/LkybFo0aIoLi6O008/PY499th6zbK7xwEArV8uy7KsIQdceumlsW7duhg7\n",
              "dmydl61OOOGERh9uT3ZWcS6mDvLaGgA0pkPv3JnvERr+stoLL7wQERG/+tWvam/L5XJfujgCAFqn\n",
              "BsfR448/3hRzAADsEXbrI6Z37NgRa9eurfMOr379+jXaUAAA+dLgOJo/f35MnDgxKioqYp999omK\n",
              "ioro3r17nc8oAgBoqRp8RfHVV18dCxcujN69e8emTZti7ty5tZ9VBADQ0jU4jvbaa6/o3r177Qcq\n",
              "jh8/PhYsWNDogwEA5EODX1b7z4c4HnTQQfHAAw9EUVFR7Qc4AgC0dA2Oo8mTJ0dFRUVMnz49xo0b\n",
              "F5s3b45Zs2Y1xWwAAM2u3nH0ny+X7dKlSyxfvjwiIn77299GRNR+ESwAQEtX7zi65JJLPnVbLpeL\n",
              "t956KzZs2BA7d+b/Ey0BAP5b9Y6jxYsX1/n5vffei+nTp8e8efPiuuuua/TBAADyocHvVtu2bVvM\n",
              "mDEj+vTpExERr7zySlx11VWNPhgAQD7UO45qampizpw50atXr1i5cmUsWrQoZs6cGfvtt19TzgcA\n",
              "0Kzq/bJaSUlJVFVVxY033hilpaWxZcuWeOmll2p/7+tDAIDWoN5xtHXr1sjlcjFt2rRP/S6Xy8Wa\n",
              "NWsadTAAgHyodxyVl5c34RgAAHuGBl+QDQDQmokjAICEOAIASIgjAICEOAIASIgjAICEOAIASIgj\n",
              "AICEOAIASNT7E7Kp6/8e/5M4dObMfI8BADQyZ44AABLiCAAgIY4AABLiCAAgIY4AABLiCAAgIY4A\n",
              "ABLiCAAgIY4AABLiCAAgIY4AABLiCAAgIY4AABLiCAAgIY4AABLiCAAgIY4AABLiCAAgIY4AABLi\n",
              "CAAgIY4AABLiCAAgIY4AABLiCAAgIY4AABLiCAAgIY4AABLiCAAgIY4AABLiCAAgIY4AABLiCAAg\n",
              "IY4AABLiCAAgIY4AABLiCAAgIY4AABLiCAAgIY4AABLiCAAgIY4AABLiCAAgIY4AABLiCAAgIY4A\n",
              "ABLiCAAgIY4AABLiCAAgIY4AABLiCAAgIY4AABLiCAAgIY4AABLiCAAgIY4AABLiCAAgIY4AABLi\n",
              "CAAgIY4AABLiCAAgIY4AABK5LMuyfA/REu17/KDoOO7b+R4DAFqVf591U75HcOYIACAljgAAEuII\n",
              "ACAhjgAAEuIIACAhjgAAEuIIACAhjgAAEuIIACAhjgAAEuIIACAhjgAAEuIIACAhjgAAEuIIACAh\n",
              "jgAAEuIIACAhjgAAEuIIACAhjgAAEuIIACAhjgAAEuIIACAhjgAAEuIIACAhjgAAEi0mjoqKiuKw\n",
              "ww6L/v37127Lly//zH2feOKJ6N+/f/MOCAC0Cm3yPUBD3HvvvaIHAGhSLebM0Wf56KOP4pRTTok+\n",
              "ffpEaWlpfOc736n9XXV1dUyaNClKS0ujuLg4lixZUnv78ccfHwMHDozi4uI47bTT4sMPP8zXQwAA\n",
              "9jAtKo5OOeWUOi+rPfjgg7F58+Z4+eWXY9myZXHPPffU7rty5cqYMGFCLFu2LC688MK48sorIyKi\n",
              "oKAg7r777liyZEmsWLEiOnToELfddtsu/25VVVVUVlbW2WJn1qSPFQDIjxYVR/fee2+UlZXVbkOG\n",
              "DIlXXnklJk2aFPfee2+0bdu2dt+ePXvGkCFDIiJi6NChsXr16oiIyLIsbr311hgwYED069cvHnnk\n",
              "kSgrK9vl350xY0Z06NChzrZ97YYme5wAQP60qDj6pB49esTLL78cI0eOjGeffTZKSkqioqIiIiLa\n",
              "tWtXu19BQUFUV1dHRMTdd98dCxYsiCeffDKWL18el156aWzbtm2Xf2fq1KmxZcuWOtv/Obhz0z0w\n",
              "ACBvWnQc/fvf/45cLhcnnHBC/PznP48sy2L9+vW7PKaioiL233//aN++fbz//vtx5513fuHfKSws\n",
              "jPbt29fZoiDXSI8CANiTtKg4+uQ1R8uXL49hw4ZFaWlpDBgwIE4//fTo16/fLu/jjDPOiK1bt8Zh\n",
              "hx0Wo0aNiqOPPrqZpgcAWoJclmWuLN4N+x4/KDqO+3a+xwCAVuXfZ92U7xFa1pkjAICmJo4AABLi\n",
              "CAAgIY4AABLiCAAgIY4AABLiCAAgIY4AABLiCAAgIY4AABLiCAAgIY4AABLiCAAgIY4AABLiCAAg\n",
              "IY4AABLiCAAgIY4AABLiCAAgIY4AABLiCAAgIY4AABLiCAAgIY4AABLiCAAg0SbfA7RU5xUfHTPP\n",
              "uinfYwAAjcyZIwCAhDgCAEiIIwCAhDgCAEiIIwCAhDgCAEiIIwCAhDgCAEiIIwCAhDgCAEiIIwCA\n",
              "hDgCAEiIIwCAhDgCAEiIIwCAhDgCAEiIIwCAhDgCAEiIIwCAhDgCAEiIIwCAhDgCAEiIIwCAhDgC\n",
              "AEiIIwCAhDgCAEiIIwCAhDgCAEiIIwCAhDgCAEi0yfcALVFVVVX89a9/jZ07d0ZBQUG+x/nS2Llz\n",
              "Zzz//PMxePBg697MrH1+WPf8sfb50Rzr3r1795g8efIu98llWZY1yV9vxSorK6NDhw6xZcuWaN++\n",
              "fb7H+dKw7vlj7fPDuuePtc+PPWXdvawGAJAQRwAACXEEAJAQR7uhsLAwrrnmmigsLMz3KF8q1j1/\n",
              "rH1+WPf8sfb5saesuwuyAQASzhwBACTEEQBAQhwBACTE0S6sWrUq/ud//icOPfTQGDRoUPzrX//6\n",
              "zP3uuOOO6NWrVxxyyCExceLE2LFjRzNP2rrUZ90XLFgQgwcPjj59+kRxcXFcfvnlUVNTk4dpW5f6\n",
              "/puPiMiyLEaMGBEdO3ZsvgFbqfqu+/Lly+OYY46J3r17R+/evePPf/5zM0/a+tRn7WtqauLiiy+O\n",
              "Pn36RL9+/WL48OHx+uuv52Ha1uGiiy6KoqKiyOVyUVZW9rn75fW5NeNzDR8+PPv973+fZVmW3X//\n",
              "/dnAgQM/tc+aNWuyzp07Zxs2bMhqamqyMWPGZLfffnszT9q61GfdX3zxxWz16tVZlmXZRx99lA0b\n",
              "Nqz2GHZffdb+P2655Zbs3HPPzTp06NA8w7Vi9Vn3Dz/8MDv44IOzp59+OsuyLKuurs7eeeed5hyz\n",
              "VarP2j/wwAPZ4MGDs+3bt2dZlmU33HBD9v3vf785x2xVnnzyyWz9+vVZ9+7ds6VLl37mPvl+bhVH\n",
              "n+Ptt9/OvvrVr2Y7duzIsizLampqsq9//evZqlWr6ux38803Z+eff37tz4888kg2bNiwZp21Nanv\n",
              "un/Sj3/84+yaa65phglbr4as/YoVK7Kjjz46e/3118XRf6m+6/6b3/wmO/XUU/MxYqtV37V/8MEH\n",
              "s9LS0qyysjKrqanJLrvssuwnP/lJPkZuVXYVR/l+bvWy2udYv359dO7cOdq0+fi7eXO5XHTr1i3W\n",
              "rVtXZ79169ZF9+7da38uKir61D7UX33XPbVx48b44x//GKNHj26uMVul+q79jh07YuLEiTF79mxf\n",
              "yNkI6rvuL7/8chQWFsbo0aOjf//+ccYZZ8S7776bj5Fbjfqu/ZgxY+KYY46JAw88MDp37hz//Oc/\n",
              "4/rrr8/HyF8a+X5uFUe0aJWVlTFmzJi4/PLLY+DAgfke50vhuuuui+9973vRu3fvfI/ypVJdXR2P\n",
              "PfZYzJ49O5YuXRpdunSJH/3oR/ke60thyZIlsWLFinjzzTfjrbfeim9/+9vxwx/+MN9j0YTE0efo\n",
              "2rVrbNiwIaqrqyPi44tP161bF926dauzX7du3eKNN96o/bm8vPxT+1B/9V33iIj3338/Ro4cGSee\n",
              "eGJcfPHFzT1qq1PftX/yySfjtttui6KiojjqqKOisrIyioqKnMXYTQ35f83w4cOjS5cukcvlYvz4\n",
              "8bFw4cJ8jNxq1Hft586dW/vmg7322ismTJgQjz/+eD5G/tLI93OrOPocBxxwQBxxxBExb968iIj4\n",
              "05/+FAcddFD07Nmzzn4nn3xy/OUvf4mNGzdGlmXx61//OsaNG5ePkVuF+q77Bx98ECNHjoyRI0fG\n",
              "VVddlY9RW536rv3TTz8db7zxRpSXl8czzzwT7du3j/Ly8ujUqVM+xm7x6rvuP/jBD2Lx4sVRWVkZ\n",
              "ERGPPvpolJaWNvu8rUl9175Hjx6xYMGC2L59e0REzJ8/P0pKSpp93i+TvD+3NtvVTS3QypUrs29+\n",
              "85tZr169siOPPDJ76aWXsizLsnPOOSd76KGHavebM2dO1qNHj6xHjx7Z2WefXfuOBnZPfdZ9+vTp\n",
              "WZs2bbLS0tLabfr06fkcu1Wo77/5/1i7dq0LshtBfdd97ty5WXFxcda3b99s5MiR2bp16/I1cqtR\n",
              "n7Xftm1bdu6552aHH3541rdv3+y4446rfbcsDXfeeedlXbp0yQoKCrIDDjggO+SQQ7Is27OeW323\n",
              "GgBAwstqAAAJcQQAkBBHAAAJcQQAkBBHAAAJcQQAkBBHAAAJcQQAkBBHAAAJcQQAkBBHAACJ/w8V\n",
              "7TOlMHddNQAAAABJRU5ErkJggg==\n",
              "\">\n",
              "      </div>\n",
              "      <script type=\"text/javascript\">\n",
              "        (() => {\n",
              "          const chartElement = document.getElementById(\"chart-0bf7e840-bb1f-43d3-9114-10109529fb25\");\n",
              "          async function getCodeForChartHandler(event) {\n",
              "            const chartCodeResponse =  await google.colab.kernel.invokeFunction(\n",
              "                'getCodeForChart', [\"chart-0bf7e840-bb1f-43d3-9114-10109529fb25\"], {});\n",
              "            const responseJson = chartCodeResponse.data['application/json'];\n",
              "            await google.colab.notebook.addCell(responseJson.code, 'code');\n",
              "          }\n",
              "          chartElement.onclick = getCodeForChartHandler;\n",
              "        })();\n",
              "      </script>\n",
              "      <style>\n",
              "        .colab-quickchart-chart-with-code  {\n",
              "            display: block;\n",
              "            float: left;\n",
              "            border: 1px solid transparent;\n",
              "        }\n",
              "\n",
              "        .colab-quickchart-chart-with-code:hover {\n",
              "            cursor: pointer;\n",
              "            border: 1px solid #aaa;\n",
              "        }\n",
              "      </style>"
            ]
          },
          "metadata": {}
        },
        {
          "output_type": "display_data",
          "data": {
            "text/plain": [
              "<google.colab._quickchart_helpers.SectionTitle at 0x7ebc5ad652d0>"
            ],
            "text/html": [
              "<h4 class=\"colab-quickchart-section-title\">2-d distributions</h4>\n",
              "<style>\n",
              "  .colab-quickchart-section-title {\n",
              "      clear: both;\n",
              "  }\n",
              "</style>"
            ]
          },
          "metadata": {}
        },
        {
          "output_type": "display_data",
          "data": {
            "text/plain": [
              "from matplotlib import pyplot as plt\n",
              "s4.plot(kind='scatter', x='Marks', y='Mobile', s=32, alpha=.8)\n",
              "plt.gca().spines[['top', 'right',]].set_visible(False)"
            ],
            "text/html": [
              "      <div class=\"colab-quickchart-chart-with-code\" id=\"chart-955f04bf-da85-4c33-b99b-8a24d6ae09ff\">\n",
              "        <img style=\"width: 180px;\" src=\"data:image/png;base64,iVBORw0KGgoAAAANSUhEUgAAAjUAAAGkCAYAAADJx9TjAAAAOXRFWHRTb2Z0d2FyZQBNYXRwbG90\n",
              "bGliIHZlcnNpb24zLjcuMSwgaHR0cHM6Ly9tYXRwbG90bGliLm9yZy/bCgiHAAAACXBIWXMAAA9h\n",
              "AAAPYQGoP6dpAAAhP0lEQVR4nO3df1RUdeL/8dc4I6MrRgWraAWYQAaEv1AHyXQszW07Wu3SWUL3\n",
              "ZKc167TlofVstGY/7JO169Ivt/W0qbVLubqYu+y2sZquwmYKuyotpZ0ghvEYphGLYDgxcL9/+G3O\n",
              "Yq4CzjD25vk4Z45w38zM+95zhee5c++MzbIsSwAAAN9w/cI9AQAAgGAgagAAgBGIGgAAYASiBgAA\n",
              "GIGoAQAARiBqAACAEYgaAABgBKIGAAAYoU9FzXPPPRfuKQAAgBDpU1FTV1cX7ikAAIAQ6VNRAwAA\n",
              "zEXUAAAAIxA1AADACEQNAAAwAlEDAACMQNQAAAAjEDUAAMAIRA0AADACUQMAAIxA1AAAACMQNUFw\n",
              "oq1dn7X4dKKtPdxTAQCgz3KEewLfZEebfSrc5VFJ1adqbWvXwP52fSctVnMz4xUT6Qz39AAA6FM4\n",
              "UtNDR5t9+vG6vXptt1fHfX45+tl03OdX4e463fv6Xn3W4gv3FAEA6FOImh4q3OVR9ZFmfTvSqYsG\n",
              "RWiQ06GLBkXo25FOVR9pVuG7fCI4AAC9iajpgRNt7Sqp+lQDHHY57J03ocPeT06HXW+9f5hzbAAA\n",
              "6EVETQ+0+PxqbWtXhOP0m8/p6KfWL9vV4vP38swAAOi7iJoeiHQ6NLC/XV/6O0477vN3aGCEXZFO\n",
              "zsMGAKC3EDU9MKC/XbPShuqEv13+9s5h42/vkM/fru+kxmpAf3uYZggAQN/DoYQempeZoN21jao+\n",
              "0iynwy6no598/pNBkzRksOZmxod7igAA9CkcqemhmEinVt42VnMnxStygEP+DkuRAxyaOyleL9w2\n",
              "lvepAQCgl3Gk5hzERDq1aEayFk4bqRafX5FOBy85AQAQJkRNEAzobydmAAAIM15+AgAARiBqAACA\n",
              "EYgaAABgBKIGAAAYgagBAABGIGoAAIARiBoAAGAEogYAABiBqAEAAEYgagAAgBGIGgAAYASiBgAA\n",
              "GIGoAQAARiBqAACAEYgaAABgBKIGAAAYgagBAABGIGoAAIARiBoAAGAEogYAABiBqAEAAEYgagAA\n",
              "gBGIGgAAYISQRk1JSYkyMjKUnp4ul8ulyspKSVJ5eblcLpfGjh2rK6+8Uj//+c8D9/niiy+Uk5Oj\n",
              "xMREJScnq6ioqEtjAACgb3OE6oEbGxuVm5ur0tJSpaamqqysTLm5uaqqqtKCBQv0+OOPa/bs2fr8\n",
              "8881atQo3XjjjUpJSdGKFSvkdDpVXV2t2tpaTZo0SW63W9HR0WccAwAAfVvIjtTU1NQoOjpaqamp\n",
              "kqQpU6bI6/Vqz549stls+s9//iNJOn78uCIiInTxxRdLktavX6+FCxdKkkaMGKFp06Zp06ZNZx07\n",
              "lc/n07Fjxzrd2tvbQ7W6AAAgzEIWNUlJSWpoaNDOnTslScXFxWpubpbH49HatWv18MMPKy4uTsnJ\n",
              "yXryyScVGxsrSfJ6vYqPjw88TkJCgrxe71nHTrV8+XJFRUV1upWXl4dqdQEAQJiFLGqioqJUVFSk\n",
              "/Px8jR8/Xps3b1ZKSoocDoeeeuopLV++XF6vV++//75+9rOf6YMPPgjq8+fn56upqanTbeLEiUF9\n",
              "DgAAcP4I2Tk1kuR2u+V2uyWdfDkoNjZWw4cP16ZNm/T73/9eknT55ZfL5XLpnXfeUUpKiuLi4lRX\n",
              "V6dhw4ZJkjwej2bOnClJZxw7ldPplNPp7LTMbreHZD0BAED4hfTqp/r6+sDXy5Yt0/Tp0zV27FgN\n",
              "GjRI27ZtkyR99tln2r17t9LS0iRJ2dnZWrVqlSSptrZW27dv10033XTWMQAA0LeF9EjN0qVLVVZW\n",
              "Jr/fr8zMTK1evVp2u10bNmzQ4sWL5ff71dbWpkWLFikzM1OStHjxYt1xxx0aOXKk7Ha7Vq5cqZiY\n",
              "mLOOAQCAvs1mWZYV7kn0lry8PBUUFIR7GgAAIAR4R2EAAGAEogYAABiBqAEAAEYgagAAgBGIGgAA\n",
              "YASiBgAAGIGoAQAARiBqAACAEYgaAABgBKIGAAAYgagBAABGIGoAAIARiBoAAGAEogYAABiBqAEA\n",
              "AEYgagAAgBGIGgAAYASiBgAAGIGoAQAARiBqAACAEYgaAABgBKIGAAAYgagBAABGIGoAAIARiBoA\n",
              "AGAEogYAABiBqAEAAEYgagAAgBGIGgAAYASiBgAAGIGoAQAARiBqAACAEYgaAABgBKIGAAAYgagB\n",
              "AABGIGoAAIARiBoAAGAEogYAABiBqAEAAEYgagAAgBGIGgAAYASiBgAAGIGoAQAARiBqAACAEYga\n",
              "AABgBKIGAAAYgagBAABGIGoAAIARiBoAAGAEogYAABiBqAEAAEYgagAAgBGIGgAAYASiBgAAGIGo\n",
              "AQAARiBqAACAEYgaAABgBKIGAAAYgagBAABGIGoAAIARiBoAAGAEogYAABiBqAEAAEYgagAAgBGI\n",
              "GgAAYASiBgAAGIGoAQAARghp1JSUlCgjI0Pp6elyuVyqrKyUJFmWpUcffVTJycm66qqr5Ha7A/c5\n",
              "cuSIZs2apaSkJKWlpam0tLRLYwAAoG9zhOqBGxsblZubq9LSUqWmpqqsrEy5ubmqqqrS888/r/fe\n",
              "e09VVVWKiIjQ4cOHA/d78MEH5XK5VFJSooqKCt18882qra1V//79zzgGAAD6tpBFTU1NjaKjo5Wa\n",
              "mipJmjJlirxer/bs2aNf/OIX2rZtmyIiIiRJsbGxgftt2LBB1dXVkqQJEyZo+PDh2rFjh6677roz\n",
              "jp3K5/PJ5/N1Wtbe3h6SdQUAAOEXspefkpKS1NDQoJ07d0qSiouL1dzcrKqqKn366af605/+pEmT\n",
              "JmnSpElav369JKmhoUFtbW2dIichIUFer/eMY6ezfPlyRUVFdbqVl5eHanUBAECYhexITVRUlIqK\n",
              "ipSfn6+WlhZlZmYqJSVFkuT3+9Xa2qrdu3fL4/Fo8uTJGjVqlC699NKgPX9+fr7y8vI6LXv44YeD\n",
              "9vgAAOD8ErKokSS32x04Cdjn8yk2NlaTJ09WZGSk5s6dK+nk0ZasrCxVVFRo9OjRcjgcOnz4cOCI\n",
              "jMfjUVxcnKKjo//n2Ok4nU45nc5Oy+x2e6hWFQAAhFlIr36qr68PfL1s2TJNnz5diYmJysnJUUlJ\n",
              "iSTp888/V3l5udLT0yVJ2dnZWrVqlSSpoqJChw4d0tSpU886BgAA+raQHqlZunSpysrK5Pf7lZmZ\n",
              "qdWrV0s6eb7L/Pnz9eKLL0qSfvrTn2rixImSpKefflrz5s1TUlKSIiIiVFhYGLi66UxjAACgb7NZ\n",
              "lmWFexK9JS8vTwUFBeGeBgAACAHeURgAABiBqAEAAEYgagAAgBGIGgAAYASiBgAAGIGoAQAARiBq\n",
              "AACAEYgaAABgBKIGAAAYgagBAABGIGoAAIARiBoAAGAEogYAABiBqAEAAEYgagAAgBGIGgAAYASi\n",
              "BgAAGIGoAQAARiBqAACAEYgaAABgBKIGAAAYgagBAABGIGoAAIARiBoAAGAEogYAABiBqAEAAEYg\n",
              "agAAgBGIGgAAYASiBgAAGIGoAQAARiBqAACAEYgaAABgBKIGAAAYgagBAABGIGoAAIARiBoAAGAE\n",
              "ogYAABiBqAEAAEYgagAAgBG6HTUHDx7UjTfeqDFjxkiS9u3bp2eeeSbY8wIAAOiWbkfNXXfdpR/8\n",
              "4AeyLEuSlJaWpjVr1gR9YgAAAN3R7ag5cuSI5s6dq379Tt7V4XDI4XAEfWIAAADd0e2ocTgcgaM0\n",
              "ktTY2NjpewAAgHDodtRkZ2frrrvu0rFjx/Tyyy9rxowZuvPOO0MxNwAAgC7r9utGDzzwgNatW6em\n",
              "piZt3rxZeXl5uu2220IxNwAAgC7r0ckwOTk5ysnJCfZcAAAAeqzLUZOXl3fG8YKCgnOeDAAAQE91\n",
              "OWqioqJCOQ8AAIBz0uWoeeSRR0I5DwAAgHPS5ahZt26dcnJy9Pzzz592/L777gvapAAAALqry1Fz\n",
              "4MABSdLevXu/Nmaz2YI3IwAAgB7octQ89thjkqS1a9eGbDIAAAA91e1Lun0+n5555hm9/fbbstls\n",
              "mjFjhu6//345nc5QzA8AAKBLuh01CxcuVENDg3784x9LOnnkZv/+/RzBAQAAYdXtqHn33Xe1f//+\n",
              "wHk0N954o1JTU4M+MQAAgO7o9mc/RUdHq7W1NfC9z+dTTExMUCcFAADQXV0+UvPVpdyjRo3SpEmT\n",
              "dOutt0qSioqKNGHChNDMDgAAoIu6HDX/fSl3RkaGPv74Y0nSuHHj1NHREfyZAQAAdEOXo4YTgQEA\n",
              "wPms2ycK+/1+PfPMM9qyZYsk6frrr9f9998vh6NHH/gNAAAQFN0ukby8PNXU1Oiee+6RzWbTyy+/\n",
              "rLq6uv/58QkAAAC9odtRs337du3bt0/9+p28cOq73/2uxo0bF/SJAQAAdEe3L+m2LKvTicGWZcmy\n",
              "rKBOCgAAoLu6faRm1qxZmjlzpm6//XZJ0m9/+1vNmjUr2PMCAADolm5HzdNPP62XXnpJxcXFstls\n",
              "ys7O1oIFC0IxNwAAgC7rctTk5eV1+v6yyy6TJH344Yd64IEHVFBQENyZAQAAdEOXz6l59tln9c47\n",
              "72jw4MGKiorShRdeqAsvvFBRUVGKioo67X1KSkqUkZGh9PR0uVwuVVZWdhrftm2b7Ha7nn322cCy\n",
              "L774Qjk5OUpMTFRycrKKioq6NAYAAPq2Lh+p2bp1q9asWaPXX39dt956q+644w6NHDnyf/58Y2Oj\n",
              "cnNzVVpaqtTUVJWVlSk3N1dVVVWSpKamJj344IO64YYbOt1vxYoVcjqdqq6uVm1trSZNmiS3263o\n",
              "6OgzjgEAgL6ty0dq3G63fve73+lf//qX4uLilJubK7fbrd27d5/252tqahQdHR34BO8pU6bI6/Vq\n",
              "z549kqR7771XS5Ys+VqQrF+/XgsXLpQkjRgxQtOmTdOmTZvOOgYAAPq2bl/SfcEFF2jOnDmaM2eO\n",
              "Dhw4oAMHDpz255KSktTQ0KCdO3dKkoqLi9Xc3CyPx6OioiL169dPs2fP/tr9vF6v4uPjA98nJCTI\n",
              "6/WedexUPp9Px44d63Rrb2/v7uoCAIBviC6//NTe3q7i4mKtXr1adXV1mjdvnvbs2aNhw4ad9uej\n",
              "oqJUVFSk/Px8tbS0KDMzUykpKWppaVFBQYG2b98erHU4reXLl+uxxx7rtMzlcoX0OQEAQPh0OWou\n",
              "ueQSxcXFaf78+crKypIkHT16VEePHpUkpaenf+0+brdbbrdb0skjJ7GxsWpsbFR9fb3GjBkjSfrs\n",
              "s89UXFyso0eP6v/+7/8UFxenurq6QCx5PB7NnDlTks44dqr8/PyvXbH18MMPd3V1AQDAN4zN6uLb\n",
              "ASckJMhms528k83W6V2EbTabPv7446/dp76+PhAgS5Ys0f79+7Vx48ZOP3P77bdrzJgxWrRokSTp\n",
              "0Ucflcfj0SuvvBI4GfiDDz5QTEzMGce6Ii8vj0vPAQAwVJeP1Hg8nm4/+NKlS1VWVia/36/MzEyt\n",
              "Xr36rPdZvHhx4Moqu92ulStXBqLlTGMAAKBv6/KRGhNwpAYAAHN1++onAACA8xFRAwAAjEDUAAAA\n",
              "IxA1AADACEQNAAAwAlEDAACMQNQAAAAjEDUAAMAIRA0AADACUQMAAIxA1AAAACMQNQAAwAhEDQAA\n",
              "MAJRAwAAjEDUAAAAIxA1AADACEQNAAAwAlEDAACMQNQAAAAjEDUAAMAIRA0AADACUQMAAIxA1AAA\n",
              "ACMQNQAAwAhEDQAAMAJRAwAAjEDUAAAAIxA1AADACEQNAAAwAlEDAACMQNQAAAAjEDUAAMAIRA0A\n",
              "ADACUQMAAIxA1AAAACMQNQAAwAhEDQAAMAJRAwAAjEDUAAAAIxA1AADACEQNAAAwAlEDAACMQNQA\n",
              "AAAjEDUAAMAIRA0AADACUQMAAIxA1AAAACMQNQAAwAhEDQAAMAJRAwAAjEDUAAAAIxA1AADACEQN\n",
              "AAAwAlEDAACMQNQAAAAjEDUAAMAIRA0AADACUQMAAIxA1AAAACMQNQAAwAhEDQAAMAJRAwAAjEDU\n",
              "AAAAIxA1AADACEQNAAAwAlEDAACMQNQAAAAjhDRqSkpKlJGRofT0dLlcLlVWVkqS5s+fr+TkZI0e\n",
              "PVpZWVmqqKgI3OeLL75QTk6OEhMTlZycrKKioi6NAQCAvs0RqgdubGxUbm6uSktLlZqaqrKyMuXm\n",
              "5qqqqko333yzfvOb38jhcOgvf/mLsrOz5fF4JEkrVqyQ0+lUdXW1amtrNWnSJLndbkVHR59xDAAA\n",
              "9G0hO1JTU1Oj6OhopaamSpKmTJkir9erPXv2aPbs2XI4TvaUy+XSoUOH5Pf7JUnr16/XwoULJUkj\n",
              "RozQtGnTtGnTprOOncrn8+nYsWOdbu3t7aFaXQAAEGYhi5qkpCQ1NDRo586dkqTi4mI1NzcHjsh8\n",
              "5bnnntMNN9wQiByv16v4+PjAeEJCgrxe71nHTrV8+XJFRUV1upWXlwdzFQEAwHkkZFETFRWloqIi\n",
              "5efna/z48dq8ebNSUlIC8SJJhYWF2rBhg1566aWgP39+fr6ampo63SZOnBj05wEAAOeHkJ1TI0lu\n",
              "t1tut1vSyZeDYmNjlZKSIunkS0mPPfaYtm7dqqFDhwbuExcXp7q6Og0bNkyS5PF4NHPmzLOOncrp\n",
              "dMrpdHZaZrfbg7uCAADgvBHSq5/q6+sDXy9btkzTp09XYmKiNmzYoCVLlujtt99WXFxcp/tkZ2dr\n",
              "1apVkqTa2lpt375dN91001nHAABA3xbSqFm6dKlGjRqlxMRE1dXVafXq1ZKk3NxcnThxQnPmzNGY\n",
              "MWM0ZswYNTQ0SJIWL16s1tZWjRw5Utdff71WrlypmJiYs44BAIC+zWZZlhXuSfSWvLw8FRQUhHsa\n",
              "AAAgBHhHYQAAYASiBgAAGIGoAQAARiBqAACAEYgaAABgBKIGAAAYgagBAABGIGoAAIARiBoAAGAE\n",
              "ogYAABiBqAEAAEYgagAAgBGIGgAAYASiBgAAGIGoAQAARiBqAACAEYgaAABgBKIGAAAYgagBAABG\n",
              "IGoAAIARiBoAAGAEogYAABiBqAEAAEYgagAAgBGIGgAAYASiBgAAGIGoAQAARiBqAACAEYgaAABg\n",
              "BKIGAAAYgagBAABGIGoAAIARiBoAAGAEogYAABiBqAEAAEYgagAAgBGIGgAAYASiBgAAGIGoAQAA\n",
              "RiBqAACAEYgaAABgBKIGAAAYgagBAABGIGoAAIARiBoAAGAEogYAABiBqAEAAEYgagAAgBGIGgAA\n",
              "YASiBgAAGIGoAQAARiBqAACAEYgaAABgBKIGAAAYgagBAABGIGoAAIARiBoAAGAEogYAABiBqAEA\n",
              "AOfsRFu7Pmvx6URbe9jm4AjbMwMAgG+8o80+Fe7yqKTqU7W2tWtgf7u+kxaruZnxiol09upcOFID\n",
              "AAB65GizTz9et1ev7fbquM8vRz+bjvv8Ktxdp3tf36vPWny9Oh+iBgAA9EjhLo+qjzTr25FOXTQo\n",
              "QoOcDl00KELfjnSq+kizCt+t69X5EDUAAKDbTrS1q6TqUw1w2OWwd84Jh72fnA673nr/cK+eY0PU\n",
              "AACAbmvx+dXa1q4Ix+lTwunop9Yv29Xi8/fanIgaAADQbZFOhwb2t+tLf8dpx33+Dg2MsCvS2XvX\n",
              "JBE1AACg2wb0t2tW2lCd8LfL396hDsuSv+P//9veIZ+/Xd9JjdWA/vZemxOXdAMAgB6Zl5mgf1Q3\n",
              "aH/9sU5HbCIc/XTlsAs0NzO+V+cT0iM1JSUlysjIUHp6ulwulyorKyVJR44c0axZs5SUlKS0tDSV\n",
              "lpYG7tPTMQAA0Lss66t/rVOWW6f56dAL2ZGaxsZG5ebmqrS0VKmpqSorK1Nubq6qqqr04IMPyuVy\n",
              "qaSkRBUVFbr55ptVW1ur/v3793gMAAD0rsJdHtU1HFdC9CD162dTR4cV+Leu4bgK363TohnJvTaf\n",
              "kB2pqampUXR0tFJTUyVJU6ZMkdfr1Z49e7RhwwYtXLhQkjRhwgQNHz5cO3bskKQej53K5/Pp2LFj\n",
              "nW7t7eF762YAAExy6iXd/Wy2Tv8adUl3UlKSGhoatHPnTklScXGxmpubVVtbq7a2NsXGxgZ+NiEh\n",
              "QV6vVw0NDT0aO53ly5crKiqq0628vDxEawsAQN/Spy7pjoqKUlFRkfLz8zV+/Hht3rxZKSkpamlp\n",
              "CdVTdpKfn6+mpqZOt4kTJ/bKcwMAYLrz8ZLukD6T2+2W2+2WdPLloNjYWGVlZcnhcOjw4cOBoy4e\n",
              "j0dxcXGKjo7u0djpOJ1OOZ2dP0jLbu+9y8oAADDZV5d0v7bbK397R6d3Ff7qku7s1Et79ZLukF79\n",
              "VF9fH/h62bJlmj59uhITE5Wdna1Vq1ZJkioqKnTo0CFNnTpVkno8BgAAete8zAQlDhmsoy0+fX78\n",
              "Sx33+fX58S91tMWnpCGDe/2S7pAeqVm6dKnKysrk9/uVmZmp1atXS5KefvppzZs3T0lJSYqIiFBh\n",
              "YWHgCqaejgEAgN4VE+nUytvGqvDdOr31/mG1ftmuyAEOZadeqrmZ8YqJdJ79QYLIZoXrYvIwyMvL\n",
              "U0FBQbinAQCAcU60nTwpONLp6NWXnP4b7ygMAADO2YD+9rDFzFf47CcAAGAEogYAABiBqAEAAEYg\n",
              "agAAgBGIGgAAYASiBgAAGIGoAQAARiBqAACAEYgaAABgBKIGAAAYoU999tMtt9yihISEoD9ue3u7\n",
              "ysvLNXHiRNnt4X2LaJOxnXsH27l3sJ17D9u6d4RyO8fHx+v+++8/68/1qagJlWPHjikqKkpNTU26\n",
              "4IILwj0dY7GdewfbuXewnXsP27p3nA/bmZefAACAEYgaAABgBKIGAAAYgagJAqfTqUceeUROpzPc\n",
              "UzEa27l3sJ17B9u597Cte8f5sJ05URgAABiBIzUAAMAIRA0AADACUQMAAIxA1Jyjjz76SJMnT1Zy\n",
              "crImTJig999/P9xTMsKJEyd00003KTk5WaNHj9aMGTNUXV0tSTpy5IhmzZqlpKQkpaWlqbS0NMyz\n",
              "NcPatWtls9n0xz/+URLbOdh8Pp/uvfdeJSUl6aqrrtLcuXMl8Tsk2P76179q3LhxGjNmjNLS0vTq\n",
              "q69KYn8+V/fdd58SEhJks9m0b9++wPIz7b9h2bctnBO3222tXbvWsizL+sMf/mBlZGSEd0KGaG1t\n",
              "td58802ro6PDsizLeuGFF6ypU6dalmVZ8+fPtx555BHLsiyrvLzcuuSSS6wvv/wyTDM1Q21trZWZ\n",
              "mWm5XC5r06ZNlmWxnYNt0aJF1r333hvYp+vr6y3L4ndIMHV0dFgXXXSRVVlZaVnWyf3a6XRax44d\n",
              "Y38+Rzt27LAOHjxoxcfHW3v37g0sP9P+G459m6g5B59++qk1ePBgq62tzbKsk/+hhg4dan300Udh\n",
              "npl5KioqrPj4eMuyLGvQoEGBPwiWZVkTJkywtmzZEqaZffO1t7db1157rfXPf/7Tmjp1aiBq2M7B\n",
              "09LSYg0ePNhqamrqtJzfIcHV0dFhXXzxxdaOHTssy7KsyspKa/jw4ZbP52N/DpL/jpoz7b/h2rd5\n",
              "+ekcHDx4UMOGDZPD4ZAk2Ww2xcXFyev1hnlm5nnuuec0Z84cNTQ0qK2tTbGxsYGxhIQEtvk5KCgo\n",
              "UFZWlsaPHx9YxnYOrpqaGl188cV68sknlZGRoSlTpmjr1q38Dgkym82m9evX65ZbblF8fLyuvvpq\n",
              "vfrqq2pubmZ/DoEz7b/h2rcdIX10IAiefPJJVVdXa+vWrWptbQ33dIxSVVWljRs3cn5BiPn9ftXV\n",
              "1SklJUVPPfWU9u7dqxkzZujNN98M99SM4vf79cQTT+iNN97QNddco4qKCs2ePbvTOSAwG0dqzsFl\n",
              "l12m+vp6+f1+SZJlWfJ6vYqLiwvzzMyxYsUKvfHGG3rrrbf0rW99S9HR0XI4HDp8+HDgZzweD9u8\n",
              "h8rKyuTxeJSUlKSEhATt2rVLCxYs0IYNG9jOQRQXF6d+/fopNzdXkjR27FiNGDFCdXV1/A4Jon37\n",
              "9umTTz7RNddcI0maMGGCLr30Ur333nvszyFwpr+B4fr7SNScgyFDhmjcuHEqLCyUJG3cuFGXXnqp\n",
              "EhMTwzwzMxQUFGjdunXasmWLLrzwwsDy7OxsrVq1SpJUUVGhQ4cOaerUqWGa5Tfb3Xffrfr6enk8\n",
              "Hnk8HrlcLr300ku6++672c5BFBMTo2uvvVZ/+9vfJEm1tbWqra1VVlYWv0OC6Ks/pPv375ckVVdX\n",
              "q6amRldccQX7cwic6W9g2P4+hvSMnT7gwIEDlsvlspKSkqzx48db7733XrinZISDBw9akqzLL7/c\n",
              "Gj16tDV69Ghr4sSJlmVZ1uHDh60ZM2ZYiYmJVkpKirVt27Ywz9Yc/32iMNs5uGpqaqxp06ZZaWlp\n",
              "Vnp6ulVUVGRZFr9Dgu31118PbOO0tDTrtddesyyL/flcLViwwLrkkkssu91uDRkyxBo5cqRlWWfe\n",
              "f8Oxb/PZTwAAwAi8/AQAAIxA1AAAACMQNQAAwAhEDYDzRkJCgoYMGaK2trbAsr///e+y2WxatGhR\n",
              "jx6P9ygB+g6iBsB5JS4uTsXFxYHvV69erYyMjG49RkdHhzo6OoI9NQDnOaIGwHll/vz5WrNmjSSp\n",
              "qalJu3bt0qxZsyRJ//73v3X11Vdr3LhxSklJ0RNPPBG436OPPqrvfe97uv7665WWlqb6+vpOj/vC\n",
              "Cy8oKytLR48e1a5duzR+/PjAJzn/+te/7r0VBBAyfEwCgPNKVlaWXnzxRX3yyScqLi5Wdna27Ha7\n",
              "pJMvJ23dulVOp1Otra2aPHmyrrvuOrlcLknSu+++q71792ro0KGBx+vo6FBeXp5qa2v19ttva+DA\n",
              "gbrzzjv1k5/8RDk5OZKkxsbG3l9RAEHHkRoA55158+bplVde0Zo1a3THHXcElre2turOO+/UVVdd\n",
              "JZfLpbq6uk7nzNxwww2dgkaSFixYoObmZm3cuFEDBw6UJLndbi1btkyPP/64/vGPf+iiiy7qlfUC\n",
              "EFpEDYDzzg9/+EM9//zzGjBggJKSkgLLH3roIcXExGjv3r2qrKzUtGnTdOLEicB4ZGTk1x5r6tSp\n",
              "2r17d6fP/Vm0aJHefPNNDRs2TA899JDuueee0K4QgF7By08AzjvDhw/X8uXLNWrUqE7LGxsbdeWV\n",
              "V8rhcOjDDz/Uli1bAh9e+L/MmzdPmZmZmj59ut566y2NGDFCH374oa644gr96Ec/0mWXXaaHHnoo\n",
              "lKsDoJcQNQDOS/Pnz//asiVLlmjevHl69dVXNXLkSE2fPr1Lj/X9739fAwcO1MyZM/XnP/9Zv/rV\n",
              "r7Rt2zZFRETIbrfrl7/8ZbCnDyAM+OwnAABgBM6pAQAARiBqAACAEYgaAABgBKIGAAAYgagBAABG\n",
              "IGoAAIARiBoAAGAEogYAABiBqAEAAEYgagAAgBH+H+90bgme0UxlAAAAAElFTkSuQmCC\n",
              "\">\n",
              "      </div>\n",
              "      <script type=\"text/javascript\">\n",
              "        (() => {\n",
              "          const chartElement = document.getElementById(\"chart-955f04bf-da85-4c33-b99b-8a24d6ae09ff\");\n",
              "          async function getCodeForChartHandler(event) {\n",
              "            const chartCodeResponse =  await google.colab.kernel.invokeFunction(\n",
              "                'getCodeForChart', [\"chart-955f04bf-da85-4c33-b99b-8a24d6ae09ff\"], {});\n",
              "            const responseJson = chartCodeResponse.data['application/json'];\n",
              "            await google.colab.notebook.addCell(responseJson.code, 'code');\n",
              "          }\n",
              "          chartElement.onclick = getCodeForChartHandler;\n",
              "        })();\n",
              "      </script>\n",
              "      <style>\n",
              "        .colab-quickchart-chart-with-code  {\n",
              "            display: block;\n",
              "            float: left;\n",
              "            border: 1px solid transparent;\n",
              "        }\n",
              "\n",
              "        .colab-quickchart-chart-with-code:hover {\n",
              "            cursor: pointer;\n",
              "            border: 1px solid #aaa;\n",
              "        }\n",
              "      </style>"
            ]
          },
          "metadata": {}
        },
        {
          "output_type": "display_data",
          "data": {
            "text/plain": [
              "<google.colab._quickchart_helpers.SectionTitle at 0x7ebc5ad67040>"
            ],
            "text/html": [
              "<h4 class=\"colab-quickchart-section-title\">Values</h4>\n",
              "<style>\n",
              "  .colab-quickchart-section-title {\n",
              "      clear: both;\n",
              "  }\n",
              "</style>"
            ]
          },
          "metadata": {}
        },
        {
          "output_type": "display_data",
          "data": {
            "text/plain": [
              "from matplotlib import pyplot as plt\n",
              "s4['Marks'].plot(kind='line', figsize=(8, 4), title='Marks')\n",
              "plt.gca().spines[['top', 'right']].set_visible(False)"
            ],
            "text/html": [
              "      <div class=\"colab-quickchart-chart-with-code\" id=\"chart-6d00971c-7a0d-42bc-8884-e86f07d14225\">\n",
              "        <img style=\"width: 180px;\" src=\"data:image/png;base64,iVBORw0KGgoAAAANSUhEUgAAAp4AAAFuCAYAAAAoDBgXAAAAOXRFWHRTb2Z0d2FyZQBNYXRwbG90\n",
              "bGliIHZlcnNpb24zLjcuMSwgaHR0cHM6Ly9tYXRwbG90bGliLm9yZy/bCgiHAAAACXBIWXMAAA9h\n",
              "AAAPYQGoP6dpAABHuElEQVR4nO3dd1xT9/7H8fdJwp6KgihLBVQcKAhEbWu9ra0d1larIi6Uoa2d\n",
              "/m4dt8PbcfV22drhQBEnoFVbe7tta7W2MmQ4cAHKlKEiQ5SVnN8fQSqtWtCQk/F+Ph75w5xwzifn\n",
              "EU5f/ZKAIIqiCCIiIiKiDiaTegAiIiIiMg0MTyIiIiLSCYYnEREREekEw5OIiIiIdILhSUREREQ6\n",
              "wfAkIiIiIp1geBIRERGRTjA8iYiIiEgnGJ5EREREpBMMTyIiPbFhwwa4ublJPQYRUYdheBIRtdG9\n",
              "994LQRCwZs2aVvfX1NTAzs4OgiAgJydHoumIiPQfw5OIqB38/Pz+Ep6bN2+Gp6fnHe23sbHxjr6e\n",
              "iMgQMDyJiNph7NixKCsrQ3Jycst9q1atwpw5c1r+XVJSgkcffRQuLi6ws7PDoEGD8Nlnn7XajyAI\n",
              "+OCDDzB8+HDY2Nhg586dfzlWSkoK3N3d8eGHHwIA9u7di6FDh8LBwQFOTk4YMWIELl261DFPlIio\n",
              "AzA8iYjaQaFQIDIyEqtXrwYAHDhwANXV1XjkkUdaHqNSqTB79mzk5uaioqICzz//PMLCwpCVldVq\n",
              "X2vWrMG6detw+fJljBs3rtW2bdu2YezYsVi9ejVeeOEFAMC0adMwb948VFZWoqSkBO+99x7Mzc07\n",
              "9gkTEWkRw5OIqJ2ioqKwc+dOVFZWYtWqVYiKioJM9sfl1M3NDePHj4etrS3MzMwQEREBPz8//Pzz\n",
              "z6328+KLL8LPzw+CIMDKyqrl/tdffx0LFy7Enj17WgWtubk5cnNzce7cOZibm2PYsGGwsbHp+CdM\n",
              "RKQlDE8ionZyc3PDqFGj8N5772H37t2IiIhotf3SpUuIiopCz549YW9vD0dHR2RlZaG8vLzV43r2\n",
              "7PmXfV+6dAnLly/HU089hUGDBrXa9uWXX+LMmTMIDAyEt7c3lixZgqamJu0/QSKiDqKQegAiIkP0\n",
              "1FNP4eGHH8aECRPg6uqKvLy8lm2LFi3CyZMnsW/fPri7u0MQBPj7+0MUxVb7uH6V9JpOnTrhyy+/\n",
              "xEMPPQRBELBgwYKWbQMHDkR8fDwAIDMzEw8++CDc3NwQFRXVMU+SiEjLuOJJRHQbHnzwQezZswcf\n",
              "fPDBX7ZVVVXB2toaTk5OaGxsxMcff/yX93feSkBAAA4cOICVK1e2hGdDQwPi4uJw/vx5AICDgwPk\n",
              "cjkUCq4fEJHhYHgSEd0GQRBw33333fAXvr/11lu4evUqXFxc4OXlhbKyMowYMaJd+/fx8cFvv/2G\n",
              "b775BhERERBFETt27ED//v1hY2ODkSNHIjw8HDNnztTWUyIi6nCC+Oef/RARERERdQCueBIRERGR\n",
              "TjA8iYiIiEgnGJ5EREREpBMMTyIiIiLSCYYnEREREekEw5OIiIiIdILhSUREREQ6YRDhuWLFCqlH\n",
              "ICIiIqI7ZBDhmZ+fL/UIRERERHSHDCI8iYiIiMjwMTyJiIiISCcYnkRERESkEwxPIiIiItIJhicR\n",
              "ERER6QTDk4iIiIh0guFJRERERDrB8CQiIiIinWhXeD733HPw8vKCIAjIzMxsuT87OxvDhw+Hr68v\n",
              "goKCkJWV1aZtRERERGQ62hWeTz75JA4cOABPT89W98+ZMwfR0dE4ffo0Fi5ciPDw8DZtIyIiIiLT\n",
              "0a7wvOeee+Dm5tbqvvLychw6dAjTpk0DAEyYMAGFhYXIycm55TZ9VdeoglotSj0GERER0W272qCS\n",
              "eoQbuuP3eBYWFsLV1RUKhQIAIAgCPDw8UFBQcMttN1NfX4/q6upWN5VKNyevtr4JM9an4JXdxxif\n",
              "REREZJDSCy7h7nf2Yv/p81KP8hd69+GiZcuWwcHBodUtJSVFJ8dOyatAal4F4pML8PIXjE8iIiIy\n",
              "LGn5lzAjNgUXLtdj/W9nIYr61TJ3HJ7u7u4oKSlBU1MTAEAURRQUFMDDw+OW225m8eLFqKqqanUL\n",
              "Dg6+0zHbZFQfZyyf5A+ZACSkFOBfnx9lfBIREZFBSMuvwMz1Kbhc34RhvZywcmoABEGQeqxW7jg8\n",
              "nZ2dERAQgC1btgAAdu7cCTc3N3h7e99y281YWFjA3t6+1U0ul9/pmG32xBA3LJ80GDIBSEwtxOJd\n",
              "jE8iIiLSb4fyKjAjVhOdw3s7YX14EKzNFVKP9ReC2I412Dlz5uDrr79GaWkpnJycYGdnh5ycHJw6\n",
              "dQrh4eG4ePEi7O3tERcXh4EDBwLALbe11fz587F8+fL2PbM7tDuzGC9uy4RaBCYGuuHtCYMgk+nX\n",
              "/zUQERERpeZVIHx9CmobVBjh7YR1M4JgZa67Rbv2aFd4SkWK8ASALw+fwwuJGVCLwJPN8SlnfBIR\n",
              "EZGeSDlbgfC4FFxpUOEu7y5YN3MoLM30MzoBQP/WYPXIY/7dIQB4YVsmdqQVQS2KePdJf8YnERER\n",
              "SS75zEXM2pCKKw0q3O3TBWtn6Hd0AgzPvzXWvztkgoDnEjOwK70YEIF3JzI+iYiISDpJZy5iVlwq\n",
              "rjaqcI9vV8RMD9T76AT08Ncp6aNHBrni4ylDIJcJ2JVRjP/bngkVP3BEREREEvg990JLdI40oOgE\n",
              "uOLZZg8PdIUA4NmEDHyReQ4igPcn+kMhZ7sTERGRbvyecwGzN6airlGNe/t0xepphhOdAFc82+Wh\n",
              "ga74JCwACpmA3ZnnMH/7YTSp1FKPRURERCbgt+ui8x99nbHGgFY6r2F4ttOYAd3w6VRNfH55+Bxe\n",
              "2JbJ+CQiIqIOdSD7AmZv0ETnfX2dsWpaACwUhhWdAMPztjzYvxtWTg2AmVzAV0dK8Dzjk4iIiDrI\n",
              "/tPnEbExFfVNatzfzxkrDTQ6AYbnbXugfzesmhoIM7mAr4+U4PnETDQyPomIiEiL9p0+j8hNh1Df\n",
              "pMZoPxesnBposNEJMDzvyP1+Llg9LRDmchm+PlqC5xIyGJ9ERESkFb+cKkfUpkNoaFLjAT8XfBoW\n",
              "AHOFYaebYU+vB+7r54LV0wNgLpfh22OleDae8UlERER3Zu+pckRvSkNDkxoP9nfBJ0YQnQDDUyv+\n",
              "0dcFa2YEwlwhw3dZpXgmPh0NTYxPIiIiar+9J8sxZ1MaGlRqPDSgm9FEJ8Dw1JpRfZwRM10Tn99n\n",
              "lWEe45OIiIja6acTZZizWROdDw/sho+mDIGZEf3OcON5Jnrg3j7OWDtjKMwVMuw5XoantzI+iYiI\n",
              "qG1+PF6GuVs00fnIQFesCDWu6AQYnlo30rcr1s0YCguFDD+eKMPTW9NQ36SSeiwiIiLSY3uOl+Gp\n",
              "rWloVIl4dJArVoQONrroBBieHeIe366InRnUHJ/leGpLOuOTiIiIbuj7rFI83RydY/2748PJg432\n",
              "T3Ib57PSA3f5dMH68CBYmsnw88lyzN2chrpGxicRERH94btjpZi3NR2NKhGP+XfHB5P8jTY6AYZn\n",
              "hxrh3QXrZ2ric++p85i7hfFJREREGt8dK8Ez8eloUot4fHB3LDfy6AQYnh1uuPcfK5+/nDqPaK58\n",
              "EhERmbxvjpZgXnwGmtQinhjSA+9PMt4fr1/P+J+hHhjeuwviwoNhZSbH/tPnEbXpEOOTiIjIRH19\n",
              "pATPJmRApRYxfkgPvDfRH3KZIPVYOsHw1JFhvZ2wYVYQrM3l+DX7AuOTiIjIBH115ByeS9RE54QA\n",
              "N7xrQtEJMDx1KqSXEzbMCm6Jz8iNh3C1gfFJRERkCr48fA7PJ2ZCpRYxMdAN7zw5yKSiE2B46lxw\n",
              "z87YODsYNuZyHMi5gIiNqYxPIiIiI7c7sxgvNK90ThrqhrcnmF50AgxPSQR5/RGfv+dexOwNqbjS\n",
              "0CT1WERERNQBdmcW48VtmVCLQGiQO/47fhBkJhidAMNTMkO9OmNTRDBsLRQ4eIbxSUREZIw+zyhq\n",
              "ic4pwe5Y+sRAk41OgOEpqUBPzcqnrYUCSWcqMCuO8UlERGQsdqUXYf72w83R6YH/PG7a0QkwPCUX\n",
              "6NkJmyKCYWehQPLZCoTHpaK2nvFJRERkyHakFeH/PjsMUQSmhnjgP48PMPnoBBieeiHA44/4TDlb\n",
              "gfC4FFxmfBIRERmkzw4V4qUdmuicpvTAm+MYndcwPPXEEI9O2BwZAjtLBVLzLiF8PeOTiIjI0GxP\n",
              "LcSCnUcgisCMYZ6Mzj9heOqRwe6O2BoZAntLBQ7lX8LM9SmoqWuUeiwiIiJqg22pBVi4SxOdM4d5\n",
              "4vXH+kMQGJ3XY3jqmUFujtgaqYS9pQJpjE8iIiKDkJBSgIU7j0IUgfDhXvg3o/OGGJ56aKCbA+Kj\n",
              "lHCwMkN6QSVmrE9BNeOTiIhIL8UnF2DxrqMAgFkjvLBkrB+j8yYYnnpqQA8HbI0MgaO1GTIKKjEj\n",
              "lvFJRESkb7Ym5+Nfn2uiM+KunnjtUUbnrTA89dj18ZlZWInpsSmousr4JCIi0gebk/Lx8ufHAACR\n",
              "d/XEK4/0Y3T+DYannuvf3QHxkUp0sjbD4cJKzIhNZnwSERFJbNPBPLz6hSY6o+/phZcZnW3C8DQA\n",
              "ft3tER+lRGcbcxwuqsL02GRUXWF8EhERSWHj73l4bXcWAGDOyF5Y/FBfRmcbMTwNRD9Xe8RHhaCz\n",
              "jTmOFFVhamwSKq80SD0WERGRSYn77SyWfKmJzrkje2PRGEZnezA8DUjfbvZIiFLCycYcx4qrMXVd\n",
              "MuOTiIhIR9YfOIvX/3ccAPD0vb2xcEwfRmc7MTwNTJ9udkiIVqKLrTmyzlUjbG0yLtUyPomIiDrS\n",
              "ul/P4I2vNNH5zChvvPQgo/N2MDwNkK+LHRKiNPF5vKQaYeuSUcH4JCIi6hDrfj2Dt74+AQB49h/e\n",
              "+L8HfBmdt4nhaaB8WuLTAidKqhG2NonxSUREpGUx+3NbovO5+3wwfzSj804wPA2Yj4sdEqOV6Gpn\n",
              "gZOlNQhbm4SLl+ulHouIiMgorNmXi6XfnAQAPM/o1AqGp4HzdrZFQtT18ZmMC4xPIiKiO7Lql1ws\n",
              "+1YTnS/c74MXR/tKPJFxYHgaAW9nWyRGK+FsZ4FTZZqVT8YnERHR7fl0bw7e/k4TnfNH++KF+xmd\n",
              "2sLwNBK9u2ri08XeAqfLLmNKTBLO1zA+iYiI2uPTvTl49/tTAIB/PuCL5+7zkXgi48LwNCK9utoi\n",
              "MXoYutlbIrv8MqasTUJ5TZ3UYxERERmEj3/KbonOlx7sg2f+wejUNoankenZxQaJ0Uq4Olgip1yz\n",
              "8sn4JCIiurUVP2bj/T2nAQALxvTBvFHeEk9knBieRsirOT67O1gi93ytJj6rGZ9EREQ38uGPp/HB\n",
              "j5roXPRQXzx9L6Ozo2g1PL/55hsEBARg8ODBGDBgADZu3AgAKC8vx5gxY+Dj44MBAwZg//792jws\n",
              "3YCnkw0So4e1xGdoTBLKGJ9EREQtRFHE8j2n8eGP2QCAxQ/1xdyRvSWeyrhpLTxFUcS0adOwYcMG\n",
              "ZGZm4quvvsKcOXNQU1ODRYsWQalUIjs7G3FxcQgLC0NjY6O2Dk034eFkjcToYejhaIUzFzQrn4xP\n",
              "IiIiTbd8sOc0PvpJE50vP9wPcxidHU6rK56CIKCyshIAUF1dDScnJ1hYWGD79u2YO3cuACAoKAjd\n",
              "u3fHvn37tHlouglNfCpb4jM0JgmlVYxPIiIyXddWOj/6OQcA8Moj/RB1Ty+JpzINWgtPQRCwbds2\n",
              "jB8/Hp6enrjrrruwceNG1NTUoLGxEd26dWt5rJeXFwoKCm64n/r6elRXV7e6qVQqbY1pktw7a+LT\n",
              "rZMVzl6oRWjMQZRUXZV6LCIiIp0TRRHv/XAKHzdH56uP+iHybkanrmgtPJuamvDWW29h165dyM/P\n",
              "x08//YTp06ejqampXftZtmwZHBwcWt1SUlK0NabJuj4+8y5eQWhMEs5VMj6JiMh0iKKId74/hU/3\n",
              "5gIAloz1Q8RdPSWeyrRoLTwzMzNx7tw53HPPPQA0P1J3c3PDkSNHoFAoUFpa2vLYvLw8eHh43HA/\n",
              "ixcvRlVVVatbcHCwtsY0aW6drLFtzjC4d7ZCfnN8FjM+iYjIBIiiiLe/O4VVv2ii899j/TBrBKNT\n",
              "17QWnu7u7igpKcGJEycAADk5OcjNzUWfPn0wceJErF69GgCQmpqK4uJijBw58ob7sbCwgL29faub\n",
              "XC7X1pgmr4ejFbZFD4NHZ2sUVFxBaMxBFF26IvVYREREHUYURfz325NYvU8TnW+M649wRqckFNra\n",
              "kYuLC2JiYjBp0iTIZDKo1Wp88skn8PDwwNtvv43p06fDx8cH5ubm2LJlC8zMzLR1aGqn7o5WSIxW\n",
              "YsrapJaVT82P4a2lHo2IiEirRFHE0m9OYO2vZwEAb47rj+nDvKQdyoQJoiiKUg/xd+bPn4/ly5dL\n",
              "PYbRKam6iikxSci7eAVunayQEKWEe2fGJxERGQdRFPGfr09g3QFNdL71+ABMU3pKPJVp418uMmGu\n",
              "DlZIjB6Gnl1sUHTpKkJjklBYwR+7ExGR4RNFEW9+9Ud0/ucJRqc+YHiauG4OlkiIUqJXFxsUV2ri\n",
              "s+Ai45OIiAyXKIp446vjWP+bJjqXjR+IqSGMTn3A8CRNfEZfH58HGZ9ERGSQRFHE6/87jrjf8gAA\n",
              "/x0/EFOCb/ybdEj3GJ4EAHCxt0RitBK9utrgXFUdJsccRP7FWqnHIiIiajNRFLHkyyxs+D0PggC8\n",
              "M2EQQhmdeoXhSS2cm+Ozd1cblFTVYfKaJORdYHwSEZH+E0URr+3OwqaD+RAE4O0JgzApyF3qsehP\n",
              "GJ7UirOdJRKjh8Hb2Ral1XUIjUnCWcYnERHpMbVaxKu7j2FzkiY6333SH5OGMjr1EcOT/qKrnQUS\n",
              "opTwaYnPgzhz/rLUYxEREf2FWi3ild3HsCWpAIIAvPekP54MdJN6LLoJhifdUFc7CyREK+HrYouy\n",
              "6nqExiQhl/FJRER6RK0W8fIXRxGfXACZACyf5I8JjE69xvCkm+piq1n57ONih/KaekyJSUJOOeOT\n",
              "iIikp1aL+NfnR5GQUtgcnYPxxBBGp75jeNItOdlaID4qBH27Ncfn2iTklNdIPRYREZkwtVrEol1H\n",
              "kJiqic4PJg/G40N6SD0WtQHDk/6WJj6V6NvNDudr6hEak4zsMsYnERHpnlotYuHOI9h+qAgyAfgw\n",
              "dAjGDWZ0GgqGJ7VJZxtzJEQp0c/VHhcua1Y+GZ9ERKRLKrWIBTuP4LO0IshlAlaEDsFj/t2lHova\n",
              "geFJbdbJxhzxkSHwc7XHhcsNCI1JwqlSxicREXU8lVrESzsOY0dLdA7GWEanwWF4Urt0sjFHfFQI\n",
              "+ne3x8XaBoStZXwSEVHHUqlFvPTZYexKL4ZcJuDjKUPw6CBGpyFieFK7OVqbY2tkCAb00MTnlLVJ\n",
              "OFlaLfVYRERkhFRqEf+3PRO7MoqhkAn4ZMoQPDzQVeqx6DYxPOm2OFqbY2uEEgN7OKCitgFTYpJw\n",
              "/Bzjk4iItKdJpcb87Zn4IvOcJjrDhuAhRqdBY3jSbXOwNsOWyBD4uzng0pVGTF3H+CQiIu1oUqnx\n",
              "4vbD2N0cnZ9ODcCYAYxOQ8fwpDviYGWGTREh8Hd3xKUrjQhbl4Ssc1VSj0VERAasSaXGC9sy8b/D\n",
              "52AmF7ByagAe7N9N6rFICxiedMccrMywOSIYg90dUXmlEWFrk3GsmPFJRETt16hS4/nETHx1pKQ5\n",
              "OgPxAKPTaDA8SSvsLc2wKSIYQzwcUXW1EVPXMT6JiKh9NNGZga+PaqJz1dRAjPZzkXos0iKGJ2mN\n",
              "vaUZNs0ORkBzfIatTcLRIsYnERH9vUaVGs8lZOCbo6Uwl8uwelog7md0Gh2GJ2mVnaUZNs4ORqBn\n",
              "J1TXNWHquiQcLqyUeiwiItJjDU1qPBOfjm+PaaJzzfRA3NeP0WmMGJ6kddfic2hzfE6LTUYm45OI\n",
              "iG7gWnR+n1UGc4UMa2YEYlRfZ6nHog7C8KQOYWuhwIbZwQjy6oSauiZMX5eMjIJLUo9FRER6pKFJ\n",
              "jXnx6fjhuCY6Y6YHYlQfRqcxY3hSh7G1UGDDrGAEe3VGTX0TZsSmIJ3xSUREAOqbVHh6axr2HC+D\n",
              "hUKGdTOG4l5Gp9FjeFKHsrFQIG5WEEJ6/hGfafmMTyIiU1bfpMLTW9Lx44lyTXTOHIp7fLtKPRbp\n",
              "AMOTOty1+FT26ozL9U2YuT4FafkVUo9FREQSqG9S4akt6fjppCY6Y2cG4W4fRqepYHiSTlibK7A+\n",
              "PAjDejnhcvPK56E8xicRkSmpa1Rh7uY0/HyyHJZmMqwPD8JdPl2kHot0iOFJOnMtPof3dkJtgwoz\n",
              "1qcglfFJRGQS6hpVmLM5DXtPnddE58wgjPBmdJoahifplJW5HLEzg3CXdxdcaVBh5voUpJxlfBIR\n",
              "GbO6RhWiN6dh3+nzsDKTIy48GMMZnSaJ4Uk6Z2Uux7qZQ3G3jyY+w+NSkHTmotRjERFRB6hrVCFq\n",
              "0yHsvxads4IwrLeT1GORRBieJAlLMznWzvgjPmfFpeJgLuOTiMiYXIvOX7MvwNpcjg2zgqDsxeg0\n",
              "ZQxPksy1+LzHtyuuNqowe0Mqfs+9IPVYRESkBVcbVIjceH10BiOE0WnyGJ4kKUszOWKmB2Lk9fGZ\n",
              "w/gkIjJkVxtUiNiYigM5F2BjLsfG2cEI7tlZ6rFIDzA8SXKWZnKsmR6IUX26oq5RjVkbUvEb45OI\n",
              "yCBdaWhq/gnWxZboDPJidJIGw5P0gqWZHKunB+IffZ1R36TG7A2pOJDN+CQiMiTXovPgmYuwtVBg\n",
              "U0QwhjI66ToMT9IbFgo5Vk0LwH3N8RmxMRX7T5+XeiwiImqD2vomhMelIulMBeyaozPQk9FJrTE8\n",
              "Sa9YKORYOS0A9/dzQX2TGpGbDmEf45OISK/V1jdhVlwqUs7+EZ0BHp2kHov0EMOT9I6FQo6VUwMw\n",
              "2s8FDU1qRG06hF9OlUs9FhER3cDl+iaEx6UgJa8CdpYKbI4MwRBGJ90Ew5P0krlChk/DAvBAc3xG\n",
              "b0rD3pOMTyIifXK5vgnh61OQmncJdpYKbIkIwWB3R6nHIj3G8CS9Za6Q4dOpARjTvxsaVGrM2ZyG\n",
              "n0+WST0WEREBqKlrxMz1KTiUfwn2lgpsjQyBP6OT/gbDk/SamVyGj8OG4KEBmvicuzkdP51gfBIR\n",
              "SeladKblX4KDlRm2RioxyM1R6rHIADA8Se+ZyWX4aMoQPDywOT63pOHH44xPIiIpVNc1Ysb6FKQX\n",
              "VDZHZwgGujlIPRYZCIYnGQQzuQwrQofgkUGuaFSJeGprGn7IKpV6LCIik1Jd14gZsSnIKKiEo7Um\n",
              "Ogf0YHRS2zE8yWCYyWVYMXkwHm2Oz3nx6fie8UlEpBNVVxsxPTYFmYWMTrp9DE8yKAq5DB9OHoyx\n",
              "/t018bk1Hd8dY3wSEXWkqiuNmB6bjMOFlehkbYb4SCX6d2d0UvsxPMngKOQyfDDJH+MGd0eTWsQz\n",
              "8en49miJ1GMRERmlqiuNmBabjCNFVehsY474KCX8uttLPRYZKK2GZ319PZ555hn4+Phg4MCBmDZt\n",
              "GgAgOzsbw4cPh6+vL4KCgpCVlaXNw5IJUshlWD5pMB6/Fp8JGfiG8UlEpFWVVxowNTYJR4uvRWcI\n",
              "+rkyOun2KbS5s0WLFkEQBJw+fRqCIKC0VPMj0Dlz5iA6Ohrh4eHYsWMHwsPDkZqaqs1DkwmSywS8\n",
              "P2kwZIKAXRnFeDYhA6IIPDLIVerRiIgMXuWVBkxdl4ysc9Vwal7p7NPNTuqxyMAJoiiK2thRbW0t\n",
              "XF1dUVRUBHv7P/5vqLy8HN7e3qioqIBCoYAoinB1dcWBAwfg7e3dpn3Pnz8fy5cv18aYZIRUahEv\n",
              "7TiMXenFkMuElveAEhHR7blUq4nO4yXV6GKriU5fF0Yn3TmtrXjm5uaic+fOWLp0KX788UdYWVnh\n",
              "3//+NxwdHeHq6gqFQnMoQRDg4eGBgoKCG4ZnfX096uvrW92nUqm0NSYZIblMwLtP+kMmCNiRVoQX\n",
              "tmVCBPAY45OIqN0qmqPzREk1uthaICEqBD6MTtISrb3Hs6mpCfn5+fDz88OhQ4fw0UcfYfLkyWhq\n",
              "amrXfpYtWwYHB4dWt5SUFG2NSUZKLhPw9oRBmBjoBpVaxAuJGdidWSz1WEREBqWitgFha5NaojMx\n",
              "mtFJ2qW18PTw8IBMJsPUqVMBAEOGDEHPnj2Rn5+PkpKSlgAVRREFBQXw8PC44X4WL16MqqqqVrfg\n",
              "4GBtjUlG7Fp8Th7qDrUIvLgtE19kMD6JiNri4uV6hK1NwsnSGnS1s0BitBLezoxO0i6thWeXLl1w\n",
              "33334fvvvwcAnD17FmfPnsWIESMQEBCALVu2AAB27twJNze3m76/08LCAvb29q1ucrlcW2OSkZPJ\n",
              "BCwbPxChQZr4nL89E59nFEk9FhGRXrtwuR5ha5NxsrQGzi3RaSv1WGSEtPqp9tWrVyMiIgILFy6E\n",
              "TCbDmjVr0KNHD6xZswbh4eFYunQp7O3tERcXp83DErUikwlY+sRACAKQkFKI+dsPQ60GJgS6ST0a\n",
              "EZHeudC80nm67DJc7C2QEKVEr66MTuoYWg3PXr16Ye/evX+5v0+fPjh48KA2D0V0SzKZgP88PhCC\n",
              "ICA+uQD/3HEYIoAnGZ9ERC3O12iiM7tcE52J0cPQs4uN1GOREeNfLiKjJZMJeGvcAExTekAUgZd2\n",
              "HMZnhwqlHouISC+U19RhSnN0drO3ZHSSTmh1xZNI38hkAt4cNwACBGxOyseCnUcgisCkIHepRyMi\n",
              "kkx5tSY6c8/XwtXBEglRSngxOkkHuOJJRk8QBLwxrj9mDvOEKAILdh7BttQCqcciIpJEeXUdQpuj\n",
              "s7uDJRKjGZ2kOwxPMgmCIODfj/VH+HAvAMDCnUeRkML4JCLTUlZdh9CYJJw5X4sejlZIjB4GTydG\n",
              "J+kOw5NMhiAIWDLWD7NGeAEAFu86ivhkxicRmYbSqubovHAtOpXwcLKWeiwyMQxPMimCIOC1R/0w\n",
              "e0RPAMC/Pj+KLUn5Ek9FRNSxSqs07+k8e110undmdJLuMTzJ5AiCgFcf7YfIuzTx+coXx7CZ8UlE\n",
              "Rqqk6ipCYw7i7IVauHVidJK0GJ5kkgRBwMuP9EPU3Zr4fPWLY9h0ME/aoYiItOxc5VWExiQh7+IV\n",
              "uHdmdJL0GJ5ksgRBwL8e7oc59/QCALy2Owsbf8+TdigiIi0pbo7O/ItX4NHZGonRw+DWidFJ0mJ4\n",
              "kkkTBAGLHuqLuSN7AwCWfJmFuN/OSjwVEdGdKbp0BaExB1FQcS06lejhaCX1WEQMTyJBELBwTB88\n",
              "da8mPl//33HEHmB8EpFhKqy4gtCYJBRWXIWnkzW2zVGiO6OT9ATDkwia+FzwYB/MG6WJzze/Oo51\n",
              "v56ReCoiova5Fp1Fl67Cy8ka26KHwdWB0Un6g+FJ1EwQBPzzgT549h/eAIC3vj7B+CQig3EtOosr\n",
              "r6JnFxskRg9DNwdLqcciaoXhSXQdQRAwf7QvnrsuPmP250o8FRHRrRVc/CM6e3WxQWK0ktFJeonh\n",
              "SfQngiBg/gN98Px9PgCApd+cxOp9jE8i0k/5F2sRGnNQE51dbZAQrYSLPaOT9BPDk+gmXhztixfu\n",
              "18Tnf789iVW/MD6JSL9oojMJ56rq0LurDRKjGJ2k3xieRLfwwv2+ePF+XwDA29+dxKd7cySeiIhI\n",
              "I+9CLSavSUJJVR28nW2REK2EM6OT9BzDk+hvPH+/D/5vtCY+3/3+FD75OVviiYjI1J29UIvJMQdR\n",
              "Wl0HH2dbJEQp4WzH6CT9x/AkaoNn7/PBSw/2AQC898NpfPwT45OIpHHm/GWExhxEWXU9fF1sER+l\n",
              "RFc7C6nHImoThidRG80b5d0Sn+/vOY0VPzI+iUi3cs9fRmhMEsqq69HHxY7RSQaH4UnUDvNGeWPh\n",
              "mL4AgA9+PI0Pfzwt8UREZCpyyi9jSkwSymvq0bebHeKjQtDFltFJhoXhSdROT93bG4sf0sTnhz9m\n",
              "Y/me0xBFUeKpiMiY5ZTXYMraP6Jza2QInBidZIAUUg9AZIjmjOwNQdD8js+PfsoGRBEvjvaFIAhS\n",
              "j0ZERia7rAZT1ibjwuV69HO1x9bIEHS2MZd6LKLbwhVPotsUfU9vvPJIPwDARz/ncOWTiLROE51J\n",
              "uHC5Hn6u9ohndJKBY3gS3YHIu3u1xOfHP+fgvR9OMT6JSCtOldYgNCYJFy43oH93zUpnJ0YnGTiG\n",
              "J9Ediry7F1571A8A8OneXLzzPeOTiO7MqdIahK1NwsXaBgzowegk48HwJNKC2Xf1xL/HauJz1S+5\n",
              "ePs7xicR3Z6TpdWY0hydA3s4YEtECBytGZ1kHBieRFoSPqInXn+sPwBg9b5c/Pfbk4xPImqX4+eq\n",
              "MSUmCRW1DRjkxugk48PwJNKimcO98MY4TXyu2X8GS785wfgkojY5fq4aU9cl4dKVRvi7OWBzRAgc\n",
              "rM2kHotIqxieRFo2Y5gX3nx8AABg7a9n8Z+vGZ9EdGtZ56oQdi063R2xKSIEDlaMTjI+DE+iDjBd\n",
              "6Yn/PKGJz3UHzuLNrxifRHRjx4qrELY2GZVXGjHY3RGbI4IZnWS0GJ5EHWRqiCeWPjEQALD+t7N4\n",
              "46vjjE8iauVYcRWmrktG1dVGDPHQRKe9JaOTjBfDk6gDhYV44L/jNfEZ91seXv8f45OINI4WVSFs\n",
              "bRKqrjYiwMMRm2YHw47RSUaO4UnUwUKDPfD2hIEQBGDD73lY8mUW45PIxB0urMTUdUmormvCUM9O\n",
              "2BQRwugkk8DwJNKByUEeeHv8IAgCsOlgPl7bzfgkMlWZhZWYFpuM6romBHl1wobZwbC1UEg9FpFO\n",
              "MDyJdGRSkDvemaCJz81J+Xh19zGo1YxPIlOSUXAJ09clo6auCcFenRE3i9FJpoXhSaRDE4e6490n\n",
              "/SEIwJakArzC+CQyGekFlzAjNgU19U0I7tkZcbOCGJ1kchieRDr2ZKAb3p+oic/45AK8/MVRxieR\n",
              "kUvL/yM6Q3p2xoZZQbBhdJIJYngSSWB8gBuWT/KHTAASUgrxr88Zn0TGKi2/AjPXp+ByfROUvTQr\n",
              "ndbmjE4yTQxPIok8McQNH0weDJkAJKYWYtGuI4xPIiNzKK8CM2I10Tm8txPiwoMZnWTS+OonktC4\n",
              "wT0AAC9uy8T2Q0UQReDtCYMgkwkST0ZEdyo1T7PSeaVBhRHeTlg3IwhW5nKpxyKSFMOTSGLjBveA\n",
              "TBDwwrZMfJZWBBGa+JQzPokMVsrZCoTHaaLzLu8uWDtjKKOTCAxPIr0w1r87BAF4PjETO9KKoBZF\n",
              "vPukP+OTyAAlnbmI2RtScaVBhbt9NNFpacboJAIYnkR649FB3SFAwHOJGdiVXgyIwLsTGZ9EhuRg\n",
              "riY6rzaqcI9vV8RMD2R0El2HHy4i0iOPDHLFJ1OGQCETsCujGP+3PRMqfuCIyCD8nnuhJTpHMjqJ\n",
              "bojhSaRnHhroik/CNPH5ReY5zN+eiSaVWuqxiOgWfs/5Izrv7dMVaxidRDfE8CTSQ2MGuOKTsAAo\n",
              "ZAJ2Z57Di9sPMz6J9NRvORcwa0Mq6hrVGMXoJLolrYdnXFwcBEHAF198AQAoLy/HmDFj4OPjgwED\n",
              "BmD//v3aPiSRURozoBtWTg2AmVzA/w6fwwvbuPJJpG8OZGtWOuub1PhHX2esnh4ICwWjk+hmtBqe\n",
              "eXl5WLt2LZRKZct9ixYtglKpRHZ2NuLi4hAWFobGxkZtHpbIaD3QvxtWTg2EmVzAV0dK8HxiJhoZ\n",
              "n0R6Yf/p84jYqInO+/s5Y9W0AEYn0d/QWniq1WpERkbi448/hoWFRcv927dvx9y5cwEAQUFB6N69\n",
              "O/bt26etwxIZvdF+LljVHJ9fHy3B84kZjE8iie07fR6Rmw41R6cLVk7lSidRW2gtPJcvX44RI0Yg\n",
              "MDCw5b6LFy+isbER3bp1a7nPy8sLBQUFN91PfX09qqurW91UKpW2xiQySPf7uWD1tECYy2X45mgp\n",
              "nktgfBJJ5ZdT5YjadAgNTWqM9nPByqkBMFfwIxNEbaGV75Rjx45h586deOWVV+54X8uWLYODg0Or\n",
              "W0pKihamJDJs9/VzwerpATCXy/DtsVI8E5+OhibGJ5Eu7T1ZjuhNaWhoUuPB/i74NIzRSdQeWvlu\n",
              "+fXXX5GXlwcfHx94eXkhKSkJ0dHR2L59OxQKBUpLS1sem5eXBw8Pj5vua/Hixaiqqmp1Cw4O1saY\n",
              "RAbvH31dsGZGIMwVMnyfVcb4JNKhn0+WYc7mNDSo1BjTvxs+YXQStZtWvmOeeuoplJSUIC8vD3l5\n",
              "eVAqlYiJicFTTz2FiRMnYvXq1QCA1NRUFBcXY+TIkTfdl4WFBezt7Vvd5HK+b4bomlF9nBEzXROf\n",
              "PxwvwzzGJ1GH++lEGeZuTkeDSo2HBnTDx2FDYCZndBK1V4d/17z99tv4/fff4ePjg/DwcGzZsgVm\n",
              "ZmYdfVgio3ZvH2esnTEU5goZ9hwvw9Nb01DfxPdCE3WEH4+XYe4WzUrnIwNd8dEURifR7RJEUdT7\n",
              "v8c3f/58LF++XOoxiPTO/tPnEdX8ydr7+jpjJX+dC5FW/ZBVinnx6WhUiXhkkCtWTB4MBaOT6Lbx\n",
              "u4fIgN3j2xWxM4NgoZDhp5PleGpLOlc+ibTk++uic6x/d0YnkRbwO4jIwN3l0wXrw4NgaSbDzyfL\n",
              "MXdzGuoaGZ9Ed+K7Y6WYt1UTnY/5d8cHk/wZnURawO8iIiMwwrsL1s/UxOfeU+cxh/FJdNu+PVqC\n",
              "Z+LT0aQWMW5wdyxndBJpDb+TiIzEcO8/Vj73nT6PaMYnUbt9c7QEzyRkoEkt4okhPbB8En+8TqRN\n",
              "/G4iMiLDe3dBXHgwrMzkLR88YnwStc3XR0rwbEIGVGoR44f0wHsT/SGXCVKPRWRUGJ5ERmZYbyds\n",
              "mBUEa3M5fs2+wPgkaoP/HT6H5xI10TkhwA3vMjqJOgTDk8gIhfRywoZZwS3xGbnxEK42MD6JbuTL\n",
              "w+fwwrZMqNQingx0wztPDmJ0EnUQhieRkQru2RkbZwfDxlyOAzkXELExlfFJ9Ce7M4vxQvNK58RA\n",
              "N7wzgdFJ1JEYnkRGLMjrj/j8PfciZm9IxZWGJqnHItILX2QU48VtmVCLwOSh7nh7wiDIGJ1EHYrh\n",
              "SWTkhnp1xqaIYNhaKHDwDOOTCAA+zyjC/O2a6AwNcsey8QMZnUQ6wPAkMgGBnpqVT1sLBZLOVCA8\n",
              "LhW19YxPMk0704owf/thqEVgSrAHlj7B6CTSFYYnkYkI9OyETRHBsLNQIOVsBWYxPskE7Ugrwj93\n",
              "HIYoAmEhHvjP4wMYnUQ6xPAkMiEBHtfFZ14FwuNScJnxSSbis0OFeKk5OqcpPfDWOEYnka4xPIlM\n",
              "zBCPTtgcGQI7SwVS8y4hfD3jk4zf9tRCLNh5BKIITFd64k1GJ5EkGJ5EJmiwuyO2RobA3lKBQ/mX\n",
              "MHN9CmrqGqUei6hDbEstaInOmcM88ca4/hAERieRFBieRCZqkJsjtkYqYW+pQBrjk4xUQkoBFu48\n",
              "CgAIH+6Ffz/G6CSSEsOTyIQNdHNAfJQSDlZmSC+oxIz1KahmfJKRiE8uwOJdmuicNcILS8b6MTqJ\n",
              "JMbwJDJxA3o4YGtkCBytzZBRUIkZsYxPMnxbkvLxr8810Tl7RE+89iijk0gfMDyJqFV8ZhZWYnps\n",
              "CqquMj7JMG1OyscrXxwDAETe1ROvPtqP0UmkJxieRAQA6N/dAfGRSnSyNsPhwkpMj01G1RXGJxmW\n",
              "TQfz8GpzdEbf0wsvP8LoJNInDE8iauHX3R7xUUp0tjHHkaIqTGN8kgHZ+HseXtudBQCYc08vLH6o\n",
              "L6OTSM8wPImolX6u9oiPCkFnG3McLa7C1NgkVF5pkHosoluK++0slnypic65I3tjEaOTSC8xPIno\n",
              "L/p2s0dClBJONuY4VlyNqeuSGZ+kt2IPnMXr/zsOAHj63t5YOKYPo5NITzE8ieiG+nSzQ0K0El1s\n",
              "zZF1rhpha5NxqZbxSfpl3a9n8OZXmuicN6o3XnqQ0UmkzxieRHRTvi52SIjSxOfxkmqErUtGBeOT\n",
              "9MS6X8/gra9PAACe/Yc3/vkAo5NI3zE8ieiWfFri0wInSqoRtjaJ8UmSi9mf2xKdz93ng/mjfRmd\n",
              "RAaA4UlEf8vHxQ6J0Up0tbPAydIahK1NwsXL9VKPRSZq9b5cLP3mJADgeUYnkUFheBJRm3g72yIh\n",
              "6vr4TMYFxifp2KpfcvHfbzXR+cL9PnhxtK/EExFRezA8iajNvJ1tkRithLOdBU6VaVY+GZ+kK5/u\n",
              "zcHb32mic/5oX7xwP6OTyNAwPImoXXp31cSni70FTpddxpSYJJyvYXxSx/rk52y8+/0pAMD/jfbF\n",
              "c/f5SDwREd0OhicRtVuvrrZIjB6GbvaWyC6/jClrk1BeUyf1WGSkPv4pG+/9cBoA8NKDffAso5PI\n",
              "YDE8iei29Oxig8RoJVwdLJFTrln5LK9mfJJ2rfgxG+/v0UTngjF9MG+Ut8QTEdGdYHgS0W3zao7P\n",
              "7g6WyD1fi9C1jE/Sng/2nMYHP2qic+GYvnj6XkYnkaFjeBLRHfF0skFi9DB0d7DEmfO1CI1JQhnj\n",
              "k+6AKIpYvuc0VvyUDQBY/FBfPHVvb4mnIiJtYHgS0R3zcLJGYvQw9HC0wpkLmvgsrWJ8UvuJoogP\n",
              "9pzGR83R+fLD/TBnJKOTyFgwPIlIKzTxqUQPRyucvVCLKWsZn9Q+oiji/R9O46OfcwAArzzSD1H3\n",
              "9JJ4KiLSJoYnEWmNe2dNfLp10sRnaMxBlFRdlXosMgCiKOK9H07hk72a6Hz1UT9E3s3oJDI2DE8i\n",
              "0qrr4zPv4hWExiThXCXjk25OFEW88/0pfLo3FwDw2qN+iLirp8RTEVFHYHgSkda5dbLGtjnD4N7Z\n",
              "CvnN8VnM+KQbEEUR//3uJFb9oonOf4/1w2xGJ5HRYngSUYfo4WiFbdHD4NHZGgUVVxAacxBFl65I\n",
              "PRbpEVEU8d9vT2LNvjMAgDfG9Uf4CEYnkTFjeBJRh+nuaIXEaCU8naxRWHEVoTFJKKxgfJImOpd+\n",
              "cwJr9mui881x/TFjmJe0QxFRh2N4ElGHuhafXk7WKLrE+CRNdL719Qms/fUsAODNxwdgOqOTyCQw\n",
              "PImow7k6WCExehh6drFBcSXj05SJoog3vzqB2AOa6PzPEwMwXekp8VREpCsMTyLSiW4OlkiIUqLX\n",
              "dfFZcJHxaUpEUcTr/zuO9b9ponPpEwMxNYTRSWRKGJ5EpDPdHCyREK1Er67X4vMg8i/WSj0W6cC1\n",
              "6Nzwex4A4L/jByIsxEPaoYhI5xieRKRTLvaWSIxSondXG5yrqkNoTBLj08iJooglX2Zhw+95EATg\n",
              "nQmDEBrM6CQyRQxPItI5Z3vNymfvrjYoqarD5DVJyLvA+DRGarWIV3cfw6aD+RAE4O0JgzApyF3q\n",
              "sYhIIloLz7q6Ojz++OPw9fWFv78/Ro8ejZwczZ8+Ky8vx5gxY+Dj44MBAwZg//792josERkoZztL\n",
              "JEYPg4+zLUqr6zA55iDOMj6NyrXo3JJU0LLSOWkoo5PIlGl1xTM6OhqnTp3C4cOHMW7cOERGRgIA\n",
              "Fi1aBKVSiezsbMTFxSEsLAyNjY3aPDQRGaCudhaIj1LCx9kWZdX1CI05iDPnL0s9FmmBWi3ild3H\n",
              "sDVZE53vPemPiYxOIpOntfC0tLTEww8/DEEQAABKpRJ5eXkAgO3bt2Pu3LkAgKCgIHTv3h379u3T\n",
              "1qGJyIB1tbNAQrQSvi7X4jMJuYxPg6ZWi3j5i6OIb47O9yf6Y0Kgm9RjEZEe6LD3eK5YsQLjxo3D\n",
              "xYsX0djYiG7durVs8/LyQkFBwQ2/rr6+HtXV1a1uKpWqo8YkIj3QxdYCCVFK9O1mh/IaTXzmlDM+\n",
              "DZFaLeJfnx9FQkohZAKwfJI/xgcwOolIo0PCc+nSpcjJycGyZcva/bXLli2Dg4NDq1tKSkoHTElE\n",
              "+sTJ1gJbI0PQt5sdztfUY8raJOSU10g9FrWDWi1i0a4jSEzVROcHkwfjiSGMTiL6g9bD87333sOu\n",
              "Xbvw7bffwtraGk5OTlAoFCgtLW15TF5eHjw8bvyrNBYvXoyqqqpWt+DgYG2PSUR6yMlW857Pa/EZ\n",
              "GpOM7DLGpyFQqUUs2HkE2w8VtUTnuME9pB6LiPSMVsNz+fLlSEhIwJ49e+Do6Nhy/8SJE7F69WoA\n",
              "QGpqKoqLizFy5Mgb7sPCwgL29vatbnK5XJtjEpEe62xjjoQoJfxc7XHhsmbl8zTjU6+p1CIW7DiC\n",
              "HWlFkMsErAgdwugkohsSRFEUtbGjoqIiuLu7o1evXrCzswOgicjk5GSUlZVh+vTpOHv2LMzNzfHJ\n",
              "J59g1KhRbd73/PnzsXz5cm2MSUQG4lJtA6bFJiPrXDWcbMwRH6VEn252Uo9Ff6JSi3hpx2HsSi9u\n",
              "js7BeHRQd6nHIiI9pbXw7EgMTyLTVHmlAVPX/RGfW6NC0LebvdRjUTOVWsQ/PzuMzzM00flR6BA8\n",
              "MshV6rGISI/xLxcRkd5ytDbH1sgQDOzhgIu1DQhbm4wTJdVSj0XQROf/bc/E5xnFUMgEfDKF0UlE\n",
              "f4/hSUR6zdHaHFsiQjDIzQEVtQ0IW5uE4+cYn1JqUqkxf3smvsg8p4nOsCF4aCCjk4j+HsOTiPSe\n",
              "g7UZNkeEwN/NAZeuNGLquiRknauSeiyT1KRS48Xth7G7JToDMGYAo5OI2obhSUQGwcHKDJsiQuDv\n",
              "7tgcn8k4Vsz41KUmlRovbMvE/w6fg5lcwMqpARgzoNvffyERUTOGJxEZDAcrM2yOCMZgd0dUMj51\n",
              "qlGlxvOJmfjqSElzdAbigf6MTiJqH4YnERkUe0szbIoIxhAPR1Rd1cTn0SLGZ0fSRGcGvj6qic5V\n",
              "UwMx2s9F6rGIyAAxPInI4NhbmmHT7GAEtMRnEo4UVUo9llFqVKnxXEIGvjlaCnO5DKunBeJ+RicR\n",
              "3SaGJxEZJDtLzXs+Az07obquCdPWJeNwYaXUYxmVhiY1nolPx7fHNNG5Znog7uvH6CSi28fwJCKD\n",
              "ZWuhwMbZwRh6LT5jk5HJ+NSKa9H5fVYZzBUyrJkRiFF9naUei4gMHMOTiAyarYUCG2YHI9irM2rq\n",
              "mjB9XTIyCi5JPZZBa2hSY158On44ronOmOmBGNWH0UlEd47hSUQGz9ZCgbhZQQju2Rk19U2YEZuC\n",
              "dMbnbalvUuHprWnY0xyda2cMxb2MTiLSEoYnERkFGwsF4sKDEHJdfKblMz7bo75Jhae3pOPHE+Ww\n",
              "UMiwbsZQjPTtKvVYRGREGJ5EZDRsmlc+lb0643J9E2bEJiMtv0LqsQxCfZMKT21Jx08nNdEZOzMI\n",
              "9zA6iUjLGJ5EZFSszRWICw/GsF5OqG1QYUZsCg7lMT5vpa5Rhbmb0/DzyXJYmsmwPjwId/l0kXos\n",
              "IjJCDE8iMjpW5nKsDw/C8N7N8bk+BSlnGZ83UteowpzNadh76rwmOmcGYYQ3o5OIOgbDk4iMkpW5\n",
              "HLEzg3CXdxdcaVAhPC4FyWcuSj2WXqlrVCF6cxr2nT4PKzM54sKDMZzRSUQdiOFJREbLylyOdTOH\n",
              "4m4fTXzO2pCKJMYnAE10Rm06hP3XonNWEIb1dpJ6LCIycgxPIjJqlmZyrJ1xXXzGpeJgrmnH59UG\n",
              "FSI3HsKv2RdgbS7HhllBUPZidBJRx2N4EpHRuxafI3274mqjCrM2pOD33AtSjyWJqw0qRG5KxYGc\n",
              "a9EZjBBGJxHpCMOTiEyCpZkca6YH4t4+XVHXqMbsDan4Pce04vNqgwoRG1PxW85F2JjLsXF2MIJ7\n",
              "dpZ6LCIyIQxPIjIZlmZyrJ4WiFHN8TlrQyoOZJtGfF5paNLEdu4f0RnkxegkIt1ieBKRSbE0k2P1\n",
              "9ED8o68z6pvUiNiYil+zz0s9Voe6Fp0Hz1yErYUCmyKCMZTRSUQSYHgSkcmxUMixaloA7u+nic/I\n",
              "jZpPdxuj2vomhMelIulMBWwtFNg4OxiBnoxOIpIGw5OITJKFQo5Ppwbg/n4umvjcdAj7jCw+a+ub\n",
              "MCsuFSlnK2DXvNIZ6NlJ6rGIyIQxPInIZFko5Fg5NQCj/VzQ0KRG1KZD+OVUudRjacXl+iaEx6Ug\n",
              "Ja8CdpYKbI4MQYAHo5OIpMXwJCKTZq6Q4dOwADzYXxOf0ZvSsPekYcfn5fomhK9PQWreJdhZKrAl\n",
              "IgSD3R2lHouIiOFJRGSukOGTsACM6d8NDSo15mxOw88ny6Qe67bU1DVi5voUHMq/BHtLBbZGhsCf\n",
              "0UlEeoLhSUQEwEwuw8dhQ/DQgD/i86cThhWf16IzLf8SHKzMsDVSiUFujlKPRUTUguFJRNTMTC7D\n",
              "R1OG4JGBrmhUiZi7JQ0/HjeM+Kyua8SM9SlIL6hsjs4QDHRzkHosIqJWGJ5ERNcxk8vwYehgPDJI\n",
              "E59PbU3DD1mlUo91S1VXGzE9NgUZBZVwtNZE54AejE4i0j8MTyKiPzGTy7Bi8mCM9e+ORpWIp7em\n",
              "43s9jc+qq42YEZuMw4WMTiLSfwxPIqIbUMhl+GCSPx7z744mtYh5W9Px3TH9is+qK42YHpuMw0VV\n",
              "6GRthvhIJfp3Z3QSkf5ieBIR3YRCLsPySf4YN1gTn8/Ep+PboyVSjwVAE53TYpNxpKgKnW3MER+l\n",
              "hF93e6nHIiK6JYYnEdEtaOJzMJ4Y0kMTnwkZ+Ebi+Ky80oCpsUk4WnwtOkPQz5XRSUT6TyH1AERE\n",
              "+k4uE/DeRH8IAHZlFOPZhAyIIvDIIFedz1J5pQFT1yUj61w1nJpXOvt0s9P5HEREt4PhSUTUBnKZ\n",
              "gHcn+gMCsCu9GM8lZkAtihjr311nM1yq1UTn8ZJqdLHVRKevC6OTiAwHw5OIqI3kMgHvPukPmSBg\n",
              "R1oRnk/MgAjgMR3EZ0VzdJ4oqUYXWwskRIXAh9FJRAaG4UlE1A5ymYB3JgyCAOCztCK8kJgBURQx\n",
              "bnCPDjtmRW0DwtYm4WRpDbrYWiAxOgTezoxOIjI8/HAREVE7yWQC3p4wCJOHukMtAi9uy8QXGcUd\n",
              "cqyLl+tborOrnQUSo5WMTiIyWFzxJCK6DTKZgGXjB0IQgMTUQszfngkRIp4Y4qa1Y1y4XI+pa5Nx\n",
              "qqwGznYWSIhWondXW63tn4hI17jiSUR0m2QyAUufGIgpwR5Qi8D87YexM61IK/u+0LzSyegkImPC\n",
              "FU8iojsgkwn4z+MDIAhAfHIB/rnjMEQATwbe/srn+RpNdGaXX4aLvQUSopToxegkIiPAFU8iojsk\n",
              "kwl4a9wATFN6QBSBl3YcxvZDhbe1r/KaOkxpjs5u9pZIjB7G6CQio8EVTyIiLZDJBLw5bgAECNic\n",
              "lI+FO48AIjApyL3N+yiv1kRn7vlauDpYIiFKCa8uNh04NRGRbnHFk4hISwRBwBvj+mPmME+IIrBg\n",
              "5xFsSy1o09eWV9chtDk6uztYIjGa0UlExofhSUSkRYIg4N+P9Uf4cC8AwMKdR5GQcuv4LKuuQ2hM\n",
              "Es6cr0UPRyskRg+DpxOjk4iMD8OTiEjLBEHAkrF+mDXCCwCweNdRxCffOD5Lq5qj88K16FTCw8la\n",
              "h9MSEemOzsIzOzsbw4cPh6+vL4KCgpCVlaWrQxMR6ZwgCHjtUT/MHtETAPCvz49iS1J+q8eUVmne\n",
              "03n2uuh078zoJCLjpbPwnDNnDqKjo3H69GksXLgQ4eHhujo0EZEkBEHAq4/2Q+Rdmvh85Ytj2Nwc\n",
              "nyVVVxEacxBnL9TCrROjk4hMg07Cs7y8HIcOHcK0adMAABMmTEBhYSFycnJ0cXgiIskIgoCXH+mH\n",
              "qLs18fnqF8ew4sdshMYkIe/iFUYnEZkUnfw6pcLCQri6ukKh0BxOEAR4eHigoKAA3t7erR5bX1+P\n",
              "+vr6VvepVCpdjElE1CEEQcC/Hu4HmSBgzf4z+ODH0wAA986aDxL1cLSSeEIiIt3Quw8XLVu2DA4O\n",
              "Dq1uKSkpUo9FRHRHBEHAoof6Yu7I3gAAj87W2MboJCITI4iiKHb0QcrLy+Ht7Y2KigooFAqIoghX\n",
              "V1ccOHCgTSuer776KlasWNHRYxIRdThRFHGsuBo9u9rA1oJ/w4OITItOVjydnZ0REBCALVu2AAB2\n",
              "7twJNze3v0QnAFhYWMDe3r7VTS6X62JMIqIOJwgCBro5MDqJyCTp7Mq3Zs0ahIeHY+nSpbC3t0dc\n",
              "XJyuDk1EREREekBn4dmnTx8cPHhQV4cjIiIiIj2jdx8uIiIiIiLjxPAkIiIiIp1geBIRERGRTjA8\n",
              "iYiIiEgnGJ5EREREpBMMTyIiIiLSCYYnEREREekEw5OIiIiIdILhSUREREQ6IYiiKEo9xN8ZP348\n",
              "vLy8dHIslUqFlJQUBAcH82/EX4fn5eZ4bm6M5+XmeG5ujOfl5nhubozn5eakODeenp54/vnnb/kY\n",
              "gwhPXaquroaDgwOqqqpgb28v9Th6g+fl5nhubozn5eZ4bm6M5+XmeG5ujOfl5vT13PBH7URERESk\n",
              "EwxPIiIiItIJhicRERER6QTD808sLCywZMkSWFhYSD2KXuF5uTmemxvjebk5npsb43m5OZ6bG+N5\n",
              "uTl9PTf8cBERERER6QRXPImIiIhIJxieRERERKQTDE8iIiIi0gmTCc/s7GwMHz4cvr6+CAoKQlZW\n",
              "1g0fFxsbCx8fH/Tu3RtRUVFobGxs0zZD1pZz8/PPPyM4OBh+fn7o378/FixYALVaDQDIy8uDXC7H\n",
              "4MGDW265ubm6fhpa15bz8ssvv8DKyqrVc7969WrLdlN+zcTFxbU6L126dMH48eMBGO9r5rnnnoOX\n",
              "lxcEQUBmZuZNH2dq15m2nBdTvMa05byY6jWmLefGFK8xdXV1ePzxx+Hr6wt/f3+MHj0aOTk5N3zs\n",
              "V199hb59+8LHxwfjx49HdXV1m7Z1ONFEjBo1SoyLixNFURQ/++wzcejQoX95zJkzZ0RXV1expKRE\n",
              "VKvV4tixY8VPPvnkb7cZuracm/T0dDE3N1cURVG8evWqOGLEiJavOXv2rOjg4KCjaXWnLedl7969\n",
              "or+//w2/3tRfM3/Wv39/cceOHaIoGu9rZt++fWJhYaHo6ekpZmRk3PAxpnidact5McVrTFvOi6le\n",
              "Y9pybv7MFK4xV69eFb/++mtRrVaLoiiKH3/8sThy5Mi/PK6mpkZ0dnYWT5w4IYqiKM6bN0/85z//\n",
              "+bfbdMEkwrOsrEy0s7MTGxsbRVEURbVaLbq4uIjZ2dmtHvfOO++Ic+bMafn3119/LY4YMeJvtxmy\n",
              "tp6bP5s3b564ZMkSURSN8xu8reflVv9R4GvmD0lJSWLXrl3FhoYGURSN8zVzvVv9x9IUrzPXtCci\n",
              "jP0ac73bDU9jf72IYttfM6Z2jbkmNTVV9PT0/Mv927dvFx988MGWf2dlZYk9evT42226YBI/ai8s\n",
              "LISrqysUCgUAQBAEeHh4oKCgoNXjCgoK4Onp2fJvLy+vlsfcapsha+u5uV5paSl27NiBRx99tOW+\n",
              "2tpaBAUFISAgAG+88QZUKlWHz96R2nNecnNzERAQgKCgIKxcubLlfr5m/hAbG4vp06fDzMys5T5j\n",
              "e820lSleZ9rLFK4x7WFq15jbYarXmBUrVmDcuHF/uf9Gr42SkhI0NTXdcpsuKHRyFDIa1dXVGDt2\n",
              "LBYsWIChQ4cCAFxdXVFcXAxnZ2dUVFRg8uTJeP/997FgwQKJp+14AQEBKCoqgoODA4qKivDwww+j\n",
              "S5cumDRpktSj6Y3a2lokJiYiKSmp5T5Tfs3QrfEa0xqvMX/PVK8xS5cuRU5ODn766SepR2kXk1jx\n",
              "dHd3b1XzoiiioKAAHh4erR7n4eGB/Pz8ln/n5eW1POZW2wxZW88NANTU1GDMmDEYN24c5s+f33K/\n",
              "hYUFnJ2dAQCdO3fG7Nmz8euvv+rmCXSQtp4Xe3t7ODg4AADc3NwwZcqUlufO14zGZ599hv79+8PP\n",
              "z6/lPmN8zbSVKV5n2sqUrjFtZYrXmPYyxWvMe++9h127duHbb7+FtbX1X7bf6LVx7SdVt9qmCyYR\n",
              "ns7OzggICMCWLVsAADt37oSbmxu8vb1bPW7ChAn48ssvUVpaClEUsXr1aoSGhv7tNkPW1nNz+fJl\n",
              "jBkzBmPGjMErr7zSalt5eXnLJynr6+uxa9cuDBkyRDdPoIO09byUlJS0fPK2pqYGX331VctzN/XX\n",
              "zDWxsbGIiIhodZ8xvmbayhSvM21hateYtjLFa0x7mdo1Zvny5UhISMCePXvg6Oh4w8eMGTMG6enp\n",
              "OHnyJABg5cqVLa+NW23TCZ29m1RiJ0+eFJVKpejj4yMGBgaKR44cEUVRFCMiIsTdu3e3PC4mJkbs\n",
              "1auX2KtXL3H27Nktb1T+u22GrC3n5q233hIVCoXo7+/fcnvrrbdEURTFnTt3iv379xcHDRok+vn5\n",
              "ic8884xYV1cn2fPRlracl48//lj08/Nree5Llixp+bShKJr2a+ba42xtbcXq6upWX2+sr5no6Gix\n",
              "R48eolwuF52dncXevXuLosjrTFvOiyleY9pyXkz1GtPW7yVTu8YUFhaKAMRevXq1fJ8EBweLoiiK\n",
              "r776qrhq1aqWx+7evVvs06eP2Lt3b3HcuHFiZWVlm7Z1NP6tdiIiIiLSCZP4UTsRERERSY/hSURE\n",
              "REQ6wfAkIiIiIp1geBIRERGRTjA8iYiIiEgnGJ5EREREpBMMTyIiIiLSCYYnEREREekEw5OIiIiI\n",
              "dILhSUREREQ6wfAkIiIiIp34f2n+FH6rkHXGAAAAAElFTkSuQmCC\n",
              "\">\n",
              "      </div>\n",
              "      <script type=\"text/javascript\">\n",
              "        (() => {\n",
              "          const chartElement = document.getElementById(\"chart-6d00971c-7a0d-42bc-8884-e86f07d14225\");\n",
              "          async function getCodeForChartHandler(event) {\n",
              "            const chartCodeResponse =  await google.colab.kernel.invokeFunction(\n",
              "                'getCodeForChart', [\"chart-6d00971c-7a0d-42bc-8884-e86f07d14225\"], {});\n",
              "            const responseJson = chartCodeResponse.data['application/json'];\n",
              "            await google.colab.notebook.addCell(responseJson.code, 'code');\n",
              "          }\n",
              "          chartElement.onclick = getCodeForChartHandler;\n",
              "        })();\n",
              "      </script>\n",
              "      <style>\n",
              "        .colab-quickchart-chart-with-code  {\n",
              "            display: block;\n",
              "            float: left;\n",
              "            border: 1px solid transparent;\n",
              "        }\n",
              "\n",
              "        .colab-quickchart-chart-with-code:hover {\n",
              "            cursor: pointer;\n",
              "            border: 1px solid #aaa;\n",
              "        }\n",
              "      </style>"
            ]
          },
          "metadata": {}
        },
        {
          "output_type": "display_data",
          "data": {
            "text/plain": [
              "from matplotlib import pyplot as plt\n",
              "s4['Mobile'].plot(kind='line', figsize=(8, 4), title='Mobile')\n",
              "plt.gca().spines[['top', 'right']].set_visible(False)"
            ],
            "text/html": [
              "      <div class=\"colab-quickchart-chart-with-code\" id=\"chart-c996f9d6-ad19-4640-9040-74326a704702\">\n",
              "        <img style=\"width: 180px;\" src=\"data:image/png;base64,iVBORw0KGgoAAAANSUhEUgAAAqUAAAFuCAYAAAC4H2HYAAAAOXRFWHRTb2Z0d2FyZQBNYXRwbG90\n",
              "bGliIHZlcnNpb24zLjcuMSwgaHR0cHM6Ly9tYXRwbG90bGliLm9yZy/bCgiHAAAACXBIWXMAAA9h\n",
              "AAAPYQGoP6dpAABM+0lEQVR4nO3deVyUBeLH8c9wewAqijegAireojDUumW1ZbcdHoi3gl2/at0u\n",
              "O2y7tyy7S1Ez7yOr1c3Nbs2Ky/s+UBEPFEXlvuf5/YGyUZaiwDMw3/frNa9X8sw433mahk8joMUw\n",
              "DAMRERERERM5mT1ARERERERRKiIiIiKmU5SKiIiIiOkUpSIiIiJiOkWpiIiIiJhOUSoiIiIiplOU\n",
              "ioiIiIjpFKUiIiIiYjpFqYiIiIiYTlEqImInLBYL33777R8ef/nll7n++uvLf3311Vfz9NNP18Q0\n",
              "EZFqpygVEbkMV199NRaLhenTp1f4eHZ2Np6enlgsFpKTk6vkvp588km+/vrrKvm9RETsjaJUROQy\n",
              "hYSE/C5K582bh7+/v0mLRERqH0WpiMhluvXWWzl+/DgJCQnlH/vwww+ZMGFCheutXLmS0NBQvL29\n",
              "CQ4O5vXXX8dms1W4zpYtW+jbty8NGzYkLCyMdevWlR/75z//yV/+8pc/3HHkyBGGDRtG69at8fX1\n",
              "JTIykhMnTlTRoxQRqV6KUhGRy+Ti4sL48eOZNm0aAD/99BNZWVncfPPN5ddJSkrijjvu4PHHHycj\n",
              "I4NFixYxdepU3nnnnQq/1wcffMCcOXPIyMjgpptu4sYbbyQzM/OCGwoLC7n22mtp1aoVe/bsYf/+\n",
              "/bi4uDBs2LCqfbAiItVEUSoiUgWio6P59NNPOXPmDB9++CHR0dE4Of3vJXbmzJncfPPNDB48GBcX\n",
              "F0JDQ3n00UfLQ/achx56iJCQENzd3Zk8eTIuLi6sWLHigve/cuVKsrOzmTJlCg0aNKBhw4b861//\n",
              "4ttvv+Xw4cNV/nhFRKqai9kDRETqgjZt2tC/f39ef/11li9fzuuvv05hYWH58UOHDhESElLhNoGB\n",
              "gaSmplb4WLt27cr/2cnJCX9/fw4dOnTB+9+7dy/Hjx+ncePGFT7u7u5Oamoqbdq0uZSHJSJSYxSl\n",
              "IiJV5N577+Wmm27irrvuomXLlqSkpJQfa9u2Lfv27atw/X379uHn51fhY7++jc1mu+igbNGiBf7+\n",
              "/r+7DxGR2kJ/fC8iUkVuuOEGvvnmG958883fHRs7diwrV67k008/pbS0lI0bNzJlyhRiYmIqXO/t\n",
              "t99m586dFBUV8dJLL1FUVMRtt912wfu+8847KS4u5plnnin/GtT09HSWLFlSNQ9ORKSaKUpFRKqI\n",
              "xWLh2muvPe87m+Hh4SxbtoyXXnqJxo0bM2jQIB588EEeeuihCte79957GTFiBE2aNGHFihX897//\n",
              "pVGjRhe8b09PT+Li4khNTaVbt254eXlxxRVX8OOPP1bVwxMRqVYWwzAMs0eIiIiIiGPTO6UiIiIi\n",
              "YjpFqYiIiIiYTlEqIiIiIqZTlIqIiIiI6RSlIiIiImI6RamIiIiImE5RKiIiIiKmq/VR+vbbb5s9\n",
              "QUREREQuU62P0oMHD5o9QUREREQuU62PUhERERGp/RSlIiIiImI6RamIiIiImE5RKiIiIiKmU5SK\n",
              "iIiIiOkUpSIiIiJiOkWpiIiIiJhOUSoiIiIiplOUioiIiIjpFKUiIiIiYjpFqYiIiIiYzsXsASIi\n",
              "UqawpJTXVu3GzcWJiX8LxtVZ7xuIiONQlIqI2IGC4lLunb+eH3afAODAiVzeieyFm4vCVEQcg17t\n",
              "RERMVlBcyj1ng9TD1Qk3ZydWbT/GvfPXU1BcavY8EZEaoSgVETFRQXEpE+atZ/XZIP1odF9mjOqD\n",
              "u4sT3+1KJ3ruOvKLFKYiUvcpSkVETFJQXEr03HWs2XOCeq7OzB4dxhUdmnJVcDNmj+lLPVdn1u49\n",
              "ydiPk8grKjF7rohItVKUioiY4FyQrt17sixIx/QlooNP+fErOjRl7rgwGrq7ELc/g1EfJZJdUGzi\n",
              "YhGR6qUoFRGpYflFpYyfUxak9d2c+XhMX6ztfX53vb4BTZg3LgxPDxeSUk4zfFYimXkKUxGpmxSl\n",
              "IiI1KL+olPFzk/gp+VyQhhF+niA9p5dfYxZFW2lU35XNh84wbGY8p3OLanCxiEjNUJSKiNSQvKIS\n",
              "xn6cxM/JGTRwc2bO2DDC2jW54O26tvZmUbQVnwZubD+aReSMeE7mFNbAYhGRmqMoFRGpAeeCNG5/\n",
              "Bg3dXZg7Loy+ARcO0nM6t/RiyQQrvp7u7DqWzdDYeNKzCqpxsYhIzVKUiohUs7yiEsbMTiJ+/yka\n",
              "urswZ2wYof4XH6TnBPp6smRCBC29PUhOz2Hw9DiOnsmvhsUiIjVPUSoiUo1yC0sYPTuJhAOn8Dz7\n",
              "Dmmof+NL/v3aNW3A0gkRtGlcj5SMPAZPj+PQqbwqXCwiYg5FqYhINcktLHuHNPFXQdrb79KD9Jy2\n",
              "TeqzZEIE/j71OXw6nyHT40g5mVsFi0VEzKMoFRGpBjmFJYyenUhiyik8PVyYNz6cXlUQpOe0blSP\n",
              "pRMi6NCsAUczCxg8PY7k9Jwq+/1FRGqaolREpIplFxQz6qNEklJO4+nhwvxx4fRs26jK76e5lweL\n",
              "YyLo2NyT9OxChsbGsftYdpXfj4hITVCUiohUoXNBuv7gabw8XFgwPpwe1RCk5zTzdGdRjJWQll6c\n",
              "zCliaGwc245kVtv9iYhUF0WpiEgVySooZuRHiWxIPYN3PVcWjLfSvU2jar/fJg3cWBRtpUcbb07n\n",
              "FTNsRjybDp2p9vsVEalKilIRkSqQVVDMyFmJbCwP0nC6tfGusfv3ru/K/PHhhPo3JqughOEzE1iX\n",
              "cqrG7l9E5HIpSkVELlNmfjEjZiWy6dAZGtUvC9KurWsuSM/x9HBl7tgwrO2bkFNYwsiPEonbl1Hj\n",
              "O0RELoWiVETkMmTmFzNyVgKbTQ7Scxq4uzB7dBj9gpqSV1TKmI8TWbv3hGl7REQulqJUROQSZeYV\n",
              "M2JWApsPZ9K4visLx1vp0sq8ID2nnpszM0b24ZpOvhQU2xg3Zx3f7zpu9iwRkT+lKBURuQSZecUM\n",
              "n5XAlsOZNGngxsJoKyGtvMyeVc7D1Zlpw0O5oUtzikpsTJi3nlXbjpk9S0TkDylKRUQq6UxeEVGz\n",
              "4tl65FyQhtO5pf0E6TluLk68N6w3t3RvSXGpwf0LN/CfzUfNniUicl6KUhGRSjidW8SwGQlsO5KF\n",
              "z9kfxdSphf0F6Tmuzk68NaQnd/ZqTanN4KHFG/lsw2GzZ4mI/I6iVETkIp3OLSJqZgI70rJo2tCN\n",
              "RTFWOrbwNHvWBbk4OzFlUA+G9m2LzYB/fLKZJUmpZs8SEamg0lG6atUq+vTpQ/fu3bFarWzevBmA\n",
              "xMRErFYrvXr1onPnzrz22mvlt8nLyyMyMpLAwECCg4NZtmzZRR0TEbEXp3KLGFYepO4sirYS3Nz+\n",
              "g/QcZycLL9/RjRFWfwwDHv90K/PiUsyeJSJSzqUyVz59+jRRUVH8+OOPdOnShbVr1xIVFcW2bduI\n",
              "iYnh+eef57bbbuPUqVN06tSJW265hZCQEF5//XXc3d1JTk7mwIEDhIeH079/f3x8fP70mIiIPcjI\n",
              "KSRqZgK7jmXTtKE7i2PCCfStPUF6jpOThedv74KbixOzfjrAM8u3U1hiY3y/9mZPExGp3Dul+/bt\n",
              "w8fHhy5dugDQr18/UlNT2bBhAxaLhTNnzgCQm5uLm5sbTZo0AWDJkiXcc889ALRr146rr76azz//\n",
              "/ILHRETM9usgbebpzuIYa60M0nMsFgtP39yZ+67uAMCLK3fy/g/JJq8SEalklAYFBZGRkcEvv/wC\n",
              "wIoVK8jOziYlJYXZs2fzzDPP4OfnR3BwMC+//DItWrQAIDU1FX9///LfJyAggNTU1Ase+63CwkKy\n",
              "srIqXEpLSyv3iEVELtLJnEKGzSgLUt/yIG1o9qzLZrFYePSGjjx8XRAAU77azZvf7MEwDJOXiYgj\n",
              "q1SUent7s2zZMiZNmkRoaChff/01ISEhuLi48K9//YtXXnmF1NRUtm/fzlNPPcWOHTuqdOwrr7yC\n",
              "t7d3hUtiYmKV3oeICMCJ7EIiY+PZfTyb5l5lQdqhWe0P0nMsFgsPXxfMYwM6AvD2d3t57avdClMR\n",
              "MU2lv9Gpf//+rFmzhvXr1/PGG29w9OhRWrVqxeeff86wYcMAaN++PVarlZ9//hkAPz8/Dh48WP57\n",
              "pKSk4Ofnd8FjvzVp0iQyMzMrXMLCwir7EERE/tSJ7EKGzYhnb3oOLbw8WBwTQfs6FKS/dt/VgTx9\n",
              "c2cAPly9jxdX7lSYiogpKh2laWlp5f/8wgsvcM0119CrVy8aNGjA999/D8DJkydJSEiga9euAAwa\n",
              "NIhp06YBcODAAVavXs3AgQMveOy33N3d8fLyqnBxdnau7EMQEflD6dkFRFYIUivtmjYwe1a1Gt+v\n",
              "PS/cXva9AmXfALUNm01hKiI1q1LffQ8wefJk1q5dS0lJCREREcyaNQtnZ2eWLl3Ko48+SklJCcXF\n",
              "xTz88MNEREQA8OijjzJ27Fg6dOiAs7Mz7733Hk2bNr3gMRGRmpSeVRak+07k0tLbg0XRVgLqeJCe\n",
              "MyIiADcXJ574bCvz41MpLjF4+c5uODtZzJ4mIg7CYtTyP6eZOHEiU6dONXuGiNRy6VkFDJ0Rz/4T\n",
              "ubTy9mBRjBV/H8cI0l/7bMNhHvlkMzYD7uzVmtfu7o6Ls/6eFRGpfnqlERGHdzyrgKGxZUHaulE9\n",
              "FsdEOGSQAtzZuw3vRPbC2cnCZxuP8NCSTRSX2syeJSIOQFEqIg7tWObZID15Lkit+PnUN3uWqW7p\n",
              "3ooPonrj6mxh5ZY07l+wgcIS/fg9EaleilIRcVhpmfkMjY3jwK+CtG0Txw7Sc27o0oLpI0Jxc3Hi\n",
              "6x3HuWfeegqKFaYiUn0UpSLikI6eyWdobDwpGXm0aVyPJRMUpL91TafmzBrVBw9XJ37YfYLxc9aR\n",
              "X6QwFZHqoSgVEYdzLkgPZuTRtknZO6RtGitIz6dfUDNmjw6jvpszPyWfZPTsRHILS8yeJSJ1kKJU\n",
              "RBzKkbNBmnoqD78m9VkcE6EgvYCIDj7MGxeGp7sLCQdOMfKjRLIKis2eJSJ1jKJURBzG4dN5DI2N\n",
              "I/VUHv4+9VkcY6V1o3pmz6oVQv2bMH98OF4eLqw/eJoRMxPIzFOYikjVUZSKiEM4dCqPobHxHDqV\n",
              "Xx6krRSkldKjbSMWRltpXN+VzYcziZwRz6ncIrNniUgdoSgVkTrvXJAePp1Pu6YNWBITQUtvBeml\n",
              "6Nram8UxETRt6MaOtCyGxsZxIrvQ7FkiUgcoSkWkTjsXpEfOlAXpomgrLbw9zJ5Vq3Vs4cnimAh8\n",
              "Pd3ZczyHIbFxHMssMHuWiNRyilIRqbNSM/IYMj2OI2fyad+0AYtjFKRVJdC3IUsnRNDK24P9J3IZ\n",
              "Elt2nkVELpWiVETqpIMZuQyNjeNoZgHtm5UFaXMvBWlVCmjagCUTImjbpB4Hz/4PwKFTeWbPEpFa\n",
              "SlEqInVOyslchsbGczSzgA7NGrA42oqvgrRatG1SnyUxEbRr2oDDp/MZPD2O/SdyzJ4lIrWQolRE\n",
              "6pQDZ4M0LbOAQN+GLIpRkFa3Vo3qsSTGSqBvQ9IyCxgSG8/e49lmzxKRWkZRKiJ1RlmQxnEsq4Ag\n",
              "34Ysirbi66kgrQm+Xh4sjrHSqYUnJ7ILGRobz860LLNniUgtoigVkTph34kchkyP43hWIcHNG7Iw\n",
              "2kozT3ezZzmUpg3dWRRtpWtrLzJyi4icEc+2I5lmzxKRWkJRKiK13r4TOUTGxpOeXUjH5p4KUhM1\n",
              "buDGgvFWerZtxJm8YiJnxLMx9bTZs0SkFlCUikitlpyew9CzQdqphScLo8Np2lBBaibveq7MGxdG\n",
              "34DGZBeUMHxmAokHTpk9S0TsnKJURGqt5PRshsbGc+JskC4YH46PgtQueHq4MmdsGBHtfcgtKmXU\n",
              "R4n8knzS7FkiYscUpSJSK+09XhakJ3MK6dzSi4XRVgWpnanv5sLsMX35a3Az8otLGfNxEmv2nDB7\n",
              "lojYKUWpiNQ6e45nEzkjnpM5RYS09GLh+HCaNHAze5ach4erM7EjQrmusy+FJTai56zj2x3HzZ4l\n",
              "InZIUSoitcruY9lExpYFaZdWXiwYH05jBald83B15oOoUG7s2oKiUhv3zF/Pl1vTzJ4lInZGUSoi\n",
              "tcauY1lEzognI7eIrq0VpLWJm4sT70b24rYerSixGTywaCPLNx0xe5aI2BFFqYjUCjvTshg2I4FT\n",
              "uUV0a+3NgnFWGtVXkNYmLs5OvDmkJ3f1bkOpzeDhJZtYtv6w2bNExE4oSkXE7u04msWwGfGcyi2i\n",
              "extv5o8Lx7u+q9mz5BI4O1mYcnd3IsPaYhjw6LLNLExINXuWiNgBRamI2LXtRzMZNjOe03nF9Gjj\n",
              "zTwFaa3n5GTh5Tu6MfqKAAwDnvx8K3N+STF7loiYTFEqInZr25FMomYmcCavmB5tGzFvfDje9RSk\n",
              "dYHFYuHZW0OI+Wt7AJ5dsZ0ZP+43eZWImElRKiJ26ddB2rNtI+aNC8PLQ0Fal1gsFibd2IkH+gcC\n",
              "8NJ/d/Le93tNXiUiZlGUiojd2Xo4k2Ez4snML6a3n4K0LrNYLDxyQ0cm/i0YgNe/3sPUr3djGIbJ\n",
              "y0SkpilKRcSubDl8hqiZ8WQVlBDq35g5Y8PwVJDWeQ9eG8QTN3YC4J3vk/nXql0KUxEHoygVEbux\n",
              "+dAZomYmkFVQQh8FqcO556oOPHtrCADT1+zn+S92KExFHIiiVETswqZDZxg+M4HsghL6BjTm47Fh\n",
              "NHR3MXuW1LAxV7bjpTu6AjD75xSe/vc2bDaFqYgjUJSKiOk2pp5mxMwEsgtLCAtowsdjFKSOLCrc\n",
              "n9fu7o7FAgsSUnn80y2UKkxF6jxFqYiYav3B04yYlVgWpO2aMHtMXxooSB3e4D5teXNwT5ws8Mn6\n",
              "w0xcuomSUpvZs0SkGilKRcQ06w+eYtRHieQUlmBt34SPFaTyKwN7tebdyN64OFlYvukoDy7eSLHC\n",
              "VKTOUpSKiCnWpZxi5KyyII1o78NHo/tS301BKhXd3L0lHw4Pxc3Zif9uPca98zdQWFJq9iwRqQaK\n",
              "UhGpcUkpZe+Q5haVckUHBan8ub+FNCd2ZChuLk58u/M4E+atp6BYYSpS1yhKRaRGJR74X5BeGejD\n",
              "rFF9qefmbPYssXNXd/Rl9ui+eLg6sXr3CcbNSSKvqMTsWSJShRSlIlJjEvZnMHp2InlFpfwlsKmC\n",
              "VCrlysCmzBkTRgM3Z35OzmD0R0nkFCpMReoKRamI1Ij4/RmMnp1EXlEp/YKaMnNUHzxcFaRSOeHt\n",
              "fZg7LhxPdxcSU04xYlYCmfnFZs8SkSqgKBWRahe3L4Mxs5PILy7lr8HNmDFSQSqXLtS/MQuiw/Gu\n",
              "58rG1LK/dOFMXpHZs0TkMilKRaRa/ZJ8kjEfJ5JfXMpVwc2IHRGqIJXL1r1NIxZFW2nSwI2tRzKJ\n",
              "nJFARk6h2bNE5DIoSkWk2vycfJKxc5IoKLZxdcdmTFeQShUKaeXF4hgrTRu6szMti6Gx8aRnF5g9\n",
              "S0QukaJURKrFT3tPMvbjsiC9ppOvglSqRXBzT5ZMsNLcy5296TkMnR7PsUyFqUhtpCgVkSq3dm/Z\n",
              "j+wpLLFxbSdfPhzeG3cXBalUjw7NGrJ0QgStG9Vj/8lcBk+P4/DpPLNniUglKUpFpEqt2XOCcXPW\n",
              "UVhi47rOvnygIJUa4O/TgCUTrPg1qU/qqTyGTI/nYEau2bNEpBIUpSJSZVbvTid67jqKSmz8LaQ5\n",
              "H0SFKkilxrRpXJ+lEyJo37QBR87kM2R6PPtO5Jg9S0QukqJURKrED7vTiZm3nqISG9eHNOf9Yb1x\n",
              "c9FLjNSsFt4eLJ5gJci3IceyChgyPZ49x7PNniUiF0GfMUTksv2wK50Jc8uC9IYuzXlPQSom8vX0\n",
              "YHGMlc4tvTiZU8jQ2Hh2HM0ye5aIXIA+a4jIZflu53EmzFtPUamNG7u2UJCKXfBp6M6i6HC6tfbm\n",
              "VG4RkTPi2XL4jNmzRORP6DOHiFyyb3cc5575ZUF6U7cWvBPZC1dnvayIfWhU340F0eH09mtEZn4x\n",
              "UTMSWH/wtNmzROQP6LOHiFySb3Yc594F6ykuNbi5W0veHqogFfvj5eHK3HHhhLVrQnZhCSNnJZCw\n",
              "P8PsWSJyHvoMIiKV9vX2Y9x3Nkhv6d6St4f2VJCK3Wro7sLHY/pyZaAPuUWljJqdyM/JJ82eJSK/\n",
              "oc8iIlIpq7Yd474FGyguNbi1RyveGtITFwWp2Ln6bi7MGtWXq4KbUVBsY8zHSfywO93sWSLyK5X+\n",
              "TLJq1Sr69OlD9+7dsVqtbN68GQDDMPjnP/9JcHAw3bp1o3///uW3SU9PZ8CAAQQFBdG1a1d+/PHH\n",
              "izomIvZl1bY0Hli4gRKbwW09WvHm4B4KUqk1PFydiR0ZynWdm1NUYmPC3PV8vf2Y2bNE5KxKfTY5\n",
              "ffo0UVFRzJkzhy1btjBlyhSioqIAeOedd9iyZQvbtm1j69atLFq0qPx2TzzxBFarlb179zJ79myG\n",
              "DRtGcXHxBY+JiP34cmsa9y/cSInNYGDPVkxVkEot5O7izIfDe3Nzt5YUldq4b8EGVm5JM3uWiAAu\n",
              "lbnyvn378PHxoUuXLgD069eP1NRUNmzYwJQpU/j+++9xc3MDoEWLFuW3W7p0KcnJyQD07duXVq1a\n",
              "sWbNGq677ro/PSYi9mHlljQeXLyRUpvBHb1a8/qgHjg7WcyeJXJJXJ2dzn4dtIV/bzrK/y3aQHFp\n",
              "Twb2am32NBGHVqm3OYKCgsjIyOCXX34BYMWKFWRnZ7Nt2zaOHz/O8uXLCQ8PJzw8nCVLlgCQkZFB\n",
              "cXFxhUgNCAggNTX1T4+dT2FhIVlZWRUupaWllX7QInLxvthytDxI71SQSh3h4uzEG4N7Mii0DTYD\n",
              "/r50E0vXHTJ7lohDq9Q7pd7e3ixbtoxJkyaRk5NDREQEISEhAJSUlJCfn09CQgIpKSlcccUVdOrU\n",
              "iTZt2lTZ2FdeeYXnnnuuwsesVmuV/f4iUtF/Nh/l4SWbKLUZ3NW7Da/d3V1BKnWGs5OFV+/qjpuL\n",
              "EwsSUnls2RaKS21EhfubPU3EIVX6C8L69+/PmjVrWL9+PW+88QZHjx7liiuuoGHDhgwfPhwoe7fz\n",
              "yiuvJCkpCR8fH1xcXDh27H9fTJ6SkoKfn9+fHjufSZMmkZmZWeESFhZW2YcgIhdh+aYjPHT2HdJB\n",
              "oQpSqZucnCy8OLArY64MAOCpz7fx0U8HzB0l4qAqHaVpaf/7gvAXXniBa665hsDAQCIjI1m1ahUA\n",
              "p06dIjExke7duwMwaNAgpk2bBkBSUhJHjhzhqquuuuCx33J3d8fLy6vCxdnZubIPQUQuYPmmI/x9\n",
              "ySZsBgzu04ZX71KQSt1lsViYfEsIE65qD8DzX+xg2pp9Jq8ScTyV+uN7gMmTJ7N27VpKSkqIiIhg\n",
              "1qxZQNkfrY8ZM4YPPvgAgMcff7z8XcxXX32VESNGEBQUhJubG/Pnz8fV1fWCx0Sk5n2+8TD/WLoZ\n",
              "mwFD+7bl5Tu64aQglTrOYrHwxIBOuLs48853e/nXl7soKrHx4LVBZk8TcRgWwzAMs0dcjokTJzJ1\n",
              "6lSzZ4jUCZ9tOMwjn5QFaWRYW14aqCAVx/Pe93t5/es9ADzQP5B/XB+MxaL/DkSqm37IoIgAsGz9\n",
              "Yf5RHqR+ClJxWA9cE8RTN3UG4L0fknnly13U8vdvRGoFRamI8Mm6Qzy6bDOGAVHhfrw0sKuCVBxa\n",
              "9F/b89xtZT+TO/bH/fxzxXZsNoWpSHVSlIo4uKXrDvHYp1swDBhu9eNFBakIAKOuCODlO7phscCc\n",
              "uIM89e+tClORaqQoFXFgS5JSefxskI6M8OeF27vqa+dEfmVYuB9T7u6BkwUWJR7i0WVbKFWYilQL\n",
              "RamIg1qcmMrjn27FMGD0FQE8d1sXBanIedwd2oY3h/TE2cnCpxsO8/clmygptZk9S6TOUZSKOKCF\n",
              "Cak88dlWoCxIn701REEq8idu79ma9yJ74eJkYcXmo/zfoo0UlShMRaqSolTEwSxIOMiTn5cF6Zgr\n",
              "FaQiF+vGbi2ZNjwUN2cnvtx2jHvnr6eguNTsWSJ1hqJUxIHMiz/IU59vA2DcX9ox+RYFqUhlXBfS\n",
              "nBmj+uDu4sR3u9KJnrtOYSpSRRSlIg5iXlwKz/y7LEij+7Xj6Zs7K0hFLsFVwc2YPbov9VydWbv3\n",
              "JGNmJ5FXVGL2LJFaT1Eq4gDm/JLCM8u3AxDz1/Y8eZOCVORyXBHYlLnjwmjo7kLc/gxGfZRIdkGx\n",
              "2bNEajVFqUgd9/HPB3h2RVmQTriqPZNu7KQgFakCfQOaMG9cGJ4eLiSlnGbErEQy8xWmIpdKUSpS\n",
              "h3300wH++Z8dANx7dQeeGKAgFalKvfwas3C8lUb1Xdl06AxRM+M5nVtk9iyRWklRKlJHzVy7n+e/\n",
              "KAvS+67uwGM3dFSQilSDbm28WRRtxaeBG9uOZBE5I56TOYVmzxKpdRSlInXQzLX7eXHlTgAe6B/I\n",
              "owpSkWrVuaUXi2OsNPN0Z9exbIbGxpOeVWD2LJFaRVEqUsfM+PF/QfrgNYH84/pgBalIDQhq7snS\n",
              "CRG09PYgOT2HIbHxpGXmmz1LpNZQlIrUIdPX7OOl/54N0muD+PvfFKQiNald0wYsnRBB60b1OHAy\n",
              "l8HT4zh0Ks/sWSK1gqJUpI74cPU+XvlyFwAPXxfERAWpiCnaNqnP0nsi8Pepz6FT+QyZHkfKyVyz\n",
              "Z4nYPUWpSB3wwepkXl1VFqR/vy6Yh68LNnmRiGNr3ageSydE0KFZA45mFjB4ehzJ6TlmzxKxa4pS\n",
              "kVru/R+SeW3VbgAm/i2Yh64LMnmRiAA09/JgcUwEHZt7kp5dyNDYOHYfyzZ7lojdUpSK1GLvfreX\n",
              "KV+VBekj1wfz4LUKUhF70szTnUUxVkJaenEyp4ihsXFsO5Jp9iwRu6QoFaml3vluL298sweAR2/o\n",
              "yAPXKEhF7FGTBm4sirbSo403p/OKGTYjns2Hzpg9S8TuKEpFaqG3vt3D1LNB+tiAjtzfP9DkRSLy\n",
              "Z7zruzJvfDih/o3JKighamYC61JOmT1LxK4oSkVqmTe/2cNb3+4F4IkbO3Hf1QpSkdrAy8OVuWPD\n",
              "sLZvQk5hCSM/SiRuX4bZs0TshqJUpJYwDIOp3+zh7e/KgvTJmzpxz1UdTF4lIpXRwN2F2aPD6BfU\n",
              "lLyiUsZ8nMjavSfMniViFxSlIrXAuSB952yQPnVTZ2L+qiAVqY3quTkzY2Qf+ndsRkGxjXFz1vHD\n",
              "rnSzZ4mYTlEqYucMw+D1r3fz7vfJADx9c2ei/9re5FUicjk8XJ2ZPqIP14c0p6jERsy8dXy1/ZjZ\n",
              "s0RMpSgVsWOGYTDlq928/8M+AJ65JYTx/RSkInWBm4sT70f15ubuLSkuNbhvwQb+s/mo2bNETKMo\n",
              "FbFThmHw6qrdfLC6LEifvTWEcX9pZ/IqEalKrs5OvD2kJ3f2ak2pzeChxRv5bMNhs2eJmEJRKmKH\n",
              "DMPgX1/uYtqasiB97rYujLlSQSpSF7k4OzFlUA+G9GmLzYB/fLKZJUmpZs8SqXGKUhE7YxgGr3y5\n",
              "i+k/7gfg+du7MOqKAHNHiUi1cnay8Mqd3Rhh9ccw4PFPtzIvLsXsWSI1SlEqYkcMw+CllTuJPRuk\n",
              "L9zehZERAeaOEpEa4eRk4fnbu5R/mc4zy7czc+1+k1eJ1BxFqYidMAyDF77YycyfDgDw4sCujFCQ\n",
              "ijgUi8XC0zd35t6ry37k24srd/LB6mSTV4nUDEWpiB0wDIPnv9jBRz+XBenLd3RjuNXf5FUiYgaL\n",
              "xcJjN3Tk4euCAHht1W7e+nYPhmGYvEykeilKRUxmGAbP/WcHs39OAeCVO7sxLNzP3FEiYiqLxcLD\n",
              "1wXz2ICOALz17V6mfLVbYSp1mqJUxESGYfDPFdv5+JcULBZ49a5uRIYpSEWkzH1XB/L0zZ0B+GD1\n",
              "Pl5cuVNhKnWWolTEJIZhMHn5dubEHSwL0ju7M6SvglREKhrfrz0v3N4FgFk/HWDy8u3YbApTqXsU\n",
              "pSImsNkMnlm+jXnxZ4P0ru4M7tvW7FkiYqdGRATwrzu7YbHAvPiDPPn5VkoVplLHKEpFapjNZvD0\n",
              "8m3Mj0/FYoEpd/dgcB8FqYj8uaFhfrwxqAdOFlicdIhHP9lMSanN7FkiVUZRKlKDbDaDp/69jYUJ\n",
              "ZUH6+t09uDu0jdmzRKSWuLN3G94e2gtnJwufbTzCw0s2UawwlTpCUSpSQ2w2gyc/38qixFScLDB1\n",
              "cA/uUpCKSCXd2qMV7w/rjauzhS+2pPHAwg0UlShMpfZTlIrUAJvNYNJnW1mcdOhskPbkjl4KUhG5\n",
              "NAO6tmD6iFDcXJz4avtx7pm/noLiUrNniVwWRalINbPZDB7/dAtL1pUF6ZtDejKwV2uzZ4lILXdN\n",
              "p+bMHNkHD1cnvt+VTvTcdeQXKUyl9lKUilSjUpvBY59u4ZP1h3GywFtDe3F7TwWpiFSNvwY3Y/bo\n",
              "MOq7ObN270nGfJxIbmGJ2bNELomiVKSalNoMHlu2hWXrD+PsZOHtob24rUcrs2eJSB0T0cGHuWPD\n",
              "aOjuQvz+U4z8KJGsgmKzZ4lUmqJUpBqU2gwe/WQzn24oC9J3hvbiVgWpiFSTPgFNmD8+HC8PF9Yf\n",
              "PM2ImQlk5ilMpXZRlIpUsVKbwSOfbOazjUdwdrLwbmQvbu7e0uxZIlLH9WzbiIXRVhrXd2Xz4UyG\n",
              "zYznVG6R2bNELpqiVKQKlZTamLh0E59vPIKLk4X3IntxUzcFqYjUjK6tvVkUY6VpQze2H80iMjae\n",
              "E9mFZs8SuSiKUpEqUhakm1m+6WhZkA7rzY0KUhGpYZ1aeLE4JgJfT3d2H89maGwcx7MKzJ4lckGK\n",
              "UpEqUFJq4+9LN7Nic1mQvh/VmwFdW5g9S0QcVKBvQ5ZOiKCVtwf7TuQyeHocR87kmz1L5E8pSkUu\n",
              "U0mpjYeWbOI/m4/i6mzhg6je3NBFQSoi5gpo2oAlEyJo26QeBzPyGDI9jkOn8syeJfKHFKUil6G4\n",
              "1MZDizexcksars4WPowK5XoFqYjYibZN6rMkJoJ2TRtw+HQ+g6fHceBkrtmzRM5LUSpyiYpLbTy4\n",
              "aCMrt6bh5uzEtOGhXBfS3OxZIiIVtGpUjyUxVgJ9G5KWWcDg6XHsPZ5t9iyR31GUilyC4lIb/7dw\n",
              "I19uO1YWpCN6c21nBamI2CdfLw8Wx1jp1MKTE9mFDI2NZ2daltmzRCpQlIpUUlGJjQcWbmDV9rIg\n",
              "nT4ilGs6KUhFxL41bejOomgrXVt7kZFbROSMeLYdyTR7lki5SkfpqlWr6NOnD927d8dqtbJ58+YK\n",
              "x7///nucnZ156623yj+Wl5dHZGQkgYGBBAcHs2zZsos6JmJvikps3L9wA19tP46bixOxI0Pp38nX\n",
              "7FkiIhelcQM3Foy30rNtI87kFRM5I56NqafNniUCVDJKT58+TVRUFHPmzGHLli1MmTKFqKio8uOZ\n",
              "mZk88cQT3HTTTRVu9/rrr+Pu7k5ycjJfffUV9913HxkZGRc8JmJPikps3LdgA9/sKAvSGSP7cHVH\n",
              "BamI1C7e9VyZNy6MvgGNyS4oYcSsRJJSTpk9S6RyUbpv3z58fHzo0qULAP369SM1NZUNGzYA8MAD\n",
              "D/D000/j4+NT4XZLlizhnnvuAaBdu3ZcffXVfP755xc8JmIvCktKuW/Ber7deRx3FydmjuzDVcHN\n",
              "zJ4lInJJPD1c+XhMGBHtfcgpLGHkrER+ST5p9ixxcJWK0qCgIDIyMvjll18AWLFiBdnZ2aSkpLBs\n",
              "2TKcnJy47bbbfne71NRU/P39y38dEBBAamrqBY/9VmFhIVlZWRUupaWllXkIIpVWWFLKvfM38O3O\n",
              "9LIgHdWHvypIRaSWa+DuwuwxfflrcDPyi0sZ83ESa/acMHuWOLBKRam3tzfLli1j0qRJhIaG8vXX\n",
              "XxMSEkJOTg4vvvgib7/9dnXtBOCVV17B29u7wiUxMbFa71McW0FxKffMW8/3u9LxcHXio9F96Rek\n",
              "IBWRusHD1ZnYEaFc28mXwhIb0XPW8d3O42bPEgdV6W906t+/P2vWrGH9+vW88cYbHD16lNOnT5OW\n",
              "lkbPnj0JCAhg2bJlPP/88zz11FMA+Pn5cfDgwfLfIyUlBT8/vwse+61JkyaRmZlZ4RIWFlbZhyBy\n",
              "UQqKS7ln/np+2H2iLEhH9eXKwKZmzxIRqVIers58ODyUAV1aUFRqY8K89azalmb2LHFAlY7StLT/\n",
              "PVFfeOEFrrnmGh566CGOHz9OSkoKKSkp3H333UyePJmXXnoJgEGDBjFt2jQADhw4wOrVqxk4cOAF\n",
              "j/2Wu7s7Xl5eFS7Ozs6VfQgiF1RQXMqEeetZfS5IR/flCgWpiNRRbi5OvDesF7f2aEWJzeD+hRtZ\n",
              "sfmo2bPEwVQ6SidPnkynTp0IDAzk4MGDzJo164K3efTRR8nPz6dDhw7ccMMNvPfeezRt2vSCx0TM\n",
              "UFBcSvTcdazZc4J6rs7MHh3GFR30nBSRus3F2Ym3hvTkrt5tKLUZPLx4I8vWHzZ7ljgQi2EYhtkj\n",
              "LsfEiROZOnWq2TOkjjgXpGv3niwL0jF9sbb3ufANRUTqCJvN4Kl/b2VR4iEsFnj5jm5Ehp3/y+pE\n",
              "qpL+RieRs/KLShk/pyxI67s587GCVEQckJOThZfv6MaoCH8MAyZ9tpU5v6SYPUscgKJUhLNBOjeJ\n",
              "n5JP0sDNmTljwwhXkIqIg7JYLPzzti5E92sHwLMrtjPjx/0mr5K6TlEqDi+vqISxHyfxc3JGeZD2\n",
              "DWhi9iwREVNZLBaevKkzD/QPBOCl/+7k/R+STV4ldZmiVBzauSCN259BQ3cX5o4Lo4+CVEQEKAvT\n",
              "R27oyMS/BQMw5avdTP16N7X821HETilKxWHlFZUwZnYS8ftP0dDdhTljwwj1V5CKiPzWg9cG8cSN\n",
              "nQB45/tk/rVql8JUqpyiVBxSbmEJo2cnkXDgFJ5n3yEN9W9s9iwREbt1z1UdmHxLCADT1+zn+S92\n",
              "KEylSilKxeHkFpa9Q5r4qyDt7acgFRG5kLF/aceLA7sCMPvnFJ7+9zZsNoWpVA1FqTiUnMISRs9O\n",
              "JDHlFJ4eLswbH04vBamIyEUbbvXntbu7Y7HAgoRUnvhsC6UKU6kCilJxGNkFxYz6KJGklNN4ergw\n",
              "f1w4Pds2MnuWiEitM7hPW94c3BMnCyxdd5h/LN1ESanN7FlSyylKxSGcC9L1B0/j5eHCgvHh9FCQ\n",
              "iohcsoG9WvNuZG9cnCz8e9NRHlq8iWKFqVwGRanUeVkFxYz8KJENqWfwrufKwmgr3ds0MnuWiEit\n",
              "d3P3lnwQ1RtXZwsrt6Zx34INFJaUmj1LailFqdRpWQXFjJyVyMazQbpgfDhdW3ubPUtEpM64vksL\n",
              "Ykf2wc3FiW92HGfCvPUUFCtMpfIUpVJnZeYXM2JWIpsOnaFRfQWpiEh16d/Rl9mj++Lh6sTq3ScY\n",
              "P2cdeUUlZs+SWkZRKnVSZn4xI2clsPnQGRrXd2XheKuCVESkGl0Z2JQ5Y8Jo4ObMT8knGT07iZxC\n",
              "halcPEWp1DmZecWMmJXA5sOZNK7vyoLxVkJaeZk9S0Skzgtv78PcceF4uruQeOAUI2clkFVQbPYs\n",
              "qSUUpVKnZOYVM3xWAlsOZ9KkgRsLoxWkIiI1KdS/MQuiw/Gu58qG1DMMn5nAmbwis2dJLaAolTrj\n",
              "TF4RUbPi2XokE58GbiyKttK5pYJURKSmdW/TiIXR4TRp4MaWw5lEzkggI6fQ7Fli5xSlUieczi1i\n",
              "2IwEth3JwufsO6QdW3iaPUtExGF1aeXN4hgrTRu6szMti8gZ8aRnF5g9S+yYolRqvdO5RUTNTGBH\n",
              "WhZNG7qxKEZBKiJiD4Kbe7JkgpXmXu7sOZ7D0OnxHMtUmMr5KUqlVjuVW8Sw8iB1Z1G0leDmClIR\n",
              "EXvRoVlDlk6IoHWjeuw/mcvg6XEcPp1n9iyxQ4pSqbUycgoZNiOenWeDdHFMOEEKUhERu+Pv04Al\n",
              "E6z4NalP6qk8hkyP52BGrtmzxM4oSqVWysgpJGpmAruOZdPM053FMVYCfRWkIiL2qk3j+iyZYKV9\n",
              "0wYcOZPPkOnx7DuRY/YssSOKUql1TuYUMmxGWZD6lgdpQ7NniYjIBbT0rsfiCVaCfBtyLKuAIdPj\n",
              "2XM82+xZYicUpVKrnMguJDI2nt3Hs2nuVRakHZopSEVEagtfTw8Wx5T9yL6TOYUMjY1nx9Ess2eJ\n",
              "HVCUSq1xIrvsa0j3pufQwsuDxTERtFeQiojUOj4N3VkUHU631t6cyi0ickY8Ww6fMXuWmExRKrVC\n",
              "enYBkRWC1Eq7pg3MniUiIpeoUX03FkSH08uvEZn5xUTNSGD9wdNmzxITKUrF7qVnFRAZG09yeg4t\n",
              "vcuCNEBBKiJS63l5uDJvXDhhAU3ILixh5KwEEvZnmD1LTKIoFbuWnlXA0Bnx7DuRSysFqYhIndPQ\n",
              "3YWPx/blig4+5BaVMnp2Ej8nnzR7lphAUSp263hWAUNj49l/IpfWjeqxOCYCfx8FqYhIXVPfzYWP\n",
              "RvflquBm5BeXMvbjJFbvTjd7ltQwRanYpWOZZ4P05LkgteLnU9/sWSIiUk08XJ2JHRnKdZ2bU1hi\n",
              "I2buer7ZcdzsWVKDFKVid9Iy8xkaG8eBXwVp2yYKUhGRus7dxZkPh/fmpm4tKCq1ce/89fx3a5rZ\n",
              "s6SGKErFrhw9k8/Q2HhSMvJo07geSyYoSEVEHImrsxPvDO3F7T1bUWIzeGDhBpZvOmL2LKkBilKx\n",
              "G0fOBunBjDzaNil7h7RNYwWpiIijcXF2Yurgntwd2gabAQ8v2cTSdYfMniXVTFEqdqEsSONIPZWH\n",
              "X5P6LI6JUJCKiDgwZycLr93VnWHhfhgGPLZsCwsSDpo9S6qRolRMd/h0HkNj4zh0Kh9/n/osjrHS\n",
              "ulE9s2eJiIjJnJwsvDSwK2OuDADgqc+3MfvnA+aOkmqjKBVTHTqVx9DY+ApB2kpBKiIiZ1ksFibf\n",
              "EsKEq9oD8Nx/djB9zT6TV0l1UJSKac4F6eHT+bRr2oAlMRG09FaQiohIRRaLhScGdOLBawIBeOXL\n",
              "Xbzz3V6TV0lVU5SKKc4F6ZEzZUG6KNpKC28Ps2eJiIidslgsTLy+I49cHwzA1G/28PpXuzEMw+Rl\n",
              "UlUUpVLjUjPyGDI9jiNn8mnftAGLYxSkIiJycR64Jognb+oEwHs/JPPKl7sUpnWEolRq1MGMXIbE\n",
              "xnE0s4D2zcqCtLmXglRERC5ezF878NxtXQCI/XE/z/1nh8K0DlCUSo1JOZnL0Nh40jIL6HA2SH0V\n",
              "pCIicglGXRHAy3d0w2KBj39J4cnPt2GzKUxrM0Wp1IgDvwrSQN+GLIqx4uupIBURkUs3LNyPKXf3\n",
              "wMkCixJTeXTZFkoVprWWolSq3f4TOQyNjeNYVgFBvg1ZFK0gFRGRqnF3aBveHNITZycLn244zN+X\n",
              "bKKk1Gb2LLkEilKpVvtO5DA0Np7jWYUENy97h7SZp7vZs0REpA65vWdr3ovshYuThRWbj/J/izZS\n",
              "VKIwrW0UpVJtktNziIyNJz27kI7NPVkYbaVpQwWpiIhUvRu7tWTa8FDcnJ34ctsx7luwnsKSUrNn\n",
              "SSUoSqVaJKfnEDmjLEg7tfBkYXS4glRERKrVdSHNmTGqD+4uTny7M53ouespKFaY1haKUqlyyenZ\n",
              "DI2N50R5kFrxUZCKiEgNuCq4GbNH96WeqzM/7jnBmNlJ5BWVmD1LLoKiVKrU3uNlQXoyp5DOLb1Y\n",
              "GG2lSQM3s2eJiIgDuSKwKXPGhtHAzZm4/RmM+iiR7IJis2fJBShKpcrsKQ/SIkJaerFwfLiCVERE\n",
              "TBHWrgnzxofj6eFCUsppRsxKJDNfYWrPFKVSJXYfyyYyNp6M3CK6tPJiYXQ4jRWkIiJiot5+jVk4\n",
              "3kqj+q5sOnSGqJnxnM4tMnuW/AFFqVy2XceyiJxRFqRdW3uxYHw4jeorSEVExHzd2nizKNqKTwM3\n",
              "th0p+3x1MqfQ7FlyHopSuSw707KIjI3nVG4R3Vp7s2CcVUEqIiJ2pXNLLxaf/TnZu46VfalZelaB\n",
              "2bPkNxSlcsl2HM1i2Ix4TucV072NN/PHh+Nd39XsWSIiIr8T1NyTJTFWWnh5kJyew5DYeNIy882e\n",
              "Jb+iKJVLsv1oJsNmlgVpjzbezBsXjnc9BamIiNiv9s0asnRCBK0b1ePAyVwGT4/j0Kk8s2fJWZWO\n",
              "0lWrVtGnTx+6d++O1Wpl8+bNAIwZM4bg4GB69OjBlVdeSVJSUvlt8vLyiIyMJDAwkODgYJYtW3ZR\n",
              "x8Q+bTuSybAZCZzJK6Zn20bMG68gFRGR2sHPpz5L74nA36c+h07lMzQ2npSTuWbPEioZpadPnyYq\n",
              "Koo5c+awZcsWpkyZQlRUFAB33HEHO3bsYPPmzUyaNIlBgwaV3+7111/H3d2d5ORkvvrqK+677z4y\n",
              "MjIueEzsz7YjmUTNTCAzv5hefo2YOy4MLw8FqYiI1B6tG9Vj6YQI2jdrwJEz+QyJjSM5PcfsWQ6v\n",
              "UlG6b98+fHx86NKlCwD9+vUjNTWVDRs2cNttt+Hi4gKA1WrlyJEjlJSU/Q0KS5Ys4Z577gGgXbt2\n",
              "XH311Xz++ecXPCb2ZevhTIbNiCczv5jefo2YO1ZBKiIitVNzLw+WxETQsbknx7MKGRobx+5j2WbP\n",
              "cmiVitKgoCAyMjL45ZdfAFixYgXZ2dmkpKRUuN7bb7/NTTfdVB6pqamp+Pv7lx8PCAggNTX1gsd+\n",
              "q7CwkKysrAqX0lL9nbY1Ycvhsp/vllVQQqh/Y+aMDcNTQSoiIrVYM093FsVYCWnpxcmcIobGxrHt\n",
              "SKbZsxxWpaLU29ubZcuWMWnSJEJDQ/n6668JCQkpj0+A+fPns3TpUmJjY6t87CuvvIK3t3eFS2Ji\n",
              "YpXfj1S0+dAZomYmkFVQQh8FqYiI1CFNGrixMDqcHm28OZ1XzLAZ8Ww+dMbsWQ6p0t/o1L9/f9as\n",
              "WcP69et54403OHr0KCEhIUDZH8U/99xzfPPNNzRv3rz8Nn5+fhw8eLD81ykpKfj5+V3w2G9NmjSJ\n",
              "zMzMCpewsLDKPgSphI2ppxk+M4HsghL6BjTm47FhNHR3ufANRUREaolG9d2YNz6cUP/GZBWUMHxm\n",
              "AusPnjJ7lsOpdJSmpaWV//MLL7zANddcQ2BgIEuXLuXpp5/m22+//V1UDho0iGnTpgFw4MABVq9e\n",
              "zcCBAy947Lfc3d3x8vKqcHF2dq7sQ5CLtCH1NCNnJZJdWEJYQBM+HqMgFRGRusnLw5W5Y8MIb9eE\n",
              "7MISRsxKJH6/vvG6JlU6SidPnkynTp0IDAzk4MGDzJo1C4CoqCgKCgq4/fbb6dmzJz179iz/LvpH\n",
              "H32U/Px8OnTowA033MB7771H06ZNL3hMzLP+4K+CtF0TZo/pSwMFqYiI1GEN3F34eEwY/YKakldU\n",
              "yujZify096TZsxyGxTAMw+wRl2PixIlMnTrV7Bl1yvqDpxj1URI5hSVY2zfho9F9qe+mIBUREcdQ\n",
              "UFzKvfPX88PuE7i5ODF9eCj9O/maPavO09/oJBWsSznFyFmJ5BSWENHeR0EqIiIOx8PVmWkjQrk+\n",
              "pDlFJTZi5q3jq+3HzJ5V5ylKpVxSyilGfZRIblEpV3RQkIqIiONyd3Hm/aje3Ny9JcWlBvcv2MAX\n",
              "W46aPatOU5QKAIkH/hekVwb6MGtUX+q56ZvIRETEcbk6O/H2kJ7c2as1JTaDBxdt5PONh82eVWcp\n",
              "SoWE/RmMnp1IXlEp/YKaKkhFRETOcnF2YsqgHgzp0xabAROXbmZp0iGzZ9VJilIHF78/g9Gzk8qD\n",
              "dMbIPni4KkhFRETOcXay8Mqd3Rhu9cMw4LFPtzAv/uCFbyiVoih1YL/sO8mY2UnkF5fy1+BmClIR\n",
              "EZE/4ORk4YXbuzL2ynYAPPPvbcz66YDJq+oWRamD+iX5JGM/LgvSq4KbETsiVEEqIiLyJywWC8/c\n",
              "0pl7r+4AwAtf7ODD1ftMXlV3KEod0M/JJxk7J4mCYhv9OzZjuoJURETkolgsFh67oSMPXxcEwKur\n",
              "dvHWt3uo5T/23S4oSh3MT3vL3iEtKLZxTSdfpilIRUREKsVisfDwdcE8ekNHAN76di9TvtqtML1M\n",
              "ilIH8uOeE4ybk0RhiY1rO/ny4fDeuLsoSEVERC7F/f0DefrmzgB8sHofL63cqTC9DIpSB7FmzwnG\n",
              "z11HYYmN6zr78oGCVERE5LKN79ee52/vAsDMnw7w7Irt2GwK00uhKHUAq3enEz13HUUlNv4W0pwP\n",
              "okIVpCIiIlVkZEQA/7qzGxYLzI07yJOfb1WYXgJFaR33w+50Yuaup6jExvUhzXl/WG/cXPSvXURE\n",
              "pCoNDfPjjUE9cLLA4qRDPPLJZkpKbWbPqlVUJ3XYD7vSmTB3PUWlNm7o0pz3oxSkIiIi1eXO3m14\n",
              "e2gvnJ0sfLbxCA8v2USxwvSiqVDqqO92HmfCvLIgvbFrC94b1htXZ/3rFhERqU639mjF+8N64+ps\n",
              "4YstaTywcANFJQrTi6FKqYO+3XGce+aXBelN3VrwTmQvBamIiEgNGdC1BdNHhOLm4sRX28s+JxcU\n",
              "l5o9y+6pVOqYb3Yc594F6ykuNbi5W0veHqogFRERqWnXdGrOzJF98HB14vtdZd9wnF+kMP0zqpU6\n",
              "5Kvtx7jvbJDe0r0lbw/tqSAVERExyV+DmzF7dBj13ZxZu/ckYz5OJLewxOxZdkvFUkes2naM+xds\n",
              "oLjU4NYerXhrSE9cFKQiIiKmiujgw9yxYTR0dyF+/ylGfZRIdkGx2bPskqqlDli1rewLqUtsBrf3\n",
              "bMWbg3soSEVEROxEn4AmzB8fjpeHC+sOnmb4rEQy8xSmv6VyqeW+3JrG/Qs3UmIzGNizFW8MUpCK\n",
              "iIjYm55tG7Ew2krj+q5sPnSGYTPjOZVbZPYsu6J6qcVWbknjgUUbKbUZ3NmrNW8M1h/Zi4iI2Kuu\n",
              "rb1ZFGOlaUM3th/NYtiMeE5kF5o9y26oYGqpL7Yc5cHFZ4O0d2umDOqBs5PF7FkiIiLyJzq18GJx\n",
              "TAS+nu7sOpbN0Ng4jmcVmD3LLihKa6H/bD7KQ4s3UWozuKt3G6bcrSAVERGpLQJ9G7J0QgStvD3Y\n",
              "dyKXIdPjOHom3+xZplOU1jLLNx3hobPvkA4KbcNrd3dXkIqIiNQyAU0bsGRCBG0a1yMlI4/B0+M4\n",
              "dCrP7FmmUpTWIss3HeHvSzZhM2Bwnza8epeCVEREpLZq26Q+SydEEOBTn8On8xk8PY4DJ3PNnmUa\n",
              "RWkt8fnGw+VBOrRvW/51Z3ecFKQiIiK1WqtG9Vg6IYJA34akZRYwZHocyenZZs8yhaK0Fvhsw2H+\n",
              "sXQzNgMiw9ry8h3dFKQiIiJ1hK+XB4tjrHRq4Ul6diFDpsezMy3L7Fk1TlFq55atP8w/PikL0mHh\n",
              "frw0UEEqIiJS1zRt6M6iaCtdW3uRkVtE5Ix4th3JNHtWjVKU2rFP1h3i0WWbMQyICvfjxdu7KkhF\n",
              "RETqqMYN3Fgw3kqPto04k1fMsBnxbEw9bfasGqMotVNL1x3isU+3YBgwwurPiwMVpCIiInWddz1X\n",
              "5o8Lo49/Y7IKShgxK5GklFNmz6oRilI7tCQplcfPBunICH+ev70LFouCVERExBF4ergyZ2wYEe19\n",
              "yCksYdRHifyy76TZs6qdotTOLE5M5fFPt2IYMPqKAJ67TUEqIiLiaBq4u/DR6L70C2pKXlEpY2Yn\n",
              "sWbPCbNnVStFqR1ZmJDKE59tBWDMlQE8e2uIglRERMRB1XNzZsbIPlzbyZfCEhvRc9bx3c7jZs+q\n",
              "NopSO7Eg4SBPfl4WpGOvbMfkWxSkIiIijs7D1ZkPh4cyoEsLikpt3DN/Pau2pZk9q1ooSu3AvPiD\n",
              "PPX5NgDG/aUdz9zSWUEqIiIiALi5OPHusF7c2qMVxaUG9y/cyIrNR82eVeUUpSabF5fCM/8uC9Lo\n",
              "fu14+mYFqYiIiFTk6uzEW0N6clfvNpTaDB5evJFP1x82e1aVUpSaaM4vKTyzfDsAE/7anidvUpCK\n",
              "iIjI+Tk7WZhyd3ciw9piM+CRZZtZlJhq9qwqoyg1ycc/H+DZFWeD9Kr2PHFjJwWpiIiI/CknJwsv\n",
              "DezGqAh/DAMmfbaVuXEpZs+qEopSE3z00wH++Z8dANx7dQeeGKAgFRERkYvj5GThn7d1IbpfOwAm\n",
              "L9/OzLX7TV51+RSlNWzm2v08/0VZkN7fvwOP3dBRQSoiIiKVYrFYePKmztzfvwMAL67cyfs/JJu8\n",
              "6vIoSmvQzLX7eXHlTgAe6B/II9crSEVEROTSWCwWHr2hExP/FgzAlK92M/WbPRiGYfKyS6MorSEz\n",
              "fvxfkD54TSD/uD5YQSoiIiKX7cFrg3jixk4AvPPdXl5dtbtWhqmitAZMX7OPl/5bFqQPXRvERL1D\n",
              "KiIiIlXonqs6MPmWEACmrdnH81/sqHVhqiitZh+u3scrX+4C4OHrgvj72bfYRURERKrS2L+048WB\n",
              "XQGY/XMKzyzfhs1We8JUUVqNPlidzKuryoL079cF8/B1ClIRERGpPsOt/rx2V3csFpgfn8oTn22h\n",
              "tJaEqaK0mrz/QzKvrdoNwD/+FsxD1wWZvEhEREQcweC+bXlzcE+cLLB03WEe+WQzJaU2s2ddkKK0\n",
              "Grz73V6mfFUWpI9cH8z/XasgFRERkZozsFdr3o3sjYuThc83HuGhxZsotvMwVZRWsXe+28sb3+wB\n",
              "4NEbOvLANQpSERERqXk3d2/JB1G9cXW2sHJrGvct2EBhSanZs/6QorQKvfXtHqaeDdLHB3Ti/v6B\n",
              "Ji8SERERR3Z9lxbEjuyDm4sT3+w4zoR56ykots8wVZRWkTe/2cNb3+4F4IkbO3Hv1R1MXiQiIiIC\n",
              "/Tv68tGovni4OrF69wnGz1lHfpH9hami9DIZhsHUb/bw9ndlQfrkTZ245yoFqYiIiNiPvwQ1Zc6Y\n",
              "MBq4OfNT8klGzU4kt7DE7FkVKEovw7kgfedskD59c2di/qogFREREfsT3t6HuePC8XR3oaG7C67O\n",
              "9pWBLmYPqK0Mw+D1r3fz/g/7gLIgHd+vvcmrRERERP5YqH9jPr3vCvya1MfNxb6itNJrVq1aRZ8+\n",
              "fejevTtWq5XNmzcDkJ6ezoABAwgKCqJr1678+OOP5be51GP2yjAMpnz1vyCdfEuIglRERERqheDm\n",
              "nni4Ops943cq9U7p6dOniYqK4scff6RLly6sXbuWqKgotm3bxhNPPIHVamXVqlUkJSVxxx13cODA\n",
              "AVxdXS/5mD0yDINXV+1m2pqyIH321hDGXNnO5FUiIiIitVulonTfvn34+PjQpUsXAPr160dqaiob\n",
              "Nmxg6dKlJCcnA9C3b19atWrFmjVruO666y75mL0xDIN/fbmL6T/uB+C527ow6ooAc0eJiIiI1AGV\n",
              "+uP7oKAgMjIy+OWXXwBYsWIF2dnZHDhwgOLiYlq0aFF+3YCAAFJTU8nIyLikY+dTWFhIVlZWhUtp\n",
              "ac38SAPDMHjlV0H6/O0KUhEREZGqUqko9fb2ZtmyZUyaNInQ0FC+/vprQkJCyMnJqa59Fbzyyit4\n",
              "e3tXuCQmJtbIfadnF/LJukMAvDCwKyMjAmrkfkVEREQcQaW/+75///70798fKHvnskWLFlx55ZW4\n",
              "uLhw7Nix8nc9U1JS8PPzw8fH55KOnc+kSZOYOHFihY8988wzlX0Il6S5lwcLo61sPZzJ4L5ta+Q+\n",
              "RURERBxFpb/7Pi0trfyfX3jhBa655hoCAwMZNGgQ06ZNAyApKYkjR45w1VVXAVzysd9yd3fHy8ur\n",
              "wsXZuea+e6xzSy8FqYiIiEg1qPQ7pZMnT2bt2rWUlJQQERHBrFmzAHj11VcZMWIEQUFBuLm5MX/+\n",
              "/PLvoL/UYyIiIiLiGCyGYRhmj7gcEydOZOrUqWbPEBEREZHLYF8/yl9EREREHJKiVERERERMpygV\n",
              "EREREdMpSkVERETEdIpSERERETGdolRERERETKcoFRERERHTKUpFRERExHSKUhERERExXa3/G53u\n",
              "vPNOAgICauS+SktLSUxMJCwsDGdn5xq5z9pC5+b8dF7+mM7N+em8nJ/Oyx/TuTk/nZc/Zsa58ff3\n",
              "56GHHvrT69T6KK1JWVlZeHt7k5mZiZeXl9lz7IrOzfnpvPwxnZvz03k5P52XP6Zzc346L3/MXs+N\n",
              "/vheREREREynKBURERER0ylKRURERMR0itJKcHd359lnn8Xd3d3sKXZH5+b8dF7+mM7N+em8nJ/O\n",
              "yx/TuTk/nZc/Zq/nRt/oJCIiIiKm0zulIiIiImI6RamIiIiImE5RKiIiIiKmU5SetXfvXq644gqC\n",
              "g4Pp27cv27dvP+/1Zs2aRVBQEB06dCA6Opri4uKLOlZbXcx5+f777wkLCyMkJIQuXbrw2GOPYbPZ\n",
              "AEhJScHZ2ZmePXuWX/bt21fTD6NaXMy5Wb16NfXq1avw+PPz88uPO+pzZvbs2RXOSdOmTbnzzjuB\n",
              "uvucefDBBwkICMBisbBp06Y/vJ6jvcZczHlx1NeYizk3jvgaczHnxRFfYwoKChg4cCDBwcH06NGD\n",
              "v/3tbyQnJ5/3ul988QWdOnUiKCiIO++8k6ysrIs6Vu0MMQzDMPr372/Mnj3bMAzD+OSTT4w+ffr8\n",
              "7jr79+83WrZsaaSlpRk2m8249dZbjffee++Cx2qzizkvGzZsMPbt22cYhmHk5+cbV155ZfltDhw4\n",
              "YHh7e9fQ2pp1Mefmhx9+MHr06HHe2zvyc+a3unTpYixbtswwjLr7nFmzZo1x6NAhw9/f39i4ceN5\n",
              "r+OIrzEXc14c9TXmYs6NI77GXMx5+S1HeI3Jz883Vq5cadhsNsMwDOPdd981rrrqqt9dLzs72/D1\n",
              "9TV27txpGIZh3H///cYjjzxywWM1QVFqGMbx48cNT09Po7i42DAMw7DZbEbz5s2NvXv3Vrjea6+9\n",
              "ZkyYMKH81ytXrjSuvPLKCx6rrS72vPzW/fffbzz77LOGYdTd//gv9tz82ScMPWfKxMfHG82aNTOK\n",
              "iooMw6i7z5lz/uwTqaO9xvxaZQLDEV5jfu1So1TPmTKO9hpzTlJSkuHv7/+7jy9dutS44YYbyn+9\n",
              "fft2o3Xr1hc8VhP0x/fAoUOHaNmyJS4uLgBYLBb8/PxITU2tcL3U1FT8/f3Lfx0QEFB+nT87Vltd\n",
              "7Hn5tWPHjrFs2TJuueWW8o/l5ubSt29fevfuzfPPP09paWm1b69ulTk3+/bto3fv3vTt25cPPvig\n",
              "/ON6zpSZNWsWI0aMwNXVtfxjdfE5czEc7TXmUjjKa0xlONJrzKVw1NeYt99+m9tvv/13Hz/f8yIt\n",
              "LY2SkpI/PVYTXGrkXsQhZGVlceutt/LYY4/Rp08fAFq2bMmRI0fw9fXl1KlTDBkyhDfeeIPHHnvM\n",
              "5LU1o3fv3hw+fBhvb28OHz7MTTfdRNOmTRk8eLDZ0+xCbm4uixcvJj4+vvxjjv6ckT+m15jf02vM\n",
              "n3PU15iXX36Z5ORkvvvuO7OnVIreKQXatm1b4f8EDMMgNTUVPz+/Ctfz8/Pj4MGD5b9OSUkpv86f\n",
              "HautLva8AGRnZzNgwABuv/12Jk6cWP5xd3d3fH19AWjSpAljx45l7dq1NfMAqtHFnhsvLy+8vb0B\n",
              "aNOmDZGRkeWP39GfMwCffPIJXbp0ISQkpPxjdfU5czEc7TWmMhztNeZiOdprTGU54mvM66+/zmef\n",
              "fcaXX35J/fr1f3f8fM+Lc3/C9WfHaoKiFPD19aV3797Mnz8fgE8//ZQ2bdoQGBhY4Xp33XUXK1as\n",
              "4NixYxiGwbRp0xg6dOgFj9VWF3tecnJyGDBgAAMGDODpp5+ucCw9Pb38uz0LCwv57LPP6NWrV808\n",
              "gGp0secmLS2t/LuEs7Oz+eKLL8ofvyM/Z86ZNWsW48aNq/CxuvqcuRiO9hpzsRzxNeZiOdprTGU5\n",
              "2mvM1KlTWbRoEd988w2NGjU673UGDBjAhg0b2LVrFwAffPBB+fPiz47ViBr76lU7t2vXLsNqtRpB\n",
              "QUFGaGiosWXLFsMwDGPcuHHG8uXLy68XGxtrtG/f3mjfvr0xduzY8i+cvtCx2upizsuLL75ouLi4\n",
              "GD169Ci/vPjii4ZhGMann35qdOnSxejevbsREhJiPPDAA0ZBQYFpj6cqXcy5effdd42QkJDyx//s\n",
              "s8+Wf2ekYTjuc+bc9Ro2bGhkZWVVuH1dfc7ExMQYrVu3NpydnQ1fX1+jQ4cOhmHoNeZizoujvsZc\n",
              "zLlxxNeYi/1vydFeYw4dOmQARvv27cv/OwkLCzMMwzCeeeYZ48MPPyy/7vLly42OHTsaHTp0MG6/\n",
              "/XbjzJkzF3WsulkMwzBqLoFFRERERH5Pf3wvIiIiIqZTlIqIiIiI6RSlIiIiImI6RamIiIiImE5R\n",
              "KiIiIiKmU5SKiIiIiOkUpSIiIiJiOkWpiIiIiJhOUSoiIiIiplOUioiIiIjpFKUiIiIiYrr/B2sq\n",
              "F8XPT80HAAAAAElFTkSuQmCC\n",
              "\">\n",
              "      </div>\n",
              "      <script type=\"text/javascript\">\n",
              "        (() => {\n",
              "          const chartElement = document.getElementById(\"chart-c996f9d6-ad19-4640-9040-74326a704702\");\n",
              "          async function getCodeForChartHandler(event) {\n",
              "            const chartCodeResponse =  await google.colab.kernel.invokeFunction(\n",
              "                'getCodeForChart', [\"chart-c996f9d6-ad19-4640-9040-74326a704702\"], {});\n",
              "            const responseJson = chartCodeResponse.data['application/json'];\n",
              "            await google.colab.notebook.addCell(responseJson.code, 'code');\n",
              "          }\n",
              "          chartElement.onclick = getCodeForChartHandler;\n",
              "        })();\n",
              "      </script>\n",
              "      <style>\n",
              "        .colab-quickchart-chart-with-code  {\n",
              "            display: block;\n",
              "            float: left;\n",
              "            border: 1px solid transparent;\n",
              "        }\n",
              "\n",
              "        .colab-quickchart-chart-with-code:hover {\n",
              "            cursor: pointer;\n",
              "            border: 1px solid #aaa;\n",
              "        }\n",
              "      </style>"
            ]
          },
          "metadata": {}
        },
        {
          "output_type": "display_data",
          "data": {
            "text/plain": [
              "<google.colab._quickchart_helpers.SectionTitle at 0x7ebc5ad647c0>"
            ],
            "text/html": [
              "<h4 class=\"colab-quickchart-section-title\">Faceted distributions</h4>\n",
              "<style>\n",
              "  .colab-quickchart-section-title {\n",
              "      clear: both;\n",
              "  }\n",
              "</style>"
            ]
          },
          "metadata": {}
        },
        {
          "output_type": "stream",
          "name": "stderr",
          "text": [
            "<string>:5: FutureWarning: \n",
            "\n",
            "Passing `palette` without assigning `hue` is deprecated and will be removed in v0.14.0. Assign the `y` variable to `hue` and set `legend=False` for the same effect.\n",
            "\n"
          ]
        },
        {
          "output_type": "display_data",
          "data": {
            "text/plain": [
              "from matplotlib import pyplot as plt\n",
              "import seaborn as sns\n",
              "figsize = (12, 1.2 * len(s4['Names'].unique()))\n",
              "plt.figure(figsize=figsize)\n",
              "sns.violinplot(s4, x='Marks', y='Names', inner='stick', palette='Dark2')\n",
              "sns.despine(top=True, right=True, bottom=True, left=True)"
            ],
            "text/html": [
              "      <div class=\"colab-quickchart-chart-with-code\" id=\"chart-ff6851d6-a1a2-475a-a691-4463ce9ab139\">\n",
              "        <img style=\"width: 180px;\" src=\"data:image/png;base64,iVBORw0KGgoAAAANSUhEUgAAA/kAAAFICAYAAAALTD71AAAAOXRFWHRTb2Z0d2FyZQBNYXRwbG90\n",
              "bGliIHZlcnNpb24zLjcuMSwgaHR0cHM6Ly9tYXRwbG90bGliLm9yZy/bCgiHAAAACXBIWXMAAA9h\n",
              "AAAPYQGoP6dpAAAb60lEQVR4nO3df5BV9X3/8dcKZFEUjKLEH/xQIUR+uKBYJRgUoxEzVh1DJmrF\n",
              "X4m2OEQdtcNgDKGVgWRqsJbUNLZRcYypZkQbxbRjNNHqCMEEEBslqKAk/NDiilhghez5/uF8t938\n",
              "IKzucpePj8fMnYHP3nvu++6cOctzz7mXuqqqqgAAAAC7vT1qPQAAAADQPkQ+AAAAFELkAwAAQCFE\n",
              "PgAAABRC5AMAAEAhRD4AAAAUQuQDAABAIUQ+AAAAFELkAwAAQCFEPgAAABRC5AMAAEAhRD4AAAAU\n",
              "QuQDAABAIUQ+AAAAFELkAwAAQCFEPgAAABRC5AMAAEAhRD4AAAAfSpMmTcqkSZNqPUa76lrrAQAA\n",
              "AKAW1q9fX+sR2p0z+QAAAFAIkQ8AAACFEPkAAABQCJEPAAAAhRD5AAAAUAiRDwAAAIUQ+QAAAFAI\n",
              "kQ8AAACFEPkAAABQCJEPAAAAhRD5AAAAUAiRDwAAAIUQ+QAAAFAIkQ8AAACFEPkAAABQCJEPAAAA\n",
              "hRD5AAAAUAiRDwAAAIUQ+QAAAFAIkQ8AAACFEPkAAABQCJEPAAAAhRD5AAAAUAiRDwAAAIUQ+QAA\n",
              "AFAIkQ8AAACFEPkAAABQCJEPAAAAhRD5AAAAUAiRDwAAAIUQ+QAAAFAIkQ8AAACF6NDIHzBgQD7x\n",
              "iU9k+/btLWujRo3KT3/60458WgAAAPhQ6vAz+U1NTfnud7/b7tv9v784AAAAAHZB5E+fPj033nhj\n",
              "Nm/e3Gr9nnvuyXHHHZeRI0emoaEhDz30UJLk9ddfz4gRI1puvXv3ziWXXJLkvSsDpkyZkj/7sz/L\n",
              "RRddlHXr1mXcuHE55phjMnTo0EyePDnNzc1JkjvvvDOnnHJKzjvvvAwfPjyjRo3KK6+8kiQ7fBwA\n",
              "AADsrjo88hsaGjJu3LjcfPPNrdZPO+20LFiwIIsXL86//du/5bLLLktTU1MOPPDALFmyJEuWLMn3\n",
              "vve97L333rn22mtbHrdhw4YsXLgw3/ve97LvvvvmoYceys9//vM899xzWbVqVe67776W+y5atCgz\n",
              "Z87MsmXLcsopp+Qb3/hGkvzJx/2upqamvP32261uTU1N7fydAgAAgA9ml3zw3o033phbbrklGzZs\n",
              "aFlbuXJlTj/99AwbNixnn3123nzzzaxcubLl62vWrMlZZ52V22+/PcOGDWtZv/jii1NXV5ckaW5u\n",
              "zpQpU9LQ0JCRI0fm2WefzZIlS1ruO3r06Bx22GEtf3755Zd36nG/a9asWenVq1er26xZs9rjWwMA\n",
              "AADtpuuueJIBAwbk/PPPz4wZM1rWzj333Hz961/PhAkTkiT77bdftm7dmiTZtGlTzjjjjEyfPj0n\n",
              "n3xyq23tvffeLX+ePXt2Xn/99SxcuDDdu3fPNddc07KNJOnevXvLn7t06dLyPv4/9bjfNXXq1Fxz\n",
              "zTWt1urr69v6bQAAAIAOtcv+C70bbrghd999d9asWZMkaWxsbDnLfvfdd6exsTHJex+oN2HChEyY\n",
              "MCEXXHDBDrfZ2NiYj33sY+nevXvWrVuXH/zgBzs1S1sfV19fn549e7a6iXwAAAA6m10W+b17986V\n",
              "V16ZtWvXJkluueWWTJgwISNHjszixYvTr1+/JMnTTz+dH//4x7nvvvtaPnxv2rRpf3CbV111VRYu\n",
              "XJihQ4dm4sSJOeWUU3Zqlvf7OAAAAOjM6qqqqmo9BAAAAOxq55xzTpJk3rx5NZ6k/eyyM/kAAABA\n",
              "xxL5AAAAUAiRDwAAAIUQ+QAAAFAIkQ8AAACFEPkAAABQCJEPAAAAhRD5AAAAUAiRDwAAAIUQ+QAA\n",
              "AFAIkQ8AAACFEPkAAABQCJEPAAAAhRD5AAAAUAiRDwAAAIUQ+QAAAFAIkQ8AAACFEPkAAABQCJEP\n",
              "AAAAhRD5AAAAUAiRDwAAAIUQ+QAAAFAIkQ8AAACFEPkAAABQCJEPAAAAhRD5AAAAUAiRDwAAAIUQ\n",
              "+QAAAFAIkQ8AAACFEPkAAABQCJEPAAAAhRD5AAAAUIiutR4AAAAAaqFPnz61HqHd1VVVVdV6CAAA\n",
              "AOCDc7k+AAAAFELkAwAAQCFEPgAAABRC5AMAAEAhRD4AAAAUQuQDAABAIUQ+AAAAFELkAwAAQCFE\n",
              "PgAAABRC5AMAAEAhRD4AAAAUQuQDAABAIUQ+AAAAFELkAwAAQCFEPgAAABRC5Bds0qRJmTRpUq3H\n",
              "AAAAYBfpWusB6Djr16+v9QgAAADsQs7kAwAAQCFEPgAAABRC5AMAAEAhRD4AAAAUQuQDAABAIUQ+\n",
              "AAAAFELkAwAAQCFEPgAAABRC5AMAAEAhRD4AAAAUQuQDAABAIUQ+AAAAFELkAwAAQCFEPgAAABRC\n",
              "5AMAAEAhRD4AAAAUQuQDAABAIUQ+AAAAFELkAwAAQCFEPgAAABTiA0X+xo0b8/zzz7fXLAAAAMAH\n",
              "0ObIHz9+fN5666288847aWhoyBlnnJFp06Z1xGwAAABAG7Q58tevX5999903jzzySM4666ysWLEi\n",
              "DzzwQEfMBgAAALRBmyN/27ZtSZInn3wyp556arp165auXbu2+2AAAABA27Q58ocNG5bTTz89Dz/8\n",
              "cE4++eRs3ry5I+YCAAAA2qjNp+DvvPPO/Pu//3saGhqy11575Te/+U1mzZrVEbMBAAAAbdDmM/nd\n",
              "u3dP375989RTTyVJ9tprrzQ0NLT7YAAAAEDbtDnyb7311lx66aWZPn16kuTNN9/M+eef395zAQAA\n",
              "AG3U5si/7bbbsmDBgvTs2TNJcsQRR+SNN95o98EAAACAtmlz5NfX12fPPfdstebT9QEAAKD22hz5\n",
              "BxxwQH71q1+lrq4uyXsfxNevX792HwwAAABomzafgv/7v//7nHfeeXnxxRfTt2/f9OzZMw8//HBH\n",
              "zAYAAAC0QZsjf+DAgVm4cGGWL1+eqqoyePDgdOnSpSNmAwAAANqgzZfrJ8k777yTbdu2ZevWrVm6\n",
              "dGl+8YtftNtA7777bqZMmZKBAwfmyCOPzPDhwzN37tw/+bhVq1Zl3333bbc5AAAAYHfT5jP5N998\n",
              "c6ZNm5YDDjig5Qx+XV1dfvWrX7XLQBdffHGampqydOnS9OjRI6tWrcrpp5+e7du354tf/GK7PMcf\n",
              "s337dh8iCAAAwG6rzUU7Z86cLF++PAcffHC7D7NixYo8+OCDWb16dXr06JEkGTBgQL75zW/mr/7q\n",
              "r3LEEUdk8uTJGTt2bJ5++uls3749c+fOzahRo1pt5913382ll16aHj165NZbb82UKVPyxBNPZNu2\n",
              "benZs2f++Z//OYMHD07y3i8opk2blkceeSQnnXRS/u7v/u735mpqakpTU1Ortfr6+tTX17f79wAA\n",
              "AADerzZfrn/IIYd0SOAnyeLFizNo0KDsv//+rdZHjx6d1atX54033siLL76Yiy66KEuXLs2Xv/zl\n",
              "fOUrX2l137feeivjx4/PkCFD8p3vfCddunTJlClTsmjRoixZsiRXXHFFrrrqqlaP6dKlSxYtWvQH\n",
              "Az9JZs2alV69erW6zZo1q31fPAAAAHxAbT6Tf/311+fKK6/MGWecke7du7esjx07tl0H+2MGDhyY\n",
              "4447Lsl78X/TTTe1fO3dd9/NmDFjMmXKlFx44YUt648++mjmzJmTTZs2pbm5OW+++WarbV566aU7\n",
              "fM6pU6fmmmuuabXmLD4AAACdTZsj/5lnnsldd92Vp556qtV78n/2s5994GFGjhyZFStWZMOGDa3O\n",
              "5j/zzDPp27dvDjjggFa/WOjSpUu2b9/e8vdu3brlhBNOyEMPPZTzzjsv3bp1y2uvvZbJkydn0aJF\n",
              "OeKII/Lcc8/93i8k9t577x3O5dJ8AAAAdgdtvlz/rrvuyqpVq/KLX/wiixYtyqJFi9ol8JNk0KBB\n",
              "+fM///Ncfvnl2bx5c5L3PjX/2muvzVe/+tU/+fi6urp85zvfSd++fXP22Wdny5Yt2bhxY7p165aD\n",
              "DjooVVXlW9/6VrvMCgAAAJ1NmyO/f//+Hfpf1d111105/PDDM3z48Bx55JE544wz8td//de57LLL\n",
              "dnobs2fPztFHH53PfvazOeyww3Luuedm6NChOfbYY9OvX78Omx0AAABqqa6qqqotD7juuuvy2muv\n",
              "ZcKECa0unT/zzDPbfTg+mHPOOSdJMm/evBpPAgAAwK7Q5vfk//znP0+SfPvb325Zq6urE/kAAABQ\n",
              "Y22O/J/85CcdMQcAAADwAbU58pNk27ZtWblyZbZu3dqydtRRR7XbUAAAAEDbtTnyH3744Vx22WVp\n",
              "bGxMjx490tjYmP79+2flypUdMR8AAACwk9r86fpf/epXs2DBghx55JHZsGFD7rrrrkyYMKEjZgMA\n",
              "AADaoM2Rv8cee6R///7Zvn17kuSCCy7I448/3u6DAQAAAG3T5sv1u3XrliQ59NBD88ADD2TAgAFp\n",
              "bGxs98EAAACAtmlz5F911VVpbGzMjBkzcu655+att97KLbfc0hGzAQAAAG2w05H/5JNPJkkOOeSQ\n",
              "LFu2LEnyL//yL0mSurq6DhgNAAAAaIudjvxrr73299bq6uqyZs2arF27Nr/97W/bdTAAAACgbXY6\n",
              "8hctWtTq72+++WZmzJiRu+++O3/zN3/T7oMBAAAAbdPmT9ffunVrZs2alSFDhiRJXnjhhdxwww3t\n",
              "PhgAAADQNjsd+c3NzbntttsyaNCgvPjii1m4cGFmz56d/fffvyPnAwAAAHbSTl+uP2zYsDQ1NWXm\n",
              "zJlpaGjIxo0b89xzz7V8/aijjuqQAQEAAICds9ORv3nz5tTV1WXatGm/97W6urq88sor7ToYAAAA\n",
              "0DY7HfmrVq3qwDEAAACAD6rNH7wHAAAAdE4iHwAAAAoh8gEAAKAQIh8AAAAKIfIBAACgECIfAAAA\n",
              "CiHyAQAAoBAiHwAAAAoh8gEAAKAQIh8AAAAKIfIBAACgECIfAAAACiHyAQAAoBAiHwAAAAoh8gEA\n",
              "AKAQXWs9AB2nT58+tR4BAACAXaiuqqqq1kMAAAAAH5zL9QEAAKAQIh8AAAAKIfIBAACgECIfAAAA\n",
              "CiHyAQAAoBAiHwAAAAoh8gEAAKAQIh8AAAAKIfIBAACgECIfAAAACiHyAQAAoBAiHwAAAAoh8gEA\n",
              "AKAQIh8AAAAKIfIBAACgECIfAAAACiHyAQAA+FCaNGlSJk2aVOsx2lXXWg8AAAAAtbB+/fpaj9Du\n",
              "nMkHAACAQoh8AAAAKITIBwAAgEKIfAAAACiEyAcAAIBCiHwAAAAohMgHAACAQoh8AAAAKITIBwAA\n",
              "gEKIfAAAACiEyAcAAIBCiHwAAAAohMgHAACAQoh8AAAAKITIBwAAgEKIfAAAACiEyAcAAIBCiHwA\n",
              "AAAohMgHAACAQoh8AAAAKITIBwAAgEKIfAAAACiEyAcAAIBCiHwAAAAohMgHAACAQoh8AAAAKITI\n",
              "BwAAgEKIfAAAACiEyAcAAIBCiHwAAAAohMgHAACAQoh8AAAAKMRuE/kDBgzI4MGDM2LEiJbbsmXL\n",
              "/uB9f/rTn2bEiBG7dkAAAACosa61HqAt7r33XvEOAAAAf8Rucyb/D9myZUu+8IUvZMiQIWloaMhn\n",
              "PvOZlq9t3749V1xxRRoaGjJ06NA8++yzLeunnXZaRo0alaFDh+b888/P//zP/9TqJQAAAEC72a0i\n",
              "/wtf+EKry/UffPDBvPXWW/nlL3+ZpUuX5l//9V9b7vviiy/moosuytKlS/PlL385X/nKV5IkXbp0\n",
              "yT333JNnn302zz//fHr16pU5c+bs8Hmbmpry9ttvt7o1NTV16GsFAACAttqtIv/ee+/NkiVLWm7H\n",
              "HXdcXnjhhVxxxRW59957061bt5b7Dhw4MMcdd1ySZPTo0Xn55ZeTJFVV5eabb87IkSNz1FFHZf78\n",
              "+VmyZMkOn3fWrFnp1atXq9usWbM67HUCAADA+7FbRf7vOvzww/PLX/4y48ePz9NPP51hw4alsbEx\n",
              "SdK9e/eW+3Xp0iXbt29Pktxzzz15/PHH88QTT2TZsmW57rrrsnXr1h0+z9SpU7Nx48ZWt6lTp3bc\n",
              "CwMAAID3YbeO/F//+tepq6vLmWeemZtuuilVVWX16tU7fExjY2N69+6dnj17ZtOmTbnzzjv/5PPU\n",
              "19enZ8+erW719fXt9CoAAACgfexWkf+778lftmxZxowZk4aGhowcOTITJ07MUUcdtcNtXHjhhdm8\n",
              "eXMGDx6c008/PZ/61Kd20fQAAADQseqqqqpqPQQAAADsauecc06SZN68eTWepP3sVmfyAQAAgD9O\n",
              "5AMAAEAhRD4AAAAUQuQDAABAIUQ+AAAAFELkAwAAQCFEPgAAABRC5AMAAEAhRD4AAAAUQuQDAABA\n",
              "IUQ+AAAAFELkAwAAQCFEPgAAABRC5AMAAEAhRD4AAAAUQuQDAABAIUQ+AAAAFELkAwAAQCFEPgAA\n",
              "ABRC5AMAAEAhRD4AAAAUQuQDAABAIUQ+AAAAFELkAwAAQCFEPgAAABRC5AMAAEAhRD4AAAAUQuQD\n",
              "AABAIUQ+AAAAFELkAwAAQCFEPgAAABRC5AMAAEAhutZ6AAAAAKiFPn361HqEdldXVVVV6yEAAACA\n",
              "D87l+gAAAFAIkQ8AAACFEPkAAABQCJEPAAAAhRD5AAAAUAiRDwAAAIUQ+QAAAFAIkV+wpqamTJ8+\n",
              "PU1NTbUeBf4g+yidnX2Uzs4+SmdnH6WzK3Efrauqqqr1EHSMt99+O7169crGjRvTs2fPWo8Dv8c+\n",
              "SmdnH6Wzs4/S2dlH6exK3EedyQcAAIBCiHwAAAAohMgHAACAQoj8gtXX1+drX/ta6uvraz0K/EH2\n",
              "UTo7+yidnX2Uzs4+SmdX4j7qg/cAAACgEM7kAwAAQCFEPgAAABRC5AMAAEAhRH6hVqxYkU9+8pP5\n",
              "+Mc/nmOPPTb/9V//VeuR+JDbunVrzj777Hz84x9PQ0NDTj311Lz00ktJktdffz3jx4/PoEGDMmzY\n",
              "sDz55JM1npYPuzvuuCN1dXV58MEHk9hH6TyampoyefLkDBo0KMOHD88FF1yQxM99Oo9HHnkkRx99\n",
              "dEaMGJFhw4Zl7ty5SRxHqZ0rr7wyAwYMSF1dXZYsWdKyvqPj5m5/TK0o0rhx46o77rijqqqq+sEP\n",
              "flCNGjWqtgPxobdly5Zq/vz5VXNzc1VVVTVnzpzqxBNPrKqqqi655JLqa1/7WlVVVfWzn/2sOuSQ\n",
              "Q6p33323RpPyYbdy5cpq9OjR1fHHH1898MADVVXZR+k8rr766mry5Mktx9K1a9dWVeXnPp1Dc3Nz\n",
              "9dGPfrRaunRpVVXvHU/r6+urt99+23GUmnniiSeq1atXV/37968WL17csr6j4+bufkwV+QVav359\n",
              "tc8++1Tbtm2rquq9A26fPn2qFStW1Hgy+F+LFi2q+vfvX1VVVfXo0aPlH6pVVVXHHnts9eijj9Zo\n",
              "Mj7Mfvvb31af/vSnq2effbY68cQTWyLfPkpn8M4771T77LNPtXHjxlbrfu7TWTQ3N1f77bdf9cQT\n",
              "T1RVVVVLly6tDj744KqpqclxlJr7v5G/o+NmCcdUl+sXaPXq1TnooIPStWvXJEldXV369euX1157\n",
              "rcaTwf+65ZZbctZZZ2XDhg3Ztm1bPvaxj7V8bcCAAfZXamL27NkZM2ZMjjnmmJY1+yidxcsvv5z9\n",
              "9tsvM2fOzKhRo/KpT30qjz32mJ/7dBp1dXW59957c84556R///454YQTMnfu3GzatMlxlE5lR8fN\n",
              "Eo6pXWs9APDhM3PmzLz00kt57LHHsmXLllqPA0mS559/Pvfff7/3idJpbd++Pa+++mqGDBmSr3/9\n",
              "61m8eHFOPfXUzJ8/v9ajQZL39tEZM2Zk3rx5GTt2bBYtWpQzzzyz1fuggY7nTH6B+vbtm7Vr12b7\n",
              "9u1Jkqqq8tprr6Vfv341ngySm266KfPmzcuPfvSj7LXXXtl///3TtWvXrFu3ruU+q1atsr+yy/3n\n",
              "f/5nVq1alUGDBmXAgAFZsGBBLr/88tx33332UTqFfv36ZY899shf/MVfJElGjhyZww47LK+++qqf\n",
              "+3QKS5YsyZo1azJ27NgkybHHHptDDz00zz33nOMoncqOeqmElhL5BTrwwANz9NFH5+67706S3H//\n",
              "/Tn00EMzcODAGk/Gh93s2bPz/e9/P48++mj23XfflvXPf/7z+ad/+qckyaJFi/Kb3/wmJ554Yo2m\n",
              "5MNq0qRJWbt2bVatWpVVq1bl+OOPz2233ZZJkybZR+kUevfunU9/+tP5j//4jyTJypUrs3LlyowZ\n",
              "M8bPfTqF/x9HL7zwQpLkpZdeyssvv5zBgwc7jtKp7KiXSmipuqqqqloPQftbvnx5Lr744mzYsCE9\n",
              "e/bMHXfckeHDh9d6LD7Efv3rX6dv3745/PDDs88++yRJ6uvrs3Dhwqxfvz4TJ07MypUr85GPfCTf\n",
              "+ta3Mm7cuBpPzIfdSSedlKuvvjpnn322fZRO45VXXskXv/jF/Pd//3f22GOPTJs2LZ/73Of83KfT\n",
              "+P73v5+ZM2dmjz32SHNzc6ZOnZrzzz/fcZSa+cu//MvMnz8/69aty/7775999tknL7300g6Pm7v7\n",
              "MVXkAwAAQCFcrg8AAACFEPkAAABQCJEPALTJgAEDcuCBB2bbtm0taz/5yU9SV1eXq6+++n1tz3+x\n",
              "BQDtQ+QDAG3Wr1+//PCHP2z5+3e/+92MGjWqTdtobm5Oc3Nze48GAB9qIh8AaLNLLrkkt99+e5Jk\n",
              "48aNWbBgQcaPH58kWbZsWU444YQcffTRGTJkSGbMmNHyuOnTp+dzn/tcTjvttAwbNixr165ttd05\n",
              "c+ZkzJgxeeONN7JgwYIcc8wxGTFiRIYNG5Zvf/vbu+4FAsBuqmutBwAAdj9jxozJrbfemjVr1uSH\n",
              "P/xhPv/5z6dLly5J3rv8/rHHHkt9fX22bNmST37ykznllFNy/PHHJ0meeeaZLF68OH369GnZXnNz\n",
              "c6655pqsXLkyP/7xj7PnnnvmS1/6Uq677rqcd955SZLGxsZd/0IBYDfjTD4A8L5MnDgxd955Z26/\n",
              "/fZceumlLetbtmzJl770pQwfPjzHH398Xn311Vbvuf/sZz/bKvCT5PLLL8+mTZty//33Z88990yS\n",
              "jBs3LjfeeGP+9m//Nk899VQ++tGP7pLXBQC7M5EPALwvF154Yf7hH/4h3bt3z6BBg1rWr7/++vTu\n",
              "3TuLFy/O0qVLc9JJJ2Xr1q0tX997771/b1snnnhiFi5cmHXr1rWsXX311Zk/f34OOuigXH/99bni\n",
              "iis69gUBQAFcrg8AvC8HH3xwZs2alU984hOt1hsbG3PkkUema9euWb58eR599NGMHTt2h9uaOHFi\n",
              "Ro8enZNPPjk/+tGPcthhh2X58uUZPHhwLrvssvTt2zfXX399R74cACiCyAcA3rdLLrnk99ZuuOGG\n",
              "TJw4MXPnzs0RRxyRk08+eae2NWHChOy55575zGc+k4ceeij/+I//mMcffzwf+chH0qVLl3zzm99s\n",
              "7/EBoDh1VVVVtR4CAAAA+OC8Jx8AAAAKIfIBAACgECIfAAAACiHyAQAAoBAiHwAAAAoh8gEAAKAQ\n",
              "Ih8AAAAKIfIBAACgECIfAAAACiHyAQAAoBAiHwAAAArx/wD3qydc+C8uXwAAAABJRU5ErkJggg==\n",
              "\">\n",
              "      </div>\n",
              "      <script type=\"text/javascript\">\n",
              "        (() => {\n",
              "          const chartElement = document.getElementById(\"chart-ff6851d6-a1a2-475a-a691-4463ce9ab139\");\n",
              "          async function getCodeForChartHandler(event) {\n",
              "            const chartCodeResponse =  await google.colab.kernel.invokeFunction(\n",
              "                'getCodeForChart', [\"chart-ff6851d6-a1a2-475a-a691-4463ce9ab139\"], {});\n",
              "            const responseJson = chartCodeResponse.data['application/json'];\n",
              "            await google.colab.notebook.addCell(responseJson.code, 'code');\n",
              "          }\n",
              "          chartElement.onclick = getCodeForChartHandler;\n",
              "        })();\n",
              "      </script>\n",
              "      <style>\n",
              "        .colab-quickchart-chart-with-code  {\n",
              "            display: block;\n",
              "            float: left;\n",
              "            border: 1px solid transparent;\n",
              "        }\n",
              "\n",
              "        .colab-quickchart-chart-with-code:hover {\n",
              "            cursor: pointer;\n",
              "            border: 1px solid #aaa;\n",
              "        }\n",
              "      </style>"
            ]
          },
          "metadata": {}
        },
        {
          "output_type": "stream",
          "name": "stderr",
          "text": [
            "<string>:5: FutureWarning: \n",
            "\n",
            "Passing `palette` without assigning `hue` is deprecated and will be removed in v0.14.0. Assign the `y` variable to `hue` and set `legend=False` for the same effect.\n",
            "\n"
          ]
        },
        {
          "output_type": "display_data",
          "data": {
            "text/plain": [
              "from matplotlib import pyplot as plt\n",
              "import seaborn as sns\n",
              "figsize = (12, 1.2 * len(s4['Names'].unique()))\n",
              "plt.figure(figsize=figsize)\n",
              "sns.violinplot(s4, x='Mobile', y='Names', inner='stick', palette='Dark2')\n",
              "sns.despine(top=True, right=True, bottom=True, left=True)"
            ],
            "text/html": [
              "      <div class=\"colab-quickchart-chart-with-code\" id=\"chart-5e48e82e-efdd-4439-9472-b9751e3a0a7c\">\n",
              "        <img style=\"width: 180px;\" src=\"data:image/png;base64,iVBORw0KGgoAAAANSUhEUgAAA/kAAAFICAYAAAALTD71AAAAOXRFWHRTb2Z0d2FyZQBNYXRwbG90\n",
              "bGliIHZlcnNpb24zLjcuMSwgaHR0cHM6Ly9tYXRwbG90bGliLm9yZy/bCgiHAAAACXBIWXMAAA9h\n",
              "AAAPYQGoP6dpAAAcZUlEQVR4nO3df7DVdZ3H8dcVGNgwcFLTRJEUMAG5QBiiu5UOKTZmroslhiK0\n",
              "OoujuaM1DJsSribVmui425aVqaNuuI6Kuo07smROruL1B4ibmqPccBNR4Yqy6IWr3/3D6Uy34MKR\n",
              "e7ncj4/HzJm5fr/ne8773Pl4OM/7PffchqqqqgAAAAA93m7dPQAAAADQOUQ+AAAAFELkAwAAQCFE\n",
              "PgAAABRC5AMAAEAhRD4AAAAUQuQDAABAIUQ+AAAAFELkAwAAQCFEPgAAABRC5AMAAEAhRD4AAAAU\n",
              "QuQDAABAIUQ+AAAAFELkAwAAQCFEPgAAABRC5AMAAEAhRH7BZs2alVmzZnX3GAAAAOwkvbt7ALrO\n",
              "mjVrunsEAAAAdiJn8gEAAKAQIh8AAAAKIfIBAACgECIfAAAACiHyAQAAoBAiHwAAAAoh8gEAAKAQ\n",
              "Ih8AAAAKIfIBAACgECIfAAAACiHyAQAAoBAiHwAAAAoh8gEAAKAQIh8AAAAKIfIBAACgECIfAAAA\n",
              "CiHyAQAAoBAiHwAAAAoh8gEAAKAQIh8AAAAKIfIBAACgECIfAAAACiHyAQAAoBAiHwAAAAoh8gEA\n",
              "AKAQIh8AAAAKIfIBAACgECIfAAAACiHyAQAAoBAiHwAAAAoh8gEAAKAQIh8AAAAK0aWRP2TIkHzi\n",
              "E59IW1tbbdv48eNz//33d+XdAgAAwAdSl5/Jb21tzU9/+tNOv90//sEBAAAAsBMif968ebn00kuz\n",
              "cePGdttvueWWTJgwIWPHjk1jY2PuvvvuJMkrr7ySMWPG1C577bVXZsyYkeS9dwbMnj07n/rUpzJ9\n",
              "+vS8/PLLOfroo/PJT34yI0eOzLnnnpt33303SXL99ddn0qRJmTp1ag477LCMHz8+L7zwQpJ0eBwA\n",
              "AAD0VF0e+Y2NjTn66KOzYMGCdtuPO+64PPzww3niiSeyaNGinHXWWWltbc1HP/rRLFu2LMuWLcvN\n",
              "N9+c3XffPRdeeGHtuLVr12bp0qW5+eabs8cee+Tuu+/OY489lieffDLNzc259dZba9dtamrK5Zdf\n",
              "nhUrVmTSpEn57ne/myTbPO5Ptba25o033mh3aW1t7eTvFAAAAOyYnfLBe5deemmuvvrqrF27trZt\n",
              "5cqVOf744zNq1KicdNJJWbduXVauXFnb/9JLL+WLX/xirrvuuowaNaq2/cwzz0xDQ0OS5N13383s\n",
              "2bPT2NiYsWPH5tFHH82yZctq1504cWI+/vGP175+/vnnt+u4PzV//vwMHDiw3WX+/Pmd8a0BAACA\n",
              "TtN7Z9zJkCFDctppp+Wyyy6rbTv11FPzne98J1OmTEmSfOQjH8nbb7+dJHnzzTdzwgknZN68eTnm\n",
              "mGPa3dbuu+9e+/rKK6/MK6+8kqVLl6Zfv3654IILareRJP369at93atXr9rv8W/ruD81Z86cXHDB\n",
              "Be229e3bt95vAwAAAHSpnfYn9C666KLcdNNNeemll5IkLS0ttbPsN910U1paWpK894F6U6ZMyZQp\n",
              "UzJt2rQOb7OlpSX77rtv+vXrl5dffjn//u//vl2z1Htc3759M2DAgHYXkQ8AAMCuZqdF/l577ZWv\n",
              "fe1rWb16dZLk6quvzpQpUzJ27Ng88cQTGTx4cJLkwQcfzOLFi3PrrbfWPnxv7ty5W7zN888/P0uX\n",
              "Ls3IkSNz+umnZ9KkSds1y/s9DgAAAHZlDVVVVd09BF3j5JNPTpLcfvvt3TwJAAAAO8NOO5MPAAAA\n",
              "dC2RDwAAAIUQ+QAAAFAIkQ8AAACFEPkAAABQCJEPAAAAhRD5AAAAUAiRDwAAAIUQ+QAAAFAIkQ8A\n",
              "AACFEPkAAABQCJEPAAAAhRD5AAAAUAiRDwAAAIUQ+QAAAFAIkQ8AAACFEPkAAABQCJEPAAAAhRD5\n",
              "AAAAUAiRDwAAAIUQ+QAAAFAIkQ8AAACFEPkAAABQCJEPAAAAhRD5AAAAUAiRDwAAAIUQ+QAAAFAI\n",
              "kQ8AAACFEPkAAABQCJEPAAAAhRD5AAAAUAiRDwAAAIXo3d0D0HX22Wef7h4BAACAnaihqqqqu4cA\n",
              "AAAAdpy36wMAAEAhRD4AAAAUQuQDAABAIUQ+AAAAFELkAwAAQCFEPgAAABRC5AMAAEAhRD4AAAAU\n",
              "QuQDAABAIUQ+AAAAFELkAwAAQCFEPgAAABRC5AMAAEAhRD4AAAAUQuQDAABAIUQ+AAAAH0izZs3K\n",
              "rFmzunuMTtW7uwcAAACA7rBmzZruHqHTOZMPAAAAhRD5AAAAUAiRDwAAAIUQ+QAAAFAIkQ8AAACF\n",
              "EPkAAABQCJEPAAAAhRD5AAAAUAiRDwAAAIUQ+QAAAFAIkQ8AAACFEPkAAABQCJEPAAAAhRD5AAAA\n",
              "UAiRDwAAAIUQ+QAAAFAIkQ8AAACFEPkAAABQCJEPAAAAhRD5AAAAUIgdivz169fnqaee6qxZAAAA\n",
              "gB1Qd+RPnjw5r7/+ejZs2JDGxsaccMIJmTt3blfMBgAAANSh7shfs2ZN9thjj/ziF7/IF7/4xTz3\n",
              "3HO54447umI2AAAAoA51R/7mzZuTJA888EA+97nPpU+fPundu3enDwYAAADUp+7IHzVqVI4//vjc\n",
              "c889OeaYY7Jx48aumAsAAACoU92n4K+//vrce++9aWxszIc+9KH8/ve/z/z587tiNgAAAKAOdZ/J\n",
              "79evXw444ID8+te/TpJ86EMfSmNjY6cPBgAAANSn7sj/wQ9+kJkzZ2bevHlJknXr1uW0007r7LkA\n",
              "AACAOtUd+ddee20efvjhDBgwIEly8MEH59VXX+30wQAAAID61B35ffv2zV/8xV+02+bT9QEAAKD7\n",
              "1R35e++9d37729+moaEhyXsfxDd48OBOHwwAAACoT92n4K+66qpMnTo1zzzzTA444IAMGDAg99xz\n",
              "T1fMBgAAANSh7sgfOnRoli5dmmeffTZVVeWQQw5Jr169umI2AAAAoA51v10/STZs2JDNmzfn7bff\n",
              "zvLly/P444932kCbNm3K7NmzM3To0Bx66KE57LDDcsMNN2zzuObm5uyxxx6dNgcAAAD0NHWfyV+w\n",
              "YEHmzp2bvffeu3YGv6GhIb/97W87ZaAzzzwzra2tWb58efr375/m5uYcf/zxaWtry1e/+tVOuY+t\n",
              "aWtr8yGCAAAA9Fh1F+0111yTZ599Nvvtt1+nD/Pcc8/lzjvvzIsvvpj+/fsnSYYMGZLvf//7+bu/\n",
              "+7scfPDBOffcc/PpT386Dz74YNra2nLDDTdk/Pjx7W5n06ZNmTlzZvr3758f/OAHmT17dn71q19l\n",
              "8+bNGTBgQH784x/nkEMOSfLeDyjmzp2bX/ziF/nsZz+bf/qnf/qzuVpbW9Pa2tpuW9++fdO3b99O\n",
              "/x4AAADA+1X32/UHDRrUJYGfJE888USGDRuWPffcs932iRMn5sUXX8yrr76aZ555JtOnT8/y5ctz\n",
              "3nnn5Zvf/Ga7677++uuZPHlyRowYkR/96Efp1atXZs+enaampixbtiznnHNOzj///HbH9OrVK01N\n",
              "TVsM/CSZP39+Bg4c2O4yf/78zn3wAAAAsIPqPpP/D//wD/na176WE044If369att//SnP92pg23N\n",
              "0KFDM2HChCTvxf8VV1xR27dp06YcddRRmT17ds4444za9vvuuy/XXHNN3nzzzbz77rtZt25du9uc\n",
              "OXNmh/c5Z86cXHDBBe22OYsPAADArqbuyH/ooYdy44035te//nW738l/5JFHdniYsWPH5rnnnsva\n",
              "tWvbnc1/6KGHcsABB2Tvvfdu94OFXr16pa2trfbfffr0yV/+5V/m7rvvztSpU9OnT5+sWrUq5557\n",
              "bpqamnLwwQfnySef/LMfSOy+++4dzuWt+QAAAPQEdb9d/8Ybb0xzc3Mef/zxNDU1pampqVMCP0mG\n",
              "DRuWL3zhCzn77LOzcePGJO99av6FF16Yiy++eJvHNzQ05Ec/+lEOOOCAnHTSSXnrrbeyfv369OnT\n",
              "Jx/72MdSVVX++Z//uVNmBQAAgF1N3ZF/4IEHdumfqrvxxhtz0EEH5bDDDsuhhx6aE044Id/4xjdy\n",
              "1llnbfdtXHnllRk3blw+//nP5+Mf/3hOPfXUjBw5MocffngGDx7cZbMDAABAd2qoqqqq54Cvf/3r\n",
              "WbVqVaZMmdLurfMnnnhipw8HAAAAXeXkk09Oktx+++3dPEnnqft38h977LEkyb/+67/WtjU0NIh8\n",
              "AAAA6GZ1R/4vf/nLrpgDAAAA2EF1R36SbN68OStXrszbb79d2zZ69OhOGwoAAACoX92Rf8899+Ss\n",
              "s85KS0tL+vfvn5aWlhx44IFZuXJlV8wHAAAAbKe6P13/4osvzsMPP5xDDz00a9euzY033pgpU6Z0\n",
              "xWwAAABAHeqO/N122y0HHnhg2trakiTTpk3LkiVLOn0wAAAAoD51v12/T58+SZL9998/d9xxR4YM\n",
              "GZKWlpZOHwwAAACoT92Rf/7556elpSWXXXZZTj311Lz++uu5+uqru2I2AAAAoA7bHfkPPPBAkmTQ\n",
              "oEFZsWJFkuQnP/lJkqShoaELRgMAAADqsd2Rf+GFF/7ZtoaGhrz00ktZvXp13nnnnU4dDAAAAKjP\n",
              "dkd+U1NTu/9et25dLrvsstx000255JJLOn0wAAAAoD51f7r+22+/nfnz52fEiBFJkqeffjoXXXRR\n",
              "pw8GAAAA1Ge7I//dd9/Ntddem2HDhuWZZ57J0qVLc+WVV2bPPffsyvkAAACA7bTdb9cfNWpUWltb\n",
              "c/nll6exsTHr16/Pk08+Wds/evToLhkQAAAA2D7bHfkbN25MQ0ND5s6d+2f7Ghoa8sILL3TqYAAA\n",
              "AEB9tjvym5ubu3AMAAAAYEfV/cF7AAAAwK5J5AMAAEAhRD4AAAAUQuQDAABAIUQ+AAAAFELkAwAA\n",
              "QCFEPgAAABRC5AMAAEAhRD4AAAAUQuQDAABAIUQ+AAAAFELkAwAAQCFEPgAAABRC5AMAAEAhRD4A\n",
              "AAAUond3DwAAAADdYZ999unuETpdQ1VVVXcPAQAAAOw4b9cHAACAQoh8AAAAKITIBwAAgEKIfAAA\n",
              "ACiEyAcAAIBCiHwAAAAohMgHAACAQoh8AAAAKITIBwAAgEKIfAAAACiEyAcAAIBCiHwAAAAohMgH\n",
              "AACAQoh8AAAAKITIBwAAgEKIfAAAACiEyGe7zJo1K7NmzeruMQAAAOhA7+4egJ5hzZo13T0CAAAA\n",
              "2+BMPgAAABRC5AMAAEAhRD4AAAAUQuQDAABAIUQ+AAAAFELkAwAAQCFEPgAAABRC5AMAAEAhRD4A\n",
              "AAAUQuQDAABAIUQ+AAAAFELkAwAAQCFEPgAAABRC5AMAAEAhRD4AAAAUQuQDAABAIUQ+AAAAFELk\n",
              "AwAAQCFEPgAAABRC5AMAAEAhRD4AAAAUQuQDAABAIUQ+AAAAFELkAwAAQCFEPgAAABRC5AMAAEAh\n",
              "RD4AAAAUQuQDAABAIUQ+AAAAFELkAwAAQCFEPgAAABRC5AMAAEAhekzkDxkyJIccckjGjBlTu6xY\n",
              "sWKL173//vszZsyYnTsgAAAAdLPe3T1APRYuXCjeAQAAYCt6zJn8LXnrrbfy5S9/OSNGjEhjY2OO\n",
              "PfbY2r62tracc845aWxszMiRI/Poo4/Wth933HEZP358Ro4cmdNOOy3/93//110PAQAAADpNj4r8\n",
              "L3/5y+3ern/nnXfm9ddfz29+85ssX748P//5z2vXfeaZZzJ9+vQsX7485513Xr75zW8mSXr16pVb\n",
              "brkljz76aJ566qkMHDgw11xzTYf329ramjfeeKPdpbW1tUsfKwAAANSrR0X+woULs2zZstplwoQJ\n",
              "efrpp3POOedk4cKF6dOnT+26Q4cOzYQJE5IkEydOzPPPP58kqaoqCxYsyNixYzN69Oj8x3/8R5Yt\n",
              "W9bh/c6fPz8DBw5sd5k/f36XPU4AAAB4P3pU5P+pgw46KL/5zW8yefLkPPjggxk1alRaWlqSJP36\n",
              "9atdr1evXmlra0uS3HLLLVmyZEl+9atfZcWKFfn617+et99+u8P7mTNnTtavX9/uMmfOnK57YAAA\n",
              "APA+9OjI/9///d80NDTkxBNPzBVXXJGqqvLiiy92eExLS0v22muvDBgwIG+++Wauv/76bd5P3759\n",
              "M2DAgHaXvn37dtKjAAAAgM7RoyL/T38nf8WKFTnqqKPS2NiYsWPH5vTTT8/o0aM7vI0zzjgjGzdu\n",
              "zCGHHJLjjz8+f/VXf7WTpgcAAICu1VBVVdXdQ7DrO/nkk5Mkt99+ezdPAgAAwNb0qDP5AAAAwNaJ\n",
              "fAAAACiEyAcAAIBCiHwAAAAohMgHAACAQoh8AAAAKITIBwAAgEKIfAAAACiEyAcAAIBCiHwAAAAo\n",
              "hMgHAACAQoh8AAAAKITIBwAAgEKIfAAAACiEyAcAAIBCiHwAAAAohMgHAACAQoh8AAAAKITIBwAA\n",
              "gEKIfAAAACiEyAcAAIBCiHwAAAAohMgHAACAQoh8AAAAKITIBwAAgEKIfAAAACiEyAcAAIBCiHwA\n",
              "AAAohMgHAACAQoh8AAAAKITIBwAAgEKIfAAAAChE7+4egJ5hn3326e4RAAAA2IaGqqqq7h4CAAAA\n",
              "2HHerg8AAACFEPkAAABQCJEPAAAAhRD5AAAAUAiRDwAAAIUQ+QAAAFAIkQ8AAACFEPkFa21tzbx5\n",
              "89La2trdo8BOY93zQWXt80Fk3fNBZe3TkYaqqqruHoKu8cYbb2TgwIFZv359BgwY0N3jwE5h3fNB\n",
              "Ze3zQWTd80Fl7dMRZ/IBAACgECIfAAAACiHyAQAAoBAiv2B9+/bNt771rfTt27e7R4Gdxrrng8ra\n",
              "54PIuueDytqnIz54DwAAAArhTD4AAAAUQuQDAABAIUQ+AAAAFELk9zD33ntvxo8fn9GjR+eII47I\n",
              "8uXLkySvvPJKJk+enGHDhmXUqFF54IEHase8332wq9jaup8xY0aGDx+exsbGHHXUUWlqaqods3Hj\n",
              "xkydOjVDhw7N8OHDc9ttt23XPthVbG3d/8GSJUvSq1evXHXVVbVt1j0l2Nrar6oq8+bNy/Dhw3PY\n",
              "YYfl6KOPrh3jtQ493dbW/SOPPJIjjjgiY8eOzaGHHprvfe97tWM857NVFT3GunXrqo985CPVU089\n",
              "VVVVVT3wwAPVyJEjq6qqqhkzZlTf+ta3qqqqqkceeaQaNGhQtWnTph3aB7uCjtb9okWLqs2bN1dV\n",
              "VVV33313deCBB9aOu+SSS6rp06dXVVVVL7zwQrX33ntXr7322jb3wa6go3VfVVX1+uuvV4cffnh1\n",
              "wgknVAsWLKhtt+7p6Tpa+1dddVX113/911Vra2tVVVW1evXq2nFe69CTdbTuGxsbq0WLFlVVVVVr\n",
              "166t9t577+p//ud/qqrynM/WifwepKmpqRo2bFi7bR/+8Ierxx57rOrfv3+7f+wOP/zw6r777quq\n",
              "qnrf+2BX0NG6/2Ovvvpq1bt371r0jxgxonrooYdq+0855ZTqxz/+8Tb3wa5gW+t+2rRp1aJFi6rp\n",
              "06e3i3zrnp6uo7U/aNCg6tlnn93icV7r0JN1tO7HjBlT3XDDDVVVVdWqVauqQYMG1daz53y2xtv1\n",
              "e5Bhw4Zl7dq1+e///u8kyV133ZU333wzK1euzObNm7PvvvvWrjtkyJCsWrUqa9eufV/7YFextXXf\n",
              "3Nzc7npXX311Pv/5z6d3795JklWrVuXAAw+s7f/jtd3RPtgVdLTub7vttuy222458cQT/+w4656e\n",
              "bmtr/6mnnsqaNWuyaNGiTJgwIRMmTMjChQuTxGsderyOnvN/9rOf5eKLL87gwYMzfPjwXH755bX1\n",
              "7Dmfrend3QOw/QYOHJjbbrstc+bMyYYNGzJx4sSMGDEiGzZs6O7RoMtsbd3/IeaT5Kabbsqtt97q\n",
              "9ywpRkfP91deeWXuv//+7h4RusTW1n6StLW15a233srSpUvT3NycI488Mp/4xCey//77d/PUsGM6\n",
              "eq3zne98J/Pnz89pp52WF154IZ/5zGcyfvz42v8XsCUiv4c5+uijax8009ramn333TdHHXVUevfu\n",
              "nZdffrn2k73m5uYMHjw4e+655/vaB7uSLa37P/zjtnDhwlxyySX5r//6r+yzzz61YwYPHpzf/e53\n",
              "+djHPpbkvbV97LHHbnMf7Cq2tO5bWlqyevXqjBkzJkny2muv5a677sqrr76ab3/729Y9RdjS2j/y\n",
              "yCOz++67Z9q0aUneOyv5hw9cbWxs9FqHHm9L636//fbLHXfckZ///OdJkoMOOihHHHFEHnzwwYwY\n",
              "McJzPlvl7fo9zOrVq2tfX3rppTnmmGMydOjQnHLKKfnhD3+YJGlqasrvf//7fOYzn0mS970PdhVb\n",
              "W/e33nprLrrooixevPjPXrD98dpeuXJl7r///px00knb3Ae7ii2t+/PPPz9r1qxJc3NzmpubM2XK\n",
              "lMydOzff/va3k1j3lGFrz/lTp07NvffemyRZt25dHnnkkYwePTqJ1zr0fFta92PHjk3//v2zZMmS\n",
              "JO/9YHfp0qUZNWpUEs/5dKC7PxSA+vzt3/5tdcghh1QHH3xwNW3atKqlpaWqqqp6+eWXq8997nPV\n",
              "0KFDqxEjRlRLliypHfN+98GuYmvrvnfv3tX+++9fNTY21i5/+OTYDRs2VF/60peqgw46qBo2bFi1\n",
              "cOHC2u11tA92FVtb93/sTz94z7qnBFtb+6+99lr1hS98oRo5cmQ1cuTI6l/+5V9qx3itQ0+3tXV/\n",
              "3333VePGjatGjx5dHXroodX3v//92jGe89mahqqqqu7+QQMAAACw47xdHwAAAAoh8gEAAKAQIh8A\n",
              "2G5DhgzJRz/60WzevLm27Ze//GUaGhry93//9x0ee+aZZ+aqq67a4r65c+fm5ptvTpLMmzdvm7cF\n",
              "AGyZP6EHANRl8ODBueuuu/I3f/M3SZKf/vSnGT9+/A7d5j/+4z92xmgA8IHnTD4AUJcZM2bkuuuu\n",
              "S5KsX78+Dz/8cCZPnpwkeeedd/KNb3wjo0aNyqhRo3Leeedl06ZNtWOffPLJHHnkkRk+fHimT5+e\n",
              "t956K0nHZ/mvuOKKfOpTn8q4ceMyefLk/O53v+vaBwgAPZjIBwDqctRRR6W5uTkvvfRS/u3f/i2n\n",
              "nHJKevXqlSS59tpr09TUlMceeyzLli3L888/nwULFtSOXbp0af7zP/8zTz/9dNatW9du35bccsst\n",
              "efbZZ/PQQw/l8ccfz1e+8pWcc845Xfr4AKAnE/kAQN1OP/30XH/99bnuuusyc+bM2vbFixfnzDPP\n",
              "TN++fdO7d++cddZZue+++2r7v/SlL+XDH/5wevXqla9+9atZvHhxh/dz5513ZvHixfnkJz+ZMWPG\n",
              "5Hvf+15WrVrVZY8LAHo6v5MPANTtjDPOyLhx4zJ8+PAMGzZsq9draGjo8Ha2tb+qqsyZMydnn332\n",
              "+5oTAD5onMkHAOq23377Zf78+fnud7/bbvukSZNy4403ZtOmTWlra8tPfvKTHHvssbX9t912WzZs\n",
              "2JB33nknP/vZzzJp0qQO7+ekk07KD3/4w6xbty5Jsnnz5jzxxBOd/4AAoBDO5AMA78uMGTP+bNvZ\n",
              "Z5+d559/PuPGjUuSfPazn2335/AOP/zwHHfccXn11VczceLEbf6pvK985StZu3Ztjj766CRJW1tb\n",
              "Zs6cmbFjx3ba4wCAkjRUVVV19xAAAADAjvN2fQAAACiEyAcAAIBCiHwAAAAohMgHAACAQoh8AAAA\n",
              "KITIBwAAgEKIfAAAACiEyAcAAIBCiHwAAAAohMgHAACAQoh8AAAAKMT/A1W6lskjKqdXAAAAAElF\n",
              "TkSuQmCC\n",
              "\">\n",
              "      </div>\n",
              "      <script type=\"text/javascript\">\n",
              "        (() => {\n",
              "          const chartElement = document.getElementById(\"chart-5e48e82e-efdd-4439-9472-b9751e3a0a7c\");\n",
              "          async function getCodeForChartHandler(event) {\n",
              "            const chartCodeResponse =  await google.colab.kernel.invokeFunction(\n",
              "                'getCodeForChart', [\"chart-5e48e82e-efdd-4439-9472-b9751e3a0a7c\"], {});\n",
              "            const responseJson = chartCodeResponse.data['application/json'];\n",
              "            await google.colab.notebook.addCell(responseJson.code, 'code');\n",
              "          }\n",
              "          chartElement.onclick = getCodeForChartHandler;\n",
              "        })();\n",
              "      </script>\n",
              "      <style>\n",
              "        .colab-quickchart-chart-with-code  {\n",
              "            display: block;\n",
              "            float: left;\n",
              "            border: 1px solid transparent;\n",
              "        }\n",
              "\n",
              "        .colab-quickchart-chart-with-code:hover {\n",
              "            cursor: pointer;\n",
              "            border: 1px solid #aaa;\n",
              "        }\n",
              "      </style>"
            ]
          },
          "metadata": {}
        }
      ]
    }
  ]
}